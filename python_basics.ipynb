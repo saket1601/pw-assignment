{
 "cells": [
  {
   "cell_type": "markdown",
   "id": "c31a920a",
   "metadata": {},
   "source": [
    "### What is Python, and why is it popular?\n",
    "Python is a high-level, interpreted programming language known for its simplicity and readability. It is popular because of its wide range of applications, large community, and vast collection of libraries."
   ]
  },
  {
   "cell_type": "markdown",
   "id": "fb7de147",
   "metadata": {},
   "source": [
    "### What is an interpreter in Python?\n",
    "An interpreter in Python executes the code line by line and translates it into machine code at runtime."
   ]
  },
  {
   "cell_type": "markdown",
   "id": "3f128312",
   "metadata": {},
   "source": [
    "### What are pre-defined keywords in Python?\n",
    "Pre-defined keywords are reserved words in Python that have special meaning and cannot be used as identifiers (e.g., if, else, while, def, class)."
   ]
  },
  {
   "cell_type": "markdown",
   "id": "122cfa77",
   "metadata": {},
   "source": [
    "### Can keywords be used as variable names?\n",
    "No, keywords cannot be used as variable names in Python."
   ]
  },
  {
   "cell_type": "markdown",
   "id": "2aef6fdb",
   "metadata": {},
   "source": [
    "### What is mutability in Python?\n",
    "Mutability refers to whether or not an object’s value can be changed after it is created. Lists are mutable, while tuples are immutable."
   ]
  },
  {
   "cell_type": "markdown",
   "id": "4d088333",
   "metadata": {},
   "source": [
    "### Why are lists mutable, but tuples are immutable?\n",
    "Lists are designed to allow changes (e.g., adding, removing items), whereas tuples are fixed-size and designed for safety and performance."
   ]
  },
  {
   "cell_type": "markdown",
   "id": "a1c8d8e6",
   "metadata": {},
   "source": [
    "### What is the difference between '==' and 'is' operators in Python?\n",
    "'==' compares values for equality, while 'is' compares object identities (whether they are the same object in memory)."
   ]
  },
  {
   "cell_type": "markdown",
   "id": "9de7670c",
   "metadata": {},
   "source": [
    "### What are logical operators in Python?\n",
    "Logical operators include 'and', 'or', and 'not' and are used to combine conditional statements."
   ]
  },
  {
   "cell_type": "markdown",
   "id": "d16444f5",
   "metadata": {},
   "source": [
    "### What is type casting in Python?\n",
    "Type casting is converting one data type into another, such as converting a string to an integer using int()."
   ]
  },
  {
   "cell_type": "markdown",
   "id": "6893bf3a",
   "metadata": {},
   "source": [
    "### What is the difference between implicit and explicit type casting?\n",
    "Implicit casting is automatically done by Python, while explicit casting is done by the programmer using functions like int(), float(), str()."
   ]
  },
  {
   "cell_type": "markdown",
   "id": "c1fc890e",
   "metadata": {},
   "source": [
    "### What is the purpose of conditional statements in Python?\n",
    "Conditional statements (if, elif, else) control the flow of execution based on conditions."
   ]
  },
  {
   "cell_type": "markdown",
   "id": "388abde6",
   "metadata": {},
   "source": [
    "### How does the elif statement work?\n",
    "'elif' allows checking multiple expressions for True and executes the first one that is True."
   ]
  },
  {
   "cell_type": "markdown",
   "id": "bf920335",
   "metadata": {},
   "source": [
    "### What is the difference between for and while loops?\n",
    "'for' loops are used when the number of iterations is known, while 'while' loops are used when the condition needs to be checked repeatedly until it becomes False."
   ]
  },
  {
   "cell_type": "markdown",
   "id": "afceb595",
   "metadata": {},
   "source": [
    "### Describe a scenario where a while loop is more suitable than a for loop.\n",
    "A while loop is better when the number of iterations is unknown, such as reading input until the user types 'exit'."
   ]
  },
  {
   "cell_type": "markdown",
   "id": "990f1ac3",
   "metadata": {},
   "source": [
    "### Write a Python program to print 'Hello, World!'"
   ]
  },
  {
   "cell_type": "code",
   "execution_count": null,
   "id": "4d50d277",
   "metadata": {},
   "outputs": [],
   "source": [
    "print('Hello, World!')"
   ]
  },
  {
   "cell_type": "markdown",
   "id": "7c4408be",
   "metadata": {},
   "source": [
    "### Write a Python program that displays your name and age."
   ]
  },
  {
   "cell_type": "code",
   "execution_count": null,
   "id": "0ffee6c0",
   "metadata": {},
   "outputs": [],
   "source": [
    "name = 'John'\n",
    "age = 25\n",
    "print(f'My name is {name} and I am {age} years old.')"
   ]
  },
  {
   "cell_type": "markdown",
   "id": "ad294272",
   "metadata": {},
   "source": [
    "### Write code to print all the pre-defined keywords in Python using the keyword library."
   ]
  },
  {
   "cell_type": "code",
   "execution_count": null,
   "id": "af826830",
   "metadata": {},
   "outputs": [],
   "source": [
    "import keyword\n",
    "print(keyword.kwlist)"
   ]
  },
  {
   "cell_type": "markdown",
   "id": "5e546a8d",
   "metadata": {},
   "source": [
    "### Write a program that checks if a given word is a Python keyword."
   ]
  },
  {
   "cell_type": "code",
   "execution_count": null,
   "id": "4fc00981",
   "metadata": {},
   "outputs": [],
   "source": [
    "import keyword\n",
    "word = input('Enter a word: ')\n",
    "print(keyword.iskeyword(word))"
   ]
  },
  {
   "cell_type": "markdown",
   "id": "4539b2b8",
   "metadata": {},
   "source": [
    "### Create a list and tuple in Python, and demonstrate how attempting to change an element works differently for each."
   ]
  },
  {
   "cell_type": "code",
   "execution_count": null,
   "id": "a909bbf4",
   "metadata": {},
   "outputs": [],
   "source": [
    "lst = [1, 2, 3]\n",
    "tpl = (1, 2, 3)\n",
    "lst[0] = 100  # Works\n",
    "# tpl[0] = 100  # Error\n",
    "print('List:', lst)\n",
    "print('Tuple:', tpl)"
   ]
  },
  {
   "cell_type": "markdown",
   "id": "ddc6a1f5",
   "metadata": {},
   "source": [
    "### Write a function to demonstrate the behavior of mutable and immutable arguments."
   ]
  },
  {
   "cell_type": "code",
   "execution_count": null,
   "id": "23b98084",
   "metadata": {},
   "outputs": [],
   "source": [
    "def modify_list(lst):\n",
    "    lst.append(100)\n",
    "def modify_int(n):\n",
    "    n += 100\n",
    "lst = [1, 2, 3]\n",
    "n = 5\n",
    "modify_list(lst)\n",
    "modify_int(n)\n",
    "print(lst)\n",
    "print(n)"
   ]
  },
  {
   "cell_type": "markdown",
   "id": "faa47262",
   "metadata": {},
   "source": [
    "### Write a program that performs basic arithmetic operations on two user-input numbers."
   ]
  },
  {
   "cell_type": "code",
   "execution_count": null,
   "id": "6036b38b",
   "metadata": {},
   "outputs": [],
   "source": [
    "a = float(input('Enter first number: '))\n",
    "b = float(input('Enter second number: '))\n",
    "print('Sum:', a + b)\n",
    "print('Difference:', a - b)\n",
    "print('Product:', a * b)\n",
    "print('Quotient:', a / b)"
   ]
  },
  {
   "cell_type": "markdown",
   "id": "7ab74d1f",
   "metadata": {},
   "source": [
    "### Write a program to demonstrate the use of logical operators."
   ]
  },
  {
   "cell_type": "code",
   "execution_count": null,
   "id": "f591cf4e",
   "metadata": {},
   "outputs": [],
   "source": [
    "a = 10\n",
    "b = 5\n",
    "print(a > 5 and b < 10)\n",
    "print(not a == b)"
   ]
  },
  {
   "cell_type": "markdown",
   "id": "dbb33be8",
   "metadata": {},
   "source": [
    "### Write a Python program to convert user input from string to integer, float, and boolean types."
   ]
  },
  {
   "cell_type": "code",
   "execution_count": null,
   "id": "efc2b623",
   "metadata": {},
   "outputs": [],
   "source": [
    "s = input('Enter a number: ')\n",
    "print('Integer:', int(s))\n",
    "print('Float:', float(s))\n",
    "print('Boolean:', bool(int(s)))"
   ]
  },
  {
   "cell_type": "markdown",
   "id": "d92f97a7",
   "metadata": {},
   "source": [
    "### Write code to demonstrate type casting with list elements."
   ]
  },
  {
   "cell_type": "code",
   "execution_count": null,
   "id": "871558f9",
   "metadata": {},
   "outputs": [],
   "source": [
    "lst = ['1', '2', '3']\n",
    "int_lst = list(map(int, lst))\n",
    "print(int_lst)"
   ]
  },
  {
   "cell_type": "markdown",
   "id": "4f729070",
   "metadata": {},
   "source": [
    "### Write a program that checks if a number is positive, negative, or zero."
   ]
  },
  {
   "cell_type": "code",
   "execution_count": null,
   "id": "16aaf2b3",
   "metadata": {},
   "outputs": [],
   "source": [
    "n = int(input('Enter a number: '))\n",
    "if n > 0:\n",
    "    print('Positive')\n",
    "elif n < 0:\n",
    "    print('Negative')\n",
    "else:\n",
    "    print('Zero')"
   ]
  },
  {
   "cell_type": "markdown",
   "id": "70516259",
   "metadata": {},
   "source": [
    "### Write a for loop to print numbers from 1 to 10."
   ]
  },
  {
   "cell_type": "code",
   "execution_count": null,
   "id": "645b60aa",
   "metadata": {},
   "outputs": [],
   "source": [
    "for i in range(1, 11):\n",
    "    print(i)"
   ]
  },
  {
   "cell_type": "markdown",
   "id": "b245726c",
   "metadata": {},
   "source": [
    "### Write a Python program to find the sum of all even numbers between 1 and 50."
   ]
  },
  {
   "cell_type": "code",
   "execution_count": null,
   "id": "ea388305",
   "metadata": {},
   "outputs": [],
   "source": [
    "total = 0\n",
    "for i in range(2, 51, 2):\n",
    "    total += i\n",
    "print('Sum of even numbers from 1 to 50:', total)"
   ]
  },
  {
   "cell_type": "markdown",
   "id": "4bade652",
   "metadata": {},
   "source": [
    "### Write a program to reverse a string using a while loop."
   ]
  },
  {
   "cell_type": "code",
   "execution_count": null,
   "id": "6f4f2a16",
   "metadata": {},
   "outputs": [],
   "source": [
    "s = input('Enter a string: ')\n",
    "rev = ''\n",
    "i = len(s) - 1\n",
    "while i >= 0:\n",
    "    rev += s[i]\n",
    "    i -= 1\n",
    "print('Reversed string:', rev)"
   ]
  },
  {
   "cell_type": "markdown",
   "id": "a7e26dcb",
   "metadata": {},
   "source": [
    "### Write a Python program to calculate the factorial of a number provided by the user using a while loop."
   ]
  },
  {
   "cell_type": "code",
   "execution_count": null,
   "id": "da89e84f",
   "metadata": {},
   "outputs": [],
   "source": [
    "n = int(input('Enter a number: '))\n",
    "fact = 1\n",
    "while n > 1:\n",
    "    fact *= n\n",
    "    n -= 1\n",
    "print('Factorial:', fact)"
   ]
  }
 ],
 "metadata": {},
 "nbformat": 4,
 "nbformat_minor": 5
}