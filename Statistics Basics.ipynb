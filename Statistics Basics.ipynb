{
 "cells": [
  {
   "cell_type": "markdown",
   "id": "ac545027",
   "metadata": {},
   "source": [
    "# *STATISTICS BASICS*"
   ]
  },
  {
   "cell_type": "markdown",
   "id": "d4181924",
   "metadata": {},
   "source": [
    "### 1. What is the difference between descriptive statistics and inferential statistics? Explain with examples."
   ]
  },
  {
   "cell_type": "markdown",
   "id": "33432c6b",
   "metadata": {},
   "source": [
    "Statistics is broadly classified into two categories: Descriptive Statistics and Inferential Statistics. Both are used to analyze data, but they serve different purposes.\n",
    "\n",
    "**1. Descriptive Statistics**\n",
    "\n",
    "- **Definition**\n",
    "\n",
    "Descriptive statistics deals with summarizing, organizing, and presenting data in a meaningful way. It does not go beyond the data given.\n",
    "\n",
    "- **Key Features**\n",
    "    - Describes data as it is.\n",
    "    - Focuses on central tendency (mean, median, mode).\n",
    "    - Focuses on dispersion (range, variance, standard deviation).\n",
    "-   Uses graphs and charts (bar chart, pie chart, histogram).\n",
    "\n",
    "- **Example** \n",
    "    - A teacher calculates the average marks of her class in Mathematics.\n",
    "    - Suppose marks of 5 students are: 60, 70, 80, 90, 100.\n",
    "    - Mean = (60 + 70 + 80 + 90 + 100) / 5 = 80.\n",
    "    - Here, 80 is a descriptive statistic—it tells us the class performance but only for those 5 students.\n",
    "\n",
    "**2. Inferential Statistics**\n",
    "\n",
    "- **Definition**\n",
    "\n",
    "Inferential statistics goes beyond the data at hand. It uses sample data to make predictions, inferences, or generalizations about a larger population.\n",
    "\n",
    "- **Key Features**\n",
    "    - Works with samples and generalizes to populations.\n",
    "    - Uses probability theory.\n",
    "    - Involves hypothesis testing, confidence intervals, regression analysis, correlation.\n",
    "\n",
    "- **Example**\n",
    "    - Suppose a survey is conducted on 100 students from a university to know the average height.\n",
    "    - The sample mean height is 165 cm.\n",
    "    - Using inferential statistics, we conclude that the average height of all students in the university (population) is likely around 165 cm, with some margin of error.\n",
    "    - Here, we are not limited to the 100 students but making inferences about the entire university."
   ]
  },
  {
   "cell_type": "markdown",
   "id": "bf800a6d",
   "metadata": {},
   "source": [
    "### 2. What is sampling in statistics? Explain the differences between random and stratified sampling?"
   ]
  },
  {
   "cell_type": "markdown",
   "id": "4596ba81",
   "metadata": {},
   "source": [
    "**Definition of Sampling**\n",
    "\n",
    "**Sampling** is the method of selecting a subset (called a sample) from a larger group (called the population) in order to make conclusions or inferences about the population.\n",
    "\n",
    "- Population: The entire group of interest.\n",
    "- Sample: A smaller part of the population chosen for analysis.\n",
    "- Example\n",
    "    - If a company has 10,000 employees and wants to know the average salary, it may select a sample of 500 employees and calculate their average salary. This sample average is then used to estimate the population average.\n",
    "\n",
    "**Differences between random and stratified sampling**\n",
    "\n",
    "**1. Random Sampling**\n",
    "\n",
    "- *Definition:* In random sampling, every individual in the population has an equal chance of being selected.\n",
    "\n",
    "- *How it works:* Selection is often done using random number generators, lottery methods, or computer algorithms.\n",
    "\n",
    "- *Advantages:*\n",
    "    - Removes bias.\n",
    "    - Results are more likely to represent the population.\n",
    "- *Disadvantages:*\n",
    "    - May still miss important sub-groups.\n",
    "    - Requires a complete list of the population.\n",
    "\n",
    "- *Example:* Choosing 50 students at random from a university to study their study habits. Every student has an equal chance of selection.\n",
    "\n",
    "**2. Stratified Sampling**\n",
    "\n",
    "- *Definition:* In stratified sampling, the population is divided into subgroups (strata) based on shared characteristics (e.g., age, gender, income level). Then, random samples are drawn from each stratum in proportion to their size.\n",
    "\n",
    "- *Advantages:*\n",
    "    - Ensures representation of all sub-groups.\n",
    "    - More accurate than simple random sampling when population is diverse.\n",
    "- *Disadvantages:*\n",
    "    - Requires knowledge of population characteristics.\n",
    "    - More complex to organize.\n",
    "\n",
    "- *Example:* Suppose a college has 60% male and 40% female students. To survey 100 students: \n",
    "Randomly pick 60 males and 40 females to maintain the same proportion as the population.\n",
    "\n"
   ]
  },
  {
   "cell_type": "markdown",
   "id": "0ef59e78",
   "metadata": {},
   "source": [
    "### 3. Define mean, median, and mode. Explain why these measures of central tendency are important."
   ]
  },
  {
   "cell_type": "markdown",
   "id": "e5fbd190",
   "metadata": {},
   "source": [
    "**Introduction**\n",
    "In statistics, **measures of central tendency** are values that describe the **center or typical value** of a dataset.  \n",
    "The three most common measures are:\n",
    "\n",
    "- **Mean** → Arithmetic average  \n",
    "- **Median** → Middle value  \n",
    "- **Mode** → Most frequent value  \n",
    "\n",
    "**Mean**\n",
    "\n",
    "- *Definition*:\n",
    "The mean (arithmetic average) is the sum of all observations divided by the number of observations.\n",
    "\n",
    "- *Formula*:  \n",
    "\n",
    "\\[\n",
    "\\bar{x} = \\frac{\\text{Sum of all values}}{\\text{Number of values}}\n",
    "\\]\n",
    "\n",
    "- *Example*:  \n",
    "Data = 10, 20, 30, 40, 50  \n",
    "\n",
    "\\[\n",
    "\\bar{x} = \\frac{10+20+30+40+50}{5} = 30\n",
    "\\]\n",
    "\n",
    "**Median**\n",
    "\n",
    "- *Definition*:  \n",
    "    - If number of observations = odd → Middle value  \n",
    "    - If number of observations = even → Average of two middle values  \n",
    "\n",
    "- *Example*:  \n",
    "Data = 5, 7, 9, 12, 15 → Median = **9**  \n",
    "Data = 5, 7, 9, 12, 15, 20 → Median = (9+12)/2 = **10.5**\n",
    "\n",
    "**Mode**\n",
    "\n",
    "- *Definition*: \n",
    "Value that occurs most often.  \n",
    "\n",
    "- *Example*:  \n",
    "Data = 2, 3, 3, 4, 5, 5, 5, 6 → Mode = **5**\n",
    "\n"
   ]
  },
  {
   "cell_type": "markdown",
   "id": "42baa02e",
   "metadata": {},
   "source": [
    "### 4. Explain skewness and kurtosis. What does a positive skew imply about the data?"
   ]
  },
  {
   "cell_type": "markdown",
   "id": "4207d123",
   "metadata": {
    "vscode": {
     "languageId": "tex"
    }
   },
   "source": [
    "**1. Skewness**\n",
    "\n",
    "- **Definition**:  \n",
    "Skewness measures the **asymmetry** of the distribution of data.  \n",
    "\n",
    "    - **Symmetrical data** → Skewness ≈ 0  \n",
    "    - **Positive skew (Right-skewed)** → Tail on the right side is longer, mean > median  \n",
    "    - **Negative skew (Left-skewed)** → Tail on the left side is longer, mean < median  \n",
    "\n",
    "- **Formula for Sample Skewness**:  \n",
    "\n",
    "\\[\n",
    "\\text{Skewness} = \\frac{n}{(n-1)(n-2)} \\sum \\left(\\frac{x_i - \\bar{x}}{s}\\right)^3\n",
    "\\]\n",
    "\n",
    "where:  \n",
    "- \\( n \\) = number of observations  \n",
    "- \\( \\bar{x} \\) = mean  \n",
    "- \\( s \\) = standard deviation  \n",
    "\n",
    "**2. Kurtosis**\n",
    "\n",
    "- **Definition**:  \n",
    "Kurtosis measures the **tailedness** or **peakedness** of a distribution compared to a normal distribution.  \n",
    "\n",
    "    - **Mesokurtic (Kurtosis ≈ 3)** → Normal distribution  \n",
    "    - **Leptokurtic (Kurtosis > 3)** → Sharper peak, heavy tails (more outliers)  \n",
    "    - **Platykurtic (Kurtosis < 3)** → Flatter peak, light tails  \n",
    "\n",
    "- **Formula for Sample Kurtosis**:  \n",
    "\n",
    "\\[\n",
    "\\text{Kurtosis} = \\frac{n(n+1)}{(n-1)(n-2)(n-3)} \\sum \\left(\\frac{x_i - \\bar{x}}{s}\\right)^4 - \\frac{3(n-1)^2}{(n-2)(n-3)}\n",
    "\\]\n",
    "\n",
    "\n",
    "**Positive Skew Implies of**\n",
    "- Data has a **long right tail**.  \n",
    "- Most values are concentrated on the **left side**, with a few extreme large values pulling the mean to the right.  \n",
    "- Example: **Income distribution** in most countries (few people earn extremely high salaries, while most earn moderate salaries).  \n",
    "\n"
   ]
  },
  {
   "cell_type": "markdown",
   "id": "c12a0ec5",
   "metadata": {},
   "source": [
    "### 5. Implement a Python program to compute the mean, median, and mode of a given list of numbers.\n",
    "numbers = [12, 15, 12, 18, 19, 12, 20, 22, 19, 19, 24, 24, 24, 26, 28]"
   ]
  },
  {
   "cell_type": "markdown",
   "id": "562f9ccd",
   "metadata": {},
   "source": [
    "Program to Compute Mean, Median, and Mode\n",
    "\n",
    "We will use Python's **statistics** module to compute the measures of central tendency:\n",
    "- **Mean** → Arithmetic average  \n",
    "- **Median** → Middle value  \n",
    "- **Mode** → Most frequent value  \n"
   ]
  },
  {
   "cell_type": "code",
   "execution_count": 1,
   "id": "2055dd2e",
   "metadata": {},
   "outputs": [
    {
     "name": "stdout",
     "output_type": "stream",
     "text": [
      "Numbers: [12, 15, 12, 18, 19, 12, 20, 22, 19, 19, 24, 24, 24, 26, 28]\n",
      "Mean: 19.6\n",
      "Median: 19\n",
      "Mode: 12\n"
     ]
    }
   ],
   "source": [
    "import statistics as stats\n",
    "\n",
    "# Given data\n",
    "numbers = [12, 15, 12, 18, 19, 12, 20, 22, 19, 19, 24, 24, 24, 26, 28]\n",
    "\n",
    "# Calculations\n",
    "mean_val = stats.mean(numbers)\n",
    "median_val = stats.median(numbers)\n",
    "mode_val = stats.mode(numbers)\n",
    "\n",
    "print(\"Numbers:\", numbers)\n",
    "print(\"Mean:\", mean_val)\n",
    "print(\"Median:\", median_val)\n",
    "print(\"Mode:\", mode_val)\n"
   ]
  },
  {
   "cell_type": "markdown",
   "id": "64683802",
   "metadata": {},
   "source": [
    "### 6. Compute the covariance and correlation coefficient between the following two datasets provided as lists in Python:\n",
    "list_x = [10, 20, 30, 40, 50]\n",
    "list_y = [15, 25, 35, 45, 60]"
   ]
  },
  {
   "cell_type": "code",
   "execution_count": 2,
   "id": "5bf875a4",
   "metadata": {},
   "outputs": [
    {
     "name": "stdout",
     "output_type": "stream",
     "text": [
      "Covariance between X and Y: 275.0\n",
      "Correlation coefficient (r): 0.995893206467704\n"
     ]
    }
   ],
   "source": [
    "import numpy as np\n",
    "\n",
    "# Given data\n",
    "list_x = [10, 20, 30, 40, 50]\n",
    "list_y = [15, 25, 35, 45, 60]\n",
    "\n",
    "# Convert to numpy arrays\n",
    "x = np.array(list_x)\n",
    "y = np.array(list_y)\n",
    "\n",
    "# Covariance matrix (2x2)\n",
    "cov_matrix = np.cov(x, y, ddof=1)\n",
    "cov_xy = cov_matrix[0, 1]\n",
    "\n",
    "# Correlation coefficient\n",
    "corr_xy = np.corrcoef(x, y)[0, 1]\n",
    "\n",
    "print(\"Covariance between X and Y:\", cov_xy)\n",
    "print(\"Correlation coefficient (r):\", corr_xy)\n"
   ]
  },
  {
   "cell_type": "markdown",
   "id": "b0f07425",
   "metadata": {},
   "source": [
    "### 7. Write a Python script to draw a boxplot for the following numeric list and identify its outliers. Explain the result:\n",
    "data = [12, 14, 14, 15, 18, 19, 19, 21, 22, 22, 23, 23, 24, 26, 29, 35]"
   ]
  },
  {
   "cell_type": "code",
   "execution_count": 3,
   "id": "23807910",
   "metadata": {},
   "outputs": [
    {
     "name": "stdout",
     "output_type": "stream",
     "text": [
      "Q1: 17.25\n",
      "Q3: 23.25\n",
      "IQR: 6.0\n",
      "Lower bound: 8.25\n",
      "Upper bound: 32.25\n",
      "Outliers: [35]\n"
     ]
    },
    {
     "data": {
      "image/png": "[encoded data removed]",
      "text/plain": [
       "<Figure size 640x480 with 1 Axes>"
      ]
     },
     "metadata": {},
     "output_type": "display_data"
    }
   ],
   "source": [
    "import numpy as np\n",
    "import matplotlib.pyplot as plt\n",
    "\n",
    "# Data\n",
    "data = [12, 14, 14, 15, 18, 19, 19, 21, 22, 22, 23, 23, 24, 26, 29, 35]\n",
    "\n",
    "# Quartiles\n",
    "Q1 = np.percentile(data, 25)\n",
    "Q3 = np.percentile(data, 75)\n",
    "IQR = Q3 - Q1\n",
    "\n",
    "# Outlier bounds\n",
    "lower_bound = Q1 - 1.5 * IQR\n",
    "upper_bound = Q3 + 1.5 * IQR\n",
    "\n",
    "# Outliers\n",
    "outliers = [x for x in data if x < lower_bound or x > upper_bound]\n",
    "\n",
    "# Print results\n",
    "print(\"Q1:\", Q1)\n",
    "print(\"Q3:\", Q3)\n",
    "print(\"IQR:\", IQR)\n",
    "print(\"Lower bound:\", lower_bound)\n",
    "print(\"Upper bound:\", upper_bound)\n",
    "print(\"Outliers:\", outliers)\n",
    "\n",
    "# Draw boxplot\n",
    "plt.boxplot(data, vert=False, patch_artist=True)\n",
    "plt.title(\"Boxplot with Outlier Detection\")\n",
    "plt.xlabel(\"Value\")\n",
    "plt.show()\n"
   ]
  },
  {
   "cell_type": "markdown",
   "id": "4ad9883a",
   "metadata": {},
   "source": [
    "### 8. You are working as a data analyst in an e-commerce company. The marketing team wants to know if there is a relationship between advertising spend and daily sales.\n",
    "● Explain how you would use covariance and correlation to explore this relationship.\n",
    "● Write Python code to compute the correlation between the two lists:\n",
    "advertising_spend = [200, 250, 300, 400, 500]\n",
    "daily_sales = [2200, 2450, 2750, 3200, 4000]"
   ]
  },
  {
   "cell_type": "markdown",
   "id": "3ff6b6ca",
   "metadata": {},
   "source": [
    "**Exploring Relationship between Advertising Spend and Daily Sales**\n",
    "\n",
    "**1. Using Covariance**\n",
    "\n",
    "- **Covariance** tells us whether two variables move together.  \n",
    "    - Formula:  \n",
    "\\[\n",
    "\\text{Cov}(X,Y) = \\frac{\\sum (x_i - \\bar{x})(y_i - \\bar{y})}{n-1}\n",
    "\\]  \n",
    "- **Interpretation**:  \n",
    "  - Positive covariance → As advertising spend increases, sales tend to increase.  \n",
    "  - Negative covariance → As advertising spend increases, sales tend to decrease.  \n",
    "  - Near zero → No consistent relationship.  \n",
    "- Limitation: Covariance only shows **direction**, not strength.\n",
    "\n",
    "**2. Using Correlation**\n",
    "\n",
    "- **Correlation coefficient (r)** standardizes covariance.  \n",
    "    - Formula:  \n",
    "\\[\n",
    "r = \\frac{\\text{Cov}(X,Y)}{\\sigma_X \\cdot \\sigma_Y}\n",
    "\\]  \n",
    "- **Range**:  \n",
    "  - \\( r = 1 \\) → Perfect positive correlation  \n",
    "  - \\( r = -1 \\) → Perfect negative correlation  \n",
    "  - \\( r = 0 \\) → No linear correlation  \n",
    "- Advantage: Shows both **direction and strength** of relationship.\n",
    "\n",
    "\n",
    "\n",
    "**3. Given Data**\n",
    "- Advertising Spend = [200, 250, 300, 400, 500]  \n",
    "- Daily Sales = [2200, 2450, 2750, 3200, 4000]  \n"
   ]
  },
  {
   "cell_type": "code",
   "execution_count": 4,
   "id": "2cdd31f2",
   "metadata": {},
   "outputs": [
    {
     "name": "stdout",
     "output_type": "stream",
     "text": [
      "Covariance: 84875.0\n",
      "Correlation coefficient (r): 0.9935824101653329\n"
     ]
    }
   ],
   "source": [
    "import numpy as np\n",
    "\n",
    "# Given data\n",
    "advertising_spend = [200, 250, 300, 400, 500]\n",
    "daily_sales = [2200, 2450, 2750, 3200, 4000]\n",
    "\n",
    "x = np.array(advertising_spend)\n",
    "y = np.array(daily_sales)\n",
    "\n",
    "# Covariance matrix\n",
    "cov_matrix = np.cov(x, y, ddof=1)\n",
    "cov_xy = cov_matrix[0, 1]\n",
    "\n",
    "# Correlation coefficient\n",
    "corr_xy = np.corrcoef(x, y)[0, 1]\n",
    "\n",
    "print(\"Covariance:\", cov_xy)\n",
    "print(\"Correlation coefficient (r):\", corr_xy)\n"
   ]
  },
  {
   "cell_type": "markdown",
   "id": "52d11839",
   "metadata": {},
   "source": [
    "### 9. Your team has collected customer satisfaction survey data on a scale of 1-10 and wants to understand its distribution before launching a new product.\n",
    "● Explain which summary statistics and visualizations (e.g. mean, standard deviation, histogram) you’d use.\n",
    "● Write Python code to create a histogram using Matplotlib for the survey data:\n",
    "survey_scores = [7, 8, 5, 9, 6, 7, 8, 9, 10, 4, 7, 6, 9, 8, 7]"
   ]
  },
  {
   "cell_type": "markdown",
   "id": "2761f865",
   "metadata": {},
   "source": [
    "Customer Satisfaction Survey Analysis\n",
    "\n",
    "**1. Summary Statistics to Use**\n",
    "\n",
    "To understand the distribution of survey scores (1–10 scale), the following statistics are helpful:\n",
    "\n",
    "- **Mean**: Average satisfaction score → Shows overall customer satisfaction.  \n",
    "- **Median**: Middle score → Useful if the data has outliers.  \n",
    "- **Mode**: Most frequent score → Indicates common opinion.  \n",
    "- **Standard Deviation (SD)**: Measures spread of scores → How varied customer opinions are.  \n",
    "- **Minimum & Maximum**: Identify range of responses.\n",
    "\n",
    "**2. Visualizations**\n",
    "\n",
    "Visualizations make it easier to spot patterns:\n",
    "\n",
    "- **Histogram**: Shows frequency of each score → Understand distribution.  \n",
    "- **Boxplot**: Detects outliers and skewness.  \n",
    "- **Bar Chart**: Alternative to histogram for discrete scales.\n",
    "\n",
    "\n",
    "*Given Data*\n",
    "\\[\n",
    "survey\\_scores = [7, 8, 5, 9, 6, 7, 8, 9, 10, 4, 7, 6, 9, 8, 7]\n",
    "\\]\n"
   ]
  },
  {
   "cell_type": "code",
   "execution_count": 5,
   "id": "1ee979dd",
   "metadata": {},
   "outputs": [
    {
     "name": "stdout",
     "output_type": "stream",
     "text": [
      "Mean: 7.333333333333333\n",
      "Median: 7\n",
      "Mode: 7\n",
      "Standard Deviation: 1.632993161855452\n",
      "Min: 4\n",
      "Max: 10\n"
     ]
    },
    {
     "data": {
      "image/png": "[encoded data removed]",
      "text/plain": [
       "<Figure size 640x480 with 1 Axes>"
      ]
     },
     "metadata": {},
     "output_type": "display_data"
    }
   ],
   "source": [
    "import matplotlib.pyplot as plt\n",
    "import numpy as np\n",
    "import statistics as stats\n",
    "\n",
    "# Survey data\n",
    "survey_scores = [7, 8, 5, 9, 6, 7, 8, 9, 10, 4, 7, 6, 9, 8, 7]\n",
    "\n",
    "# Summary statistics\n",
    "mean_val = stats.mean(survey_scores)\n",
    "median_val = stats.median(survey_scores)\n",
    "mode_val = stats.mode(survey_scores)\n",
    "std_dev = stats.stdev(survey_scores)\n",
    "\n",
    "print(\"Mean:\", mean_val)\n",
    "print(\"Median:\", median_val)\n",
    "print(\"Mode:\", mode_val)\n",
    "print(\"Standard Deviation:\", std_dev)\n",
    "print(\"Min:\", min(survey_scores))\n",
    "print(\"Max:\", max(survey_scores))\n",
    "\n",
    "# Histogram\n",
    "plt.hist(survey_scores, bins=range(4,12), edgecolor='black', color='skyblue', rwidth=0.8)\n",
    "plt.title(\"Customer Satisfaction Survey Histogram\")\n",
    "plt.xlabel(\"Survey Score\")\n",
    "plt.ylabel(\"Frequency\")\n",
    "plt.xticks(range(4,11))\n",
    "plt.show()\n"
   ]
  },
  {
   "cell_type": "markdown",
   "id": "c15c6e9a",
   "metadata": {},
   "source": []
  }
 ],
 "metadata": {
  "kernelspec": {
   "display_name": "base",
   "language": "python",
   "name": "python3"
  },
  "language_info": {
   "codemirror_mode": {
    "name": "ipython",
    "version": 3
   },
   "file_extension": ".py",
   "mimetype": "text/x-python",
   "name": "python",
   "nbconvert_exporter": "python",
   "pygments_lexer": "ipython3",
   "version": "3.13.5"
  }
 },
 "nbformat": 4,
 "nbformat_minor": 5
}
