{
 "cells": [
  {
   "cell_type": "markdown",
   "id": "1ae7a8e9",
   "metadata": {},
   "source": [
    "# *Statistics Advance*"
   ]
  },
  {
   "cell_type": "markdown",
   "id": "c8308c2a",
   "metadata": {},
   "source": [
    "## 1: What is a Random Variable in Probability Theory?\n",
    "\n",
    "- A **random variable** is a variable that takes different values based on the outcome of a random experiment.  \n",
    "- Instead of being fixed, its value is determined by **chance**.  \n",
    "- Random variables help us connect **outcomes** of experiments with **numerical values** for analysis.  \n",
    "\n"
   ]
  },
  {
   "cell_type": "markdown",
   "id": "f624499c",
   "metadata": {},
   "source": [
    "## 2: What are the types of Random Variables?\n",
    "\n",
    "Random variables are classified into two main types:\n",
    "\n",
    "### 1. Discrete Random Variable\n",
    "- Takes **finite or countably infinite values**.  \n",
    "- Values are **separate and distinct** (whole numbers).  \n",
    "- Probabilities are described using a **Probability Mass Function (PMF)**.  \n",
    "\n",
    "**Examples:**\n",
    "- Number of heads when flipping 3 coins → {0, 1, 2, 3}  \n",
    "- Number of students present in a class on a given day.  \n",
    "\n",
    "### 2. Continuous Random Variable\n",
    "- Takes values from an **interval or range** (uncountably infinite).  \n",
    "- Values are **measured, not counted**.  \n",
    "- Probabilities are described using a **Probability Density Function (PDF)**.  \n",
    "\n",
    "**Examples:**\n",
    "- Height or weight of students.  \n",
    "- Time taken to complete an exam.  \n",
    "- Temperature in a city during a day.  \n",
    "\n"
   ]
  },
  {
   "cell_type": "markdown",
   "id": "950f81b2",
   "metadata": {},
   "source": [
    "## 3: Explain the difference between discrete and continuous distributions.\n",
    "\n",
    "\n",
    "A **distribution** describes how probabilities are assigned to values of a random variable.  \n",
    "Depending on whether the variable is discrete or continuous, we get **two types of distributions**:\n",
    "\n",
    "\n",
    "### 1. Discrete Distribution\n",
    "- Deals with **countable outcomes**.  \n",
    "- Probability of each value is given directly.  \n",
    "- Uses a **Probability Mass Function (PMF)**.  \n",
    "- The sum of probabilities over all values = **1**.  \n",
    "\n",
    "**Examples:**\n",
    "- Binomial Distribution (e.g., number of heads in 10 coin tosses)  \n",
    "- Poisson Distribution (e.g., number of customer arrivals in 1 hour)  \n",
    "\n",
    "\n",
    "### 2. Continuous Distribution\n",
    "- Deals with **uncountable, continuous outcomes** (like measurements).  \n",
    "- Probability of any **exact value** is 0 → Instead, we find probability over an **interval**.  \n",
    "- Uses a **Probability Density Function (PDF)**.  \n",
    "- The total area under the curve = **1**.  \n",
    "\n",
    "**Examples:**\n",
    "- Normal Distribution (e.g., heights of students)  \n",
    "- Exponential Distribution (e.g., time between arrivals in a queue)  \n",
    "\n",
    "\n",
    "### Key Idea:\n",
    "- **Discrete distribution** assigns probabilities to specific values.  \n",
    "- **Continuous distribution** assigns probabilities to ranges of values.\n"
   ]
  },
  {
   "cell_type": "markdown",
   "id": "c9c6e7b3",
   "metadata": {},
   "source": [
    "## 4: What is a binomial distribution, and how is it used in probability?\n",
    "\n",
    "\n",
    "- The **binomial distribution** is a **discrete probability distribution**.  \n",
    "- It describes the number of **successes** in a fixed number of independent trials, where each trial has only two possible outcomes:\n",
    "  - Success (with probability `p`)\n",
    "  - Failure (with probability `q = 1 - p`)\n",
    "\n",
    "\n",
    "### Uses of Binomial Distribution\n",
    "- Predicting outcomes with **yes/no** scenarios.  \n",
    "- **Quality control**: probability of defective items in a batch.  \n",
    "- **Elections**: chance of a candidate winning a fixed number of votes.  \n",
    "- **Sports**: probability a player scores a certain number of goals.  \n",
    "\n",
    "\n",
    "### Key Points\n",
    "- Applies when:\n",
    "  1. Fixed number of trials.  \n",
    "  2. Each trial is independent.  \n",
    "  3. Only two possible outcomes (success/failure).  \n",
    "  4. Probability of success remains the same in each trial.  \n"
   ]
  },
  {
   "cell_type": "markdown",
   "id": "f57adfad",
   "metadata": {},
   "source": [
    "## 5: What is the standard normal distribution, and why is it important?\n",
    "\n",
    "- The **standard normal distribution** is a **special case of the normal distribution**.  \n",
    "- It is a continuous probability distribution that is:\n",
    "  - **Symmetrical** about the mean.  \n",
    "  - Bell-shaped curve.  \n",
    "- In this distribution:\n",
    "  - Mean (\\(\\mu\\)) = 0  \n",
    "  - Standard Deviation (\\(\\sigma\\)) = 1  \n",
    "\n",
    "### Importance\n",
    "\n",
    "1. **Standardization of Data**\n",
    "   - Any normal distribution can be converted to the standard normal distribution using the **Z-score**:\n",
    "     \n",
    "     `Z = \\frac{X - \\mu}{\\sigma}`\n",
    "     \n",
    "   - This allows comparison between different datasets.\n",
    "\n",
    "2. **Probability Calculations**\n",
    "   - Makes it easy to calculate probabilities using **Z-tables** or software.  \n",
    "   - Example: probability that a value lies within 1 standard deviation of the mean.\n",
    "\n",
    "3. **Foundation of Statistics**\n",
    "   - Used in **hypothesis testing**, **confidence intervals**, and **regression analysis**.  \n"
   ]
  },
  {
   "cell_type": "markdown",
   "id": "4a0263bd",
   "metadata": {},
   "source": [
    "## 6: What is the Central Limit Theorem (CLT), and why is it critical in statistics?\n",
    "\n",
    "- The **Central Limit Theorem (CLT)** is one of the most important results in statistics.  \n",
    "- It states that when we take a large number of **independent random samples** from any population (with finite mean and variance),  \n",
    "the **sampling distribution of the sample mean** will approach a **normal distribution**, regardless of the population’s actual distribution.  \n",
    "\n",
    "### Importance of CLT\n",
    "- **Foundation for Inferential Statistics**: Allows us to use normal probability theory even when data is not normal.  \n",
    "- **Confidence Intervals & Hypothesis Testing**: Rely on normality of sample means.  \n",
    "- **Practical Applications**: Used in surveys, polling, quality control, finance, etc.  \n",
    "\n"
   ]
  },
  {
   "cell_type": "markdown",
   "id": "908bd275",
   "metadata": {},
   "source": [
    "## 7: What is the significance of confidence intervals in statistical analysis?\n",
    "\n",
    "- A **confidence interval (CI)** provides a range of values that is likely to contain the **true population parameter** (such as mean or proportion).  \n",
    "- Instead of giving a single estimate (like just the mean), it gives a range with a certain level of confidence.  \n",
    "- Common confidence levels: **90%, 95%, 99%**.  \n",
    "\n",
    "### Significance\n",
    "1. **Provides Range, Not Just Point** → More informative than a single estimate.  \n",
    "2. **Measures Precision** → Narrow interval = more precise estimate.  \n",
    "3. **Helps in Decision-Making** → Used in medicine, business, elections, quality testing.  \n",
    "4. **Connects to Hypothesis Testing** → If a hypothesized value lies outside the CI, it may be rejected.  \n"
   ]
  },
  {
   "cell_type": "markdown",
   "id": "4a736cde",
   "metadata": {},
   "source": [
    "## 8: What is the concept of expected value in a probability distribution?\n",
    "\n",
    "- The **expected value (EV)** is the long-run average outcome of a random variable if an experiment is repeated many times.  \n",
    "- It represents the **center of the probability distribution**.  \n",
    "- Think of it as the \"weighted average\" of all possible values, weighted by their probabilities.  "
   ]
  },
  {
   "cell_type": "markdown",
   "id": "fb0cdc2c",
   "metadata": {},
   "source": [
    "## 9: Write a Python program to generate 1000 random numbers from a normal distribution with mean = 50 and standard deviation = 5. Compute its mean and standard deviation using NumPy, and draw a histogram to visualize the distribution."
   ]
  },
  {
   "cell_type": "code",
   "execution_count": 1,
   "id": "638521bd",
   "metadata": {},
   "outputs": [
    {
     "name": "stdout",
     "output_type": "stream",
     "text": [
      "Calculated Mean: 49.79180117856047\n",
      "Calculated Standard Deviation: 5.07770191041976\n"
     ]
    },
    {
     "data": {
      "image/png": "[encoded data removed]",
      "text/plain": [
       "<Figure size 800x500 with 1 Axes>"
      ]
     },
     "metadata": {},
     "output_type": "display_data"
    }
   ],
   "source": [
    "import numpy as np\n",
    "import matplotlib.pyplot as plt\n",
    "\n",
    "\n",
    "mean = 50\n",
    "std_dev = 5\n",
    "data = np.random.normal(mean, std_dev, 1000)\n",
    "\n",
    "\n",
    "calculated_mean = np.mean(data)\n",
    "calculated_std = np.std(data)\n",
    "\n",
    "print(\"Calculated Mean:\", calculated_mean)\n",
    "print(\"Calculated Standard Deviation:\", calculated_std)\n",
    "\n",
    "\n",
    "plt.figure(figsize=(8,5))\n",
    "plt.hist(data, bins=30, color='skyblue', edgecolor='black', density=True)\n",
    "plt.title(\"Histogram of Normal Distribution (mean=50, std=5)\")\n",
    "plt.xlabel(\"Value\")\n",
    "plt.ylabel(\"Frequency Density\")\n",
    "plt.grid(True, linestyle='--', alpha=0.6)\n",
    "plt.show()\n"
   ]
  },
  {
   "cell_type": "markdown",
   "id": "c5a306dc",
   "metadata": {},
   "source": [
    "## 10: You are working as a data analyst for a retail company. The company has collected daily sales data for 2 years and wants you to identify the overall sales trend.\n",
    "- daily_sales = [220, 245, 210, 265, 230, 250, 260, 275, 240, 255,\n",
    "235, 260, 245, 250, 225, 270, 265, 255, 250, 260]\n",
    "- Explain how you would apply the Central Limit Theorem to estimate the average sales with a 95% confidence interval.\n",
    "- Write the Python code to compute the mean sales and its confidence interval."
   ]
  },
  {
   "cell_type": "markdown",
   "id": "c1b8afb2",
   "metadata": {},
   "source": [
    "- We have **daily sales data** for a company.  \n",
    "- To understand the **overall trend**, we want the **average daily sales** and its **uncertainty**.  \n",
    "\n",
    "### Applying the Central Limit Theorem (CLT)\n",
    "1. **Assumption**: Daily sales are independent observations.  \n",
    "2. According to **CLT**, the **sampling distribution of the sample mean** will be approximately normal if sample size is large.  \n",
    "3. This allows us to calculate a **95% confidence interval (CI)** for the average sales, even if the original sales data is not perfectly normal.  \n",
    "\n"
   ]
  },
  {
   "cell_type": "code",
   "execution_count": 2,
   "id": "944c25c2",
   "metadata": {},
   "outputs": [
    {
     "name": "stdout",
     "output_type": "stream",
     "text": [
      "Mean Daily Sales: 248.25\n",
      "95% Confidence Interval: (240.68, 255.82)\n"
     ]
    }
   ],
   "source": [
    "import numpy as np\n",
    "from scipy import stats\n",
    "\n",
    "\n",
    "daily_sales = [220, 245, 210, 265, 230, 250, 260, 275, 240, 255,\n",
    "               235, 260, 245, 250, 225, 270, 265, 255, 250, 260]\n",
    "\n",
    "\n",
    "mean_sales = np.mean(daily_sales)\n",
    "std_sales = np.std(daily_sales, ddof=1)  \n",
    "n = len(daily_sales)\n",
    "\n",
    "\n",
    "z = 1.96  \n",
    "margin_of_error = z * (std_sales / np.sqrt(n))\n",
    "ci_lower = mean_sales - margin_of_error\n",
    "ci_upper = mean_sales + margin_of_error\n",
    "\n",
    "print(\"Mean Daily Sales:\", mean_sales)\n",
    "print(f\"95% Confidence Interval: ({ci_lower:.2f}, {ci_upper:.2f})\")\n"
   ]
  }
 ],
 "metadata": {
  "kernelspec": {
   "display_name": "Python 3",
   "language": "python",
   "name": "python3"
  },
  "language_info": {
   "codemirror_mode": {
    "name": "ipython",
    "version": 3
   },
   "file_extension": ".py",
   "mimetype": "text/x-python",
   "name": "python",
   "nbconvert_exporter": "python",
   "pygments_lexer": "ipython3",
   "version": "3.13.7"
  }
 },
 "nbformat": 4,
 "nbformat_minor": 5
}
