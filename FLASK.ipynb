{
 "cells": [
  {
   "cell_type": "markdown",
   "id": "48d265fc",
   "metadata": {},
   "source": [
    "### 1. What is a RESTful API?\n",
    "\n",
    "A RESTful API is an application programming interface that conforms to the principles of REST (Representational State Transfer). It uses standard HTTP methods (GET, POST, PUT, DELETE, etc.) to perform operations on resources, which are identified by URLs (endpoints). RESTful APIs are stateless: each request from a client contains all information needed for the server to process it. Responses are usually structured in human- and machine-readable formats like JSON or XML. The design emphasizes scalability, simplicity, and a uniform interface so that different clients (web browsers, mobile apps, services) can interact with the API in a predictable way.\n"
   ]
  },
  {
   "cell_type": "markdown",
   "id": "3ee90128",
   "metadata": {},
   "source": [
    "### 2. Explain the concept of API specification.\n",
    "\n",
    "An API specification is a formal description of how clients should interact with an API: its available endpoints, request and response formats, required parameters, authentication methods, error codes, and other constraints. Specifications such as OpenAPI (formerly Swagger) provide a machine-readable, versioned contract that helps developers, testers, and documentation tools generate client libraries, server stubs, and interactive documentation. A clear specification reduces ambiguity, improves interoperability, and makes it easier to maintain and test APIs across development teams.\n"
   ]
  },
  {
   "cell_type": "markdown",
   "id": "766fec69",
   "metadata": {},
   "source": [
    "### 3. What is Flask, and why is it popular for building APIs?\n",
    "\n",
    "Flask is a lightweight Python web framework that provides the essentials to build web applications and APIs without imposing a lot of structure. It is popular for API development because of its simplicity, minimal boilerplate, clear routing model, built-in development server, and a rich ecosystem of extensions (e.g., Flask-SQLAlchemy, Flask-RESTful, Flask-Migrate). Flask's small core makes it easy to understand and fast to prototype while allowing developers to add only the components they need, which is ideal for RESTful microservices and educational projects.\n"
   ]
  },
  {
   "cell_type": "markdown",
   "id": "e169c7f6",
   "metadata": {},
   "source": [
    "### 4. What is routing in Flask?\n",
    "\n",
    "Routing in Flask is the mechanism that matches incoming HTTP requests (based on URL paths and methods) to Python functions (view functions or route handlers). Developers use decorators like @app.route('/path') to register functions that will be executed when a client requests that path. Routing supports variable parts in URLs, HTTP method specification, and allows clean, RESTful endpoint design.\n"
   ]
  },
  {
   "cell_type": "markdown",
   "id": "175e1b25",
   "metadata": {},
   "source": [
    "### 5. How do you create a simple Flask application?\n",
    "\n",
    "To create a simple Flask application, install Flask (pip install flask), then create a Python file where you import Flask, instantiate the application object, define route handlers with @app.route, and run the app. For example:\n",
    "\n",
    "```python\n",
    "from flask import Flask\n",
    "app = Flask(__name__)\n",
    "\n",
    "@app.route('/')\n",
    "def hello():\n",
    "    return 'Hello, world!'\n",
    "\n",
    "if __name__ == '__main__':\n",
    "    app.run(debug=True)\n",
    "```\n",
    "This minimal app runs a development server and responds to HTTP requests to '/'.\n"
   ]
  },
  {
   "cell_type": "markdown",
   "id": "efb46a10",
   "metadata": {},
   "source": [
    "### 6. What are HTTP methods used in RESTful APIs?\n",
    "\n",
    "Common HTTP methods used in RESTful APIs are GET (retrieve a resource), POST (create a new resource), PUT (replace an existing resource), PATCH (partially update a resource), DELETE (remove a resource), and sometimes HEAD or OPTIONS for metadata and preflight checks. Each method has semantic meaning: for example, GET is safe and idempotent (it should not change server state), while POST typically creates server-side state and is not idempotent.\n"
   ]
  },
  {
   "cell_type": "markdown",
   "id": "9cf3f468",
   "metadata": {},
   "source": [
    "### 7. What is the purpose of the @app.route() decorator in Flask?\n",
    "\n",
    "The @app.route() decorator registers a URL rule with the Flask application. It associates a URL path (and optionally allowed HTTP methods) with the following Python function so that when a request arrives matching that path and method, Flask invokes that function and returns its response. Using decorators keeps route definitions close to their handler logic for readability and organization.\n"
   ]
  },
  {
   "cell_type": "markdown",
   "id": "08b0e207",
   "metadata": {},
   "source": [
    "### 8. What is the difference between GET and POST HTTP methods?\n",
    "\n",
    "GET and POST differ in semantics and usage. GET requests retrieve data and should have no side effects; they encode parameters in the URL (query string) and are cacheable and bookmarkable. POST requests submit data to be processed on the server (e.g., create a resource), send data in the request body, may change server state, and are not generally cached or bookmarked. Security considerations also differ: sensitive data should not be sent in a GET query string as it may be logged or cached.\n"
   ]
  },
  {
   "cell_type": "markdown",
   "id": "c030ea2a",
   "metadata": {},
   "source": [
    "### 9. How do you handle errors in Flask APIs?\n",
    "\n",
    "Error handling in Flask can be done by returning appropriate HTTP status codes and JSON or HTML error payloads, using try/except blocks within route handlers, and by registering error handlers with @app.errorhandler(status_code) for global handling of specific statuses (e.g., 404 or 500). In APIs, it is common to return structured error responses with keys like 'message' and 'code' to make debugging and client-side handling easier.\n"
   ]
  },
  {
   "cell_type": "markdown",
   "id": "e0c107d7",
   "metadata": {},
   "source": [
    "### 10. How do you connect Flask to a SQL database?\n",
    "\n",
    "You can connect Flask to a SQL database either directly using a database driver (like psycopg2 for PostgreSQL, pymysql for MySQL, or sqlite3 for SQLite) or by using an ORM (Object Relational Mapper) like SQLAlchemy or Flask-SQLAlchemy extension. Typically you configure a database URI in the Flask app config (e.g., SQLALCHEMY_DATABASE_URI), initialize the ORM or connection, define models, and use sessions or connections to query and commit transactions.\n"
   ]
  },
  {
   "cell_type": "markdown",
   "id": "0635c671",
   "metadata": {},
   "source": [
    "### 11. What is the role of Flask-SQLAlchemy?\n",
    "\n",
    "Flask-SQLAlchemy is a Flask extension that integrates SQLAlchemy ORM with Flask, simplifying setup and providing patterns that play well with Flask's app context. It manages connections, config, and model definitions, and offers a convenient 'db' object to define models and interact with the database. Using Flask-SQLAlchemy reduces boilerplate and makes database operations more Pythonic and maintainable.\n"
   ]
  },
  {
   "cell_type": "markdown",
   "id": "77f586cb",
   "metadata": {},
   "source": [
    "### 12. What are Flask blueprints, and how are they useful?\n",
    "\n",
    "Flask blueprints provide a way to structure and modularize applications by grouping related routes, templates, static files, and other code into reusable components. Blueprints let you register a set of routes with a URL prefix and optionally create pluggable application components. They are very useful for larger projects where separating authentication, API endpoints, admin panels, and front-end views improves maintainability and team collaboration.\n"
   ]
  },
  {
   "cell_type": "markdown",
   "id": "51ec285a",
   "metadata": {},
   "source": [
    "### 13. What is the purpose of Flask's request object?\n",
    "\n",
    "Flask's request object represents the incoming HTTP request and provides access to data such as query parameters (request.args), form data (request.form), JSON payloads (request.get_json()), headers (request.headers), files (request.files), and other metadata. It is a context-local object, meaning it is safe to access within request handling functions and will reflect the current request automatically.\n"
   ]
  },
  {
   "cell_type": "markdown",
   "id": "12ff00ca",
   "metadata": {},
   "source": [
    "### 14. How do you create a RESTful API endpoint using Flask?\n",
    "\n",
    "To create a RESTful endpoint in Flask, define a route corresponding to the resource path and implement handlers for the relevant HTTP methods. For example, to manage 'books' you might create endpoints like GET /books (list), GET /books/<id> (retrieve), POST /books (create), PUT /books/<id> (update), DELETE /books/<id> (delete). Each handler parses input, interacts with the database or business logic, and returns JSON responses with proper status codes.\n"
   ]
  },
  {
   "cell_type": "markdown",
   "id": "e7be070f",
   "metadata": {},
   "source": [
    "### 15. What is the purpose of Flask's jsonify() function?\n",
    "\n",
    "jsonify() converts Python dictionaries, lists, and other serializable objects into a Flask Response object with application/json content type and properly encoded JSON. It also handles setting the correct mimetype and returns a Response that can include a status code. Using jsonify ensures consistent JSON serialization and avoids manual header manipulation.\n"
   ]
  },
  {
   "cell_type": "markdown",
   "id": "fc03ea5c",
   "metadata": {},
   "source": [
    "### 16. Explain Flask’s url_for() function.\n",
    "\n",
    "url_for() generates the URL for a given endpoint (the Python function name) using the application's routing map. Instead of hard-coding URLs in templates or code, url_for('endpoint', **values) will compute the correct path and inject variable parts. This makes refactoring easier (routes change in one place) and supports URL building in templates and redirects.\n"
   ]
  },
  {
   "cell_type": "markdown",
   "id": "4569f2d5",
   "metadata": {},
   "source": [
    "### 17. How does Flask handle static files (CSS, JavaScript, etc.)?\n",
    "\n",
    "Flask serves static files from the 'static' folder by default. Files placed in that folder are accessible via the '/static/<filename>' URL path. In templates, you typically use url_for('static', filename='css/styles.css') to get the correct path. For production deployments, it's common to let a web server (nginx, Apache) or CDN serve static files for performance and caching control.\n"
   ]
  },
  {
   "cell_type": "markdown",
   "id": "45fe5d0b",
   "metadata": {},
   "source": [
    "### 18. What is an API specification, and how does it help in building a Flask API?\n",
    "\n",
    "An API specification, such as OpenAPI, describes endpoints, request/response models, authentication, and error formats in a machine-readable document. When building a Flask API, a specification helps define a concrete contract that developers implement and test against, facilitates auto-generated API docs (Swagger UI), enables client SDK generation, and improves collaboration between backend and frontend teams by removing ambiguity.\n"
   ]
  },
  {
   "cell_type": "markdown",
   "id": "d3f4de0a",
   "metadata": {},
   "source": [
    "### 19. What are HTTP status codes, and why are they important in a Flask API?\n",
    "\n",
    "HTTP status codes are standardized numbers that indicate the result of an HTTP request (e.g., 200 OK, 201 Created, 400 Bad Request, 401 Unauthorized, 404 Not Found, 500 Internal Server Error). They are important because clients rely on them to determine success or failure, to implement conditional behavior, and to debug issues. Returning the correct status codes in a Flask API communicates intent and helps ensure interoperable clients.\n"
   ]
  },
  {
   "cell_type": "markdown",
   "id": "17423913",
   "metadata": {},
   "source": [
    "### 20. How do you handle POST requests in Flask?\n",
    "\n",
    "In Flask, handle POST requests by defining a route that accepts 'POST' in its methods parameter, then access submitted data via request.form for form-encoded data or request.get_json() for JSON payloads. Validate input, perform the necessary business logic (e.g., create a database record), and return an appropriate response with status code (commonly 201 Created on success) and any created resource or metadata.\n"
   ]
  },
  {
   "cell_type": "markdown",
   "id": "34987d32",
   "metadata": {},
   "source": [
    "### 21. How would you secure a Flask API?\n",
    "\n",
    "Securing a Flask API involves several layers: require authentication (tokens, JWTs, OAuth2), use HTTPS to encrypt traffic, validate and sanitize inputs to prevent injection attacks, enforce rate limiting and CORS policies, manage secrets securely, and ensure proper authorization checks for resource access. Use established libraries (Flask-JWT-Extended, Flask-Login, Flask-Limiter) and follow best practices for session management, password storage, and dependency updates.\n"
   ]
  },
  {
   "cell_type": "markdown",
   "id": "523857a3",
   "metadata": {},
   "source": [
    "### 22. What is the significance of the Flask-RESTful extension?\n",
    "\n",
    "Flask-RESTful is an extension that provides helpful abstractions for building REST APIs with Flask, such as resource classes, request parsing, and automatic route registration. It can simplify repetitive tasks of mapping HTTP methods to class methods and offers tools to serialize responses and handle errors consistently. While not mandatory, it speeds up development and organizes resources in an object-oriented manner.\n"
   ]
  },
  {
   "cell_type": "markdown",
   "id": "f9b1db5c",
   "metadata": {},
   "source": [
    "### 23. What is the role of Flask’s session object?\n",
    "\n",
    "Flask's session object provides a way to store user-specific data across requests using signed cookies by default (client-side sessions). It allows you to keep small, non-sensitive pieces of state like 'user_id' or 'preferences' and is protected against tampering using the app's secret key. For server-side sessions, extensions or custom backends (Redis, database) can be used for larger or sensitive session data.\n"
   ]
  },
  {
   "cell_type": "markdown",
   "id": "77daaf1d",
   "metadata": {},
   "source": [
    "PEACTICAL QUESTIONS"
   ]
  },
  {
   "cell_type": "markdown",
   "id": "0421007f",
   "metadata": {
    "id": "S3__hpQO0MNi"
   },
   "source": [
    "### Q1. How do you create a basic Flask application?"
   ]
  },
  {
   "cell_type": "code",
   "execution_count": null,
   "id": "5a8270e8",
   "metadata": {
    "id": "KdEIm32Z0R8p"
   },
   "outputs": [],
   "source": [
    "from flask import Flask\n",
    "app = Flask(__name__)\n",
    "\n",
    "@app.route('/')\n",
    "def home():\n",
    "    return 'Hello, Flask!'\n",
    "\n",
    "if __name__ == '__main__':\n",
    "    app.run(debug=True)"
   ]
  },
  {
   "cell_type": "markdown",
   "id": "67deac4c",
   "metadata": {
    "id": "kE8ZKZLl0QpS"
   },
   "source": [
    "### Q2. How do you serve static files like images or CSS in Flask?"
   ]
  },
  {
   "cell_type": "code",
   "execution_count": null,
   "id": "54abd44a",
   "metadata": {
    "id": "BWYzZk1S0Qfu"
   },
   "outputs": [],
   "source": [
    "from flask import Flask, send_from_directory\n",
    "app = Flask(__name__)\n",
    "\n",
    "@app.route('/static/<filename>')\n",
    "def send_static(filename):\n",
    "    return send_from_directory('static', filename)\n",
    "\n",
    "if __name__ == '__main__':\n",
    "    app.run(debug=True)"
   ]
  },
  {
   "cell_type": "markdown",
   "id": "953db227",
   "metadata": {
    "id": "T8OTu8RG0Qat"
   },
   "source": [
    "### Q3. How do you define different routes with different HTTP methods in Flask?"
   ]
  },
  {
   "cell_type": "code",
   "execution_count": null,
   "id": "27cac9bc",
   "metadata": {
    "id": "CIDYDQmP0QVq"
   },
   "outputs": [],
   "source": [
    "from flask import Flask\n",
    "app = Flask(__name__)\n",
    "\n",
    "@app.route('/greet', methods=['GET'])\n",
    "def greet():\n",
    "    return \"Hello World!\"\n",
    "\n",
    "if __name__ == '__main__':\n",
    "    app.run(debug=True)"
   ]
  },
  {
   "cell_type": "markdown",
   "id": "34621901",
   "metadata": {
    "id": "Y078JQpf0QPy"
   },
   "source": [
    "### Q4. How do you render HTML templates in Flask?"
   ]
  },
  {
   "cell_type": "code",
   "execution_count": null,
   "id": "9680c1fd",
   "metadata": {
    "id": "u8O7N4Qe0QLA"
   },
   "outputs": [],
   "source": [
    "from flask import Flask, render_template\n",
    "app = Flask(__name__)\n",
    "\n",
    "@app.route('/')\n",
    "def index():\n",
    "    return render_template('index.html')\n",
    "\n",
    "if __name__ == '__main__':\n",
    "    app.run(debug=True)"
   ]
  },
  {
   "cell_type": "markdown",
   "id": "05414b74",
   "metadata": {
    "id": "Rnh7BBLp0QFV"
   },
   "source": [
    "### Q5. How can you generate URLs for routes in Flask using url_for?"
   ]
  },
  {
   "cell_type": "code",
   "execution_count": null,
   "id": "f4c5d2bb",
   "metadata": {
    "id": "IWuIgS2v0P_l"
   },
   "outputs": [],
   "source": [
    "from flask import Flask, url_for\n",
    "app = Flask(__name__)\n",
    "\n",
    "@app.route('/home')\n",
    "def home():\n",
    "    return 'This is the home page.'\n",
    "\n",
    "@app.route('/')\n",
    "def index():\n",
    "    return f'<a href=\"{url_for(\"home\")}\">Go to Home</a>'\n",
    "\n",
    "if __name__ == '__main__':\n",
    "    app.run(debug=True)"
   ]
  },
  {
   "cell_type": "markdown",
   "id": "aa55e549",
   "metadata": {
    "id": "d7JHLkhr0P6R"
   },
   "source": [
    "### Q6. How do you handle forms in Flask?"
   ]
  },
  {
   "cell_type": "code",
   "execution_count": null,
   "id": "717ba49f",
   "metadata": {
    "id": "DCEsTVlh0P0s"
   },
   "outputs": [],
   "source": [
    "from flask import Flask, request, render_template\n",
    "app = Flask(__name__)\n",
    "\n",
    "@app.route('/submit', methods=['GET', 'POST'])\n",
    "def submit():\n",
    "    if request.method == 'POST':\n",
    "        name = request.form['name']\n",
    "        return f\"Hello {name}!\"\n",
    "    return render_template('form.html')\n",
    "\n",
    "if __name__ == '__main__':\n",
    "    app.run(debug=True)"
   ]
  },
  {
   "cell_type": "markdown",
   "id": "808a9689",
   "metadata": {
    "id": "E2oDsOyN0Pu7"
   },
   "source": [
    "### Q7. How can you validate form data in Flask?"
   ]
  },
  {
   "cell_type": "code",
   "execution_count": null,
   "id": "a6d27d08",
   "metadata": {
    "id": "3chaj5S50Ppr"
   },
   "outputs": [],
   "source": [
    "from flask import Flask, request, flash, redirect, url_for\n",
    "app = Flask(__name__)\n",
    "app.secret_key = 'secret'\n",
    "\n",
    "@app.route('/login', methods=['POST'])\n",
    "def login():\n",
    "    username = request.form['username']\n",
    "    if not username:\n",
    "        flash('Username is required!')\n",
    "        return redirect(url_for('login'))\n",
    "    return 'Login successful'\n",
    "\n",
    "if __name__ == '__main__':\n",
    "    app.run(debug=True)"
   ]
  },
  {
   "cell_type": "markdown",
   "id": "2b559507",
   "metadata": {
    "id": "YvorsmWK0PiU"
   },
   "source": [
    "### Q8. How do you manage sessions in Flask?"
   ]
  },
  {
   "cell_type": "code",
   "execution_count": null,
   "id": "0cd162eb",
   "metadata": {
    "id": "mKCr5kyp0PbT"
   },
   "outputs": [],
   "source": [
    "from flask import Flask, session\n",
    "app = Flask(__name__)\n",
    "app.secret_key = 'secret'\n",
    "\n",
    "@app.route('/set_user')\n",
    "def set_user():\n",
    "    session['user'] = 'John'\n",
    "    return 'User set'\n",
    "\n",
    "@app.route('/get_user')\n",
    "def get_user():\n",
    "    return f'Logged in as {session.get(\"user\", \"Guest\")}'\n",
    "\n",
    "if __name__ == '__main__':\n",
    "    app.run(debug=True)"
   ]
  },
  {
   "cell_type": "markdown",
   "id": "ac82d91b",
   "metadata": {
    "id": "88nwAnS-0PSa"
   },
   "source": [
    "### Q9. How do you redirect to a different route in Flask?"
   ]
  },
  {
   "cell_type": "code",
   "execution_count": null,
   "id": "a453bd82",
   "metadata": {
    "id": "1srlyhqp0PKP"
   },
   "outputs": [],
   "source": [
    "from flask import Flask, redirect, url_for\n",
    "app = Flask(__name__)\n",
    "\n",
    "@app.route('/redirect_home')\n",
    "def redirect_home():\n",
    "    return redirect(url_for('home'))\n",
    "\n",
    "@app.route('/home')\n",
    "def home():\n",
    "    return 'This is the home page.'\n",
    "\n",
    "if __name__ == '__main__':\n",
    "    app.run(debug=True)"
   ]
  },
  {
   "cell_type": "markdown",
   "id": "16e36fb7",
   "metadata": {
    "id": "Jg6we5SS0PFB"
   },
   "source": [
    "### Q10. How do you handle errors in Flask (e.g., 404)?"
   ]
  },
  {
   "cell_type": "code",
   "execution_count": null,
   "id": "3ddb4ea7",
   "metadata": {
    "id": "AIqkSNFx0PAd"
   },
   "outputs": [],
   "source": [
    "from flask import Flask\n",
    "app = Flask(__name__)\n",
    "\n",
    "@app.errorhandler(404)\n",
    "def page_not_found(e):\n",
    "    return 'Page not found', 404\n",
    "\n",
    "@app.route('/')\n",
    "def home():\n",
    "    return 'Welcome to the home page.'\n",
    "\n",
    "if __name__ == '__main__':\n",
    "    app.run(debug=True)"
   ]
  },
  {
   "cell_type": "markdown",
   "id": "433e9279",
   "metadata": {
    "id": "HQ4A_hK30O6p"
   },
   "source": [
    "### Q11. How do you structure a Flask app using Blueprints?"
   ]
  },
  {
   "cell_type": "code",
   "execution_count": null,
   "id": "753f5a67",
   "metadata": {
    "id": "XMocDXcE0Opt"
   },
   "outputs": [],
   "source": [
    "from flask import Flask, Blueprint\n",
    "app = Flask(__name__)\n",
    "\n",
    "bp = Blueprint('home', __name__)\n",
    "\n",
    "@bp.route('/')\n",
    "def index():\n",
    "    return 'Home Page'\n",
    "\n",
    "app.register_blueprint(bp)\n",
    "\n",
    "if __name__ == '__main__':\n",
    "    app.run(debug=True)"
   ]
  },
  {
   "cell_type": "markdown",
   "id": "1042cf54",
   "metadata": {
    "id": "3kHnvzaR0Okk"
   },
   "source": [
    "### Q12. How do you define a custom Jinja filter in Flask?"
   ]
  },
  {
   "cell_type": "code",
   "execution_count": null,
   "id": "45b12b62",
   "metadata": {
    "id": "0ql7-27z0OgV"
   },
   "outputs": [],
   "source": [
    "from flask import Flask\n",
    "app = Flask(__name__)\n",
    "\n",
    "@app.template_filter('reverse')\n",
    "def reverse_filter(s):\n",
    "    return s[::-1]\n",
    "\n",
    "@app.route('/')\n",
    "def home():\n",
    "    return render_template('home.html', name='Flask')\n",
    "\n",
    "if __name__ == '__main__':\n",
    "    app.run(debug=True)"
   ]
  },
  {
   "cell_type": "markdown",
   "id": "060bc540",
   "metadata": {
    "id": "z5AB4N0O0Obt"
   },
   "source": [
    "### Q13. How can you redirect with query parameters in Flask?"
   ]
  },
  {
   "cell_type": "code",
   "execution_count": null,
   "id": "cbbbaed4",
   "metadata": {
    "id": "vhhdcN8_0OWY"
   },
   "outputs": [],
   "source": [
    "from flask import Flask, redirect, url_for\n",
    "app = Flask(__name__)\n",
    "\n",
    "@app.route('/redirect_with_query')\n",
    "def redirect_with_query():\n",
    "    return redirect(url_for('home', username='John'))\n",
    "\n",
    "@app.route('/home')\n",
    "def home():\n",
    "    return f'Welcome, {request.args.get(\"username\")}'\n",
    "\n",
    "if __name__ == '__main__':\n",
    "    app.run(debug=True)"
   ]
  },
  {
   "cell_type": "markdown",
   "id": "a689c245",
   "metadata": {
    "id": "NHIGbrKl0OSQ"
   },
   "source": [
    "### Q14. How do you return JSON responses in Flask?"
   ]
  },
  {
   "cell_type": "code",
   "execution_count": null,
   "id": "9208f8fa",
   "metadata": {
    "id": "xq0ZOKF30ONn"
   },
   "outputs": [],
   "source": [
    "from flask import Flask, jsonify\n",
    "app = Flask(__name__)\n",
    "\n",
    "@app.route('/data')\n",
    "def data():\n",
    "    return jsonify({\"name\": \"Flask\", \"version\": \"2.0\"})\n",
    "\n",
    "if __name__ == '__main__':\n",
    "    app.run(debug=True)"
   ]
  },
  {
   "cell_type": "markdown",
   "id": "c04b6b06",
   "metadata": {
    "id": "PPxDqdDV0OI3"
   },
   "source": [
    "### Q15. How do you capture URL parameters in Flask?"
   ]
  },
  {
   "cell_type": "code",
   "execution_count": null,
   "id": "5389fa80",
   "metadata": {
    "id": "hXE0wg5e0OEt"
   },
   "outputs": [],
   "source": [
    "from flask import Flask\n",
    "app = Flask(__name__)\n",
    "\n",
    "@app.route('/user/<username>')\n",
    "def user(username):\n",
    "    return f\"Hello {username}!\"\n",
    "\n",
    "if __name__ == '__main__':\n",
    "    app.run(debug=True)"
   ]
  },
  {
   "cell_type": "markdown",
   "id": "3b771236",
   "metadata": {
    "id": "koCh8-WK0N_8"
   },
   "source": [
    "### 16. How do you handle multiple HTTP methods in a single route in Flask?"
   ]
  },
  {
   "cell_type": "code",
   "execution_count": null,
   "id": "5ea7e111",
   "metadata": {
    "id": "B_K0NYDi0N7l"
   },
   "outputs": [],
   "source": [
    "from flask import Flask, request\n",
    "app = Flask(__name__)\n",
    "\n",
    "@app.route('/action', methods=['GET', 'POST'])\n",
    "def action():\n",
    "    if request.method == 'POST':\n",
    "        return 'POST request received'\n",
    "    return 'GET request received'\n",
    "\n",
    "if __name__ == '__main__':\n",
    "    app.run(debug=True)"
   ]
  },
  {
   "cell_type": "markdown",
   "id": "a1d4aaa0",
   "metadata": {
    "id": "kuWpv5E-0N2s"
   },
   "source": [
    "### Q17. How do you pass arguments to url_for in Flask?"
   ]
  },
  {
   "cell_type": "code",
   "execution_count": null,
   "id": "dcf66eac",
   "metadata": {
    "id": "DIhavBJ40NxK"
   },
   "outputs": [],
   "source": [
    "from flask import Flask, url_for\n",
    "app = Flask(__name__)\n",
    "\n",
    "@app.route('/profile/<username>')\n",
    "def profile(username):\n",
    "    return f\"Profile of {username}\"\n",
    "\n",
    "@app.route('/')\n",
    "def index():\n",
    "    return redirect(url_for('profile', username='John'))\n",
    "\n",
    "if __name__ == '__main__':\n",
    "    app.run(debug=True)"
   ]
  },
  {
   "cell_type": "markdown",
   "id": "7affa6ab",
   "metadata": {
    "id": "xqSeezda0NsR"
   },
   "source": [
    "### Q18. How do you serve dynamic content from a template in Flask?"
   ]
  },
  {
   "cell_type": "code",
   "execution_count": null,
   "id": "eda7c3ae",
   "metadata": {
    "id": "AxBxbpv10NnX"
   },
   "outputs": [],
   "source": [
    "from flask import Flask, render_template\n",
    "app = Flask(__name__)\n",
    "\n",
    "@app.route('/hello/<name>')\n",
    "def hello(name):\n",
    "    return render_template('hello.html', name=name)\n",
    "\n",
    "if __name__ == '__main__':\n",
    "    app.run(debug=True)"
   ]
  },
  {
   "cell_type": "markdown",
   "id": "04b4070b",
   "metadata": {
    "id": "pOGIkXQA0NiS"
   },
   "source": [
    "### Q19. How do you pass complex data structures (like lists or dictionaries) to templates?"
   ]
  },
  {
   "cell_type": "code",
   "execution_count": null,
   "id": "6591568e",
   "metadata": {
    "id": "9y74KiK70NdV"
   },
   "outputs": [],
   "source": [
    "from flask import Flask, render_template\n",
    "app = Flask(__name__)\n",
    "\n",
    "@app.route('/user_list')\n",
    "def user_list():\n",
    "    users = [{'name': 'John', 'age': 28}, {'name': 'Alice', 'age': 24}]\n",
    "    return render_template('users.html', users=users)\n",
    "\n",
    "if __name__ == '__main__':\n",
    "    app.run(debug=True)"
   ]
  },
  {
   "cell_type": "markdown",
   "id": "4045bb12",
   "metadata": {
    "id": "G-7JaVPl0NXr"
   },
   "source": [
    "### Q20. How do you handle optional URL parameters in Flask?"
   ]
  },
  {
   "cell_type": "code",
   "execution_count": null,
   "id": "ba5cfdb5",
   "metadata": {
    "id": "eH09K17Q0MHq"
   },
   "outputs": [],
   "source": [
    "from flask import Flask\n",
    "app = Flask(__name__)\n",
    "\n",
    "@app.route('/hello/<name>')\n",
    "def hello(name='Guest'):\n",
    "    return f'Hello {name}!'\n",
    "\n",
    "if __name__ == '__main__':\n",
    "    app.run(debug=True)"
   ]
  },
  {
   "cell_type": "markdown",
   "id": "dab1e446",
   "metadata": {
    "id": "NkFgjAOq0MB7"
   },
   "source": [
    "### 21. How do you handle file uploads in Flask?"
   ]
  },
  {
   "cell_type": "code",
   "execution_count": null,
   "id": "c678f2c6",
   "metadata": {
    "id": "80eZA5Xw0L5_"
   },
   "outputs": [],
   "source": [
    "from flask import Flask, request\n",
    "app = Flask(__name__)\n",
    "\n",
    "@app.route('/upload', methods=['GET', 'POST'])\n",
    "def upload_file():\n",
    "    if request.method == 'POST':\n",
    "        file = request.files['file']\n",
    "        file.save(f'./uploads/{file.filename}')\n",
    "        return 'File uploaded successfully'\n",
    "    return '''\n",
    "        <form method=\"POST\" enctype=\"multipart/form-data\">\n",
    "            <input type=\"file\" name=\"file\">\n",
    "            <input type=\"submit\">\n",
    "        </form>\n",
    "    '''\n",
    "\n",
    "if __name__ == '__main__':\n",
    "    app.run(debug=True)"
   ]
  },
  {
   "cell_type": "markdown",
   "id": "99ba6f84",
   "metadata": {
    "id": "VqsWHbsG0L0J"
   },
   "source": [
    "### Q22. How can you enable debugging in Flask to track errors and view changes instantly?"
   ]
  },
  {
   "cell_type": "code",
   "execution_count": null,
   "id": "7a0af1ac",
   "metadata": {
    "id": "uIlPQtbz0LvD"
   },
   "outputs": [],
   "source": [
    "from flask import Flask\n",
    "app = Flask(__name__)\n",
    "\n",
    "app.debug = True\n",
    "\n",
    "@app.route('/')\n",
    "def home():\n",
    "    return \"Debugging enabled!\"\n",
    "\n",
    "if __name__ == '__main__':\n",
    "    app.run()"
   ]
  },
  {
   "cell_type": "markdown",
   "id": "ffb5ab46",
   "metadata": {
    "id": "PxvVyVUM0Loy"
   },
   "source": [
    "### Q23. How do you customize error pages in Flask?"
   ]
  },
  {
   "cell_type": "code",
   "execution_count": null,
   "id": "5eefe17a",
   "metadata": {
    "id": "GvAZ7VT50LkE"
   },
   "outputs": [],
   "source": [
    "from flask import Flask, render_template\n",
    "app = Flask(__name__)\n",
    "\n",
    "@app.route('/')\n",
    "def home():\n",
    "    return 'Home Page'\n",
    "\n",
    "@app.errorhandler(404)\n",
    "def page_not_found(e):\n",
    "    return render_template('404.html'), 404\n",
    "\n",
    "if __name__ == '__main__':\n",
    "    app.run(debug=True)"
   ]
  }
 ],
 "metadata": {
  "language_info": {
   "name": "python"
  }
 },
 "nbformat": 4,
 "nbformat_minor": 5
}
