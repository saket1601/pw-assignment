{
  "cells": [
    {
      "cell_type": "markdown",
      "metadata": {},
      "source": [
        "### 1. What is a RESTful API?\n",
        "\n",
        "A RESTful API is an application programming interface that conforms to the principles of REST (Representational State Transfer). It uses standard HTTP methods (GET, POST, PUT, DELETE, etc.) to perform operations on resources, which are identified by URLs (endpoints). RESTful APIs are stateless: each request from a client contains all information needed for the server to process it. Responses are usually structured in human- and machine-readable formats like JSON or XML. The design emphasizes scalability, simplicity, and a uniform interface so that different clients (web browsers, mobile apps, services) can interact with the API in a predictable way.\n"
      ]
    },
    {
      "cell_type": "markdown",
      "metadata": {},
      "source": [
        "### 2. Explain the concept of API specification.\n",
        "\n",
        "An API specification is a formal description of how clients should interact with an API: its available endpoints, request and response formats, required parameters, authentication methods, error codes, and other constraints. Specifications such as OpenAPI (formerly Swagger) provide a machine-readable, versioned contract that helps developers, testers, and documentation tools generate client libraries, server stubs, and interactive documentation. A clear specification reduces ambiguity, improves interoperability, and makes it easier to maintain and test APIs across development teams.\n"
      ]
    },
    {
      "cell_type": "markdown",
      "metadata": {},
      "source": [
        "### 3. What is Flask, and why is it popular for building APIs?\n",
        "\n",
        "Flask is a lightweight Python web framework that provides the essentials to build web applications and APIs without imposing a lot of structure. It is popular for API development because of its simplicity, minimal boilerplate, clear routing model, built-in development server, and a rich ecosystem of extensions (e.g., Flask-SQLAlchemy, Flask-RESTful, Flask-Migrate). Flask's small core makes it easy to understand and fast to prototype while allowing developers to add only the components they need, which is ideal for RESTful microservices and educational projects.\n"
      ]
    },
    {
      "cell_type": "markdown",
      "metadata": {},
      "source": [
        "### 4. What is routing in Flask?\n",
        "\n",
        "Routing in Flask is the mechanism that matches incoming HTTP requests (based on URL paths and methods) to Python functions (view functions or route handlers). Developers use decorators like @app.route('/path') to register functions that will be executed when a client requests that path. Routing supports variable parts in URLs, HTTP method specification, and allows clean, RESTful endpoint design.\n"
      ]
    },
    {
      "cell_type": "markdown",
      "metadata": {},
      "source": [
        "### 5. How do you create a simple Flask application?\n",
        "\n",
        "To create a simple Flask application, install Flask (pip install flask), then create a Python file where you import Flask, instantiate the application object, define route handlers with @app.route, and run the app. For example:\n",
        "\n",
        "```python\n",
        "from flask import Flask\n",
        "app = Flask(__name__)\n",
        "\n",
        "@app.route('/')\n",
        "def hello():\n",
        "    return 'Hello, world!'\n",
        "\n",
        "if __name__ == '__main__':\n",
        "    app.run(debug=True)\n",
        "```\n",
        "This minimal app runs a development server and responds to HTTP requests to '/'.\n"
      ]
    },
    {
      "cell_type": "markdown",
      "metadata": {},
      "source": [
        "### 6. What are HTTP methods used in RESTful APIs?\n",
        "\n",
        "Common HTTP methods used in RESTful APIs are GET (retrieve a resource), POST (create a new resource), PUT (replace an existing resource), PATCH (partially update a resource), DELETE (remove a resource), and sometimes HEAD or OPTIONS for metadata and preflight checks. Each method has semantic meaning: for example, GET is safe and idempotent (it should not change server state), while POST typically creates server-side state and is not idempotent.\n"
      ]
    },
    {
      "cell_type": "markdown",
      "metadata": {},
      "source": [
        "### 7. What is the purpose of the @app.route() decorator in Flask?\n",
        "\n",
        "The @app.route() decorator registers a URL rule with the Flask application. It associates a URL path (and optionally allowed HTTP methods) with the following Python function so that when a request arrives matching that path and method, Flask invokes that function and returns its response. Using decorators keeps route definitions close to their handler logic for readability and organization.\n"
      ]
    },
    {
      "cell_type": "markdown",
      "metadata": {},
      "source": [
        "### 8. What is the difference between GET and POST HTTP methods?\n",
        "\n",
        "GET and POST differ in semantics and usage. GET requests retrieve data and should have no side effects; they encode parameters in the URL (query string) and are cacheable and bookmarkable. POST requests submit data to be processed on the server (e.g., create a resource), send data in the request body, may change server state, and are not generally cached or bookmarked. Security considerations also differ: sensitive data should not be sent in a GET query string as it may be logged or cached.\n"
      ]
    },
    {
      "cell_type": "markdown",
      "metadata": {},
      "source": [
        "### 9. How do you handle errors in Flask APIs?\n",
        "\n",
        "Error handling in Flask can be done by returning appropriate HTTP status codes and JSON or HTML error payloads, using try/except blocks within route handlers, and by registering error handlers with @app.errorhandler(status_code) for global handling of specific statuses (e.g., 404 or 500). In APIs, it is common to return structured error responses with keys like 'message' and 'code' to make debugging and client-side handling easier.\n"
      ]
    },
    {
      "cell_type": "markdown",
      "metadata": {},
      "source": [
        "### 10. How do you connect Flask to a SQL database?\n",
        "\n",
        "You can connect Flask to a SQL database either directly using a database driver (like psycopg2 for PostgreSQL, pymysql for MySQL, or sqlite3 for SQLite) or by using an ORM (Object Relational Mapper) like SQLAlchemy or Flask-SQLAlchemy extension. Typically you configure a database URI in the Flask app config (e.g., SQLALCHEMY_DATABASE_URI), initialize the ORM or connection, define models, and use sessions or connections to query and commit transactions.\n"
      ]
    },
    {
      "cell_type": "markdown",
      "metadata": {},
      "source": [
        "### 11. What is the role of Flask-SQLAlchemy?\n",
        "\n",
        "Flask-SQLAlchemy is a Flask extension that integrates SQLAlchemy ORM with Flask, simplifying setup and providing patterns that play well with Flask's app context. It manages connections, config, and model definitions, and offers a convenient 'db' object to define models and interact with the database. Using Flask-SQLAlchemy reduces boilerplate and makes database operations more Pythonic and maintainable.\n"
      ]
    },
    {
      "cell_type": "markdown",
      "metadata": {},
      "source": [
        "### 12. What are Flask blueprints, and how are they useful?\n",
        "\n",
        "Flask blueprints provide a way to structure and modularize applications by grouping related routes, templates, static files, and other code into reusable components. Blueprints let you register a set of routes with a URL prefix and optionally create pluggable application components. They are very useful for larger projects where separating authentication, API endpoints, admin panels, and front-end views improves maintainability and team collaboration.\n"
      ]
    },
    {
      "cell_type": "markdown",
      "metadata": {},
      "source": [
        "### 13. What is the purpose of Flask's request object?\n",
        "\n",
        "Flask's request object represents the incoming HTTP request and provides access to data such as query parameters (request.args), form data (request.form), JSON payloads (request.get_json()), headers (request.headers), files (request.files), and other metadata. It is a context-local object, meaning it is safe to access within request handling functions and will reflect the current request automatically.\n"
      ]
    },
    {
      "cell_type": "markdown",
      "metadata": {},
      "source": [
        "### 14. How do you create a RESTful API endpoint using Flask?\n",
        "\n",
        "To create a RESTful endpoint in Flask, define a route corresponding to the resource path and implement handlers for the relevant HTTP methods. For example, to manage 'books' you might create endpoints like GET /books (list), GET /books/<id> (retrieve), POST /books (create), PUT /books/<id> (update), DELETE /books/<id> (delete). Each handler parses input, interacts with the database or business logic, and returns JSON responses with proper status codes.\n"
      ]
    },
    {
      "cell_type": "markdown",
      "metadata": {},
      "source": [
        "### 15. What is the purpose of Flask's jsonify() function?\n",
        "\n",
        "jsonify() converts Python dictionaries, lists, and other serializable objects into a Flask Response object with application/json content type and properly encoded JSON. It also handles setting the correct mimetype and returns a Response that can include a status code. Using jsonify ensures consistent JSON serialization and avoids manual header manipulation.\n"
      ]
    },
    {
      "cell_type": "markdown",
      "metadata": {},
      "source": [
        "### 16. Explain Flask’s url_for() function.\n",
        "\n",
        "url_for() generates the URL for a given endpoint (the Python function name) using the application's routing map. Instead of hard-coding URLs in templates or code, url_for('endpoint', **values) will compute the correct path and inject variable parts. This makes refactoring easier (routes change in one place) and supports URL building in templates and redirects.\n"
      ]
    },
    {
      "cell_type": "markdown",
      "metadata": {},
      "source": [
        "### 17. How does Flask handle static files (CSS, JavaScript, etc.)?\n",
        "\n",
        "Flask serves static files from the 'static' folder by default. Files placed in that folder are accessible via the '/static/<filename>' URL path. In templates, you typically use url_for('static', filename='css/styles.css') to get the correct path. For production deployments, it's common to let a web server (nginx, Apache) or CDN serve static files for performance and caching control.\n"
      ]
    },
    {
      "cell_type": "markdown",
      "metadata": {},
      "source": [
        "### 18. What is an API specification, and how does it help in building a Flask API?\n",
        "\n",
        "An API specification, such as OpenAPI, describes endpoints, request/response models, authentication, and error formats in a machine-readable document. When building a Flask API, a specification helps define a concrete contract that developers implement and test against, facilitates auto-generated API docs (Swagger UI), enables client SDK generation, and improves collaboration between backend and frontend teams by removing ambiguity.\n"
      ]
    },
    {
      "cell_type": "markdown",
      "metadata": {},
      "source": [
        "### 19. What are HTTP status codes, and why are they important in a Flask API?\n",
        "\n",
        "HTTP status codes are standardized numbers that indicate the result of an HTTP request (e.g., 200 OK, 201 Created, 400 Bad Request, 401 Unauthorized, 404 Not Found, 500 Internal Server Error). They are important because clients rely on them to determine success or failure, to implement conditional behavior, and to debug issues. Returning the correct status codes in a Flask API communicates intent and helps ensure interoperable clients.\n"
      ]
    },
    {
      "cell_type": "markdown",
      "metadata": {},
      "source": [
        "### 20. How do you handle POST requests in Flask?\n",
        "\n",
        "In Flask, handle POST requests by defining a route that accepts 'POST' in its methods parameter, then access submitted data via request.form for form-encoded data or request.get_json() for JSON payloads. Validate input, perform the necessary business logic (e.g., create a database record), and return an appropriate response with status code (commonly 201 Created on success) and any created resource or metadata.\n"
      ]
    },
    {
      "cell_type": "markdown",
      "metadata": {},
      "source": [
        "### 21. How would you secure a Flask API?\n",
        "\n",
        "Securing a Flask API involves several layers: require authentication (tokens, JWTs, OAuth2), use HTTPS to encrypt traffic, validate and sanitize inputs to prevent injection attacks, enforce rate limiting and CORS policies, manage secrets securely, and ensure proper authorization checks for resource access. Use established libraries (Flask-JWT-Extended, Flask-Login, Flask-Limiter) and follow best practices for session management, password storage, and dependency updates.\n"
      ]
    },
    {
      "cell_type": "markdown",
      "metadata": {},
      "source": [
        "### 22. What is the significance of the Flask-RESTful extension?\n",
        "\n",
        "Flask-RESTful is an extension that provides helpful abstractions for building REST APIs with Flask, such as resource classes, request parsing, and automatic route registration. It can simplify repetitive tasks of mapping HTTP methods to class methods and offers tools to serialize responses and handle errors consistently. While not mandatory, it speeds up development and organizes resources in an object-oriented manner.\n"
      ]
    },
    {
      "cell_type": "markdown",
      "metadata": {},
      "source": [
        "### 23. What is the role of Flask’s session object?\n",
        "\n",
        "Flask's session object provides a way to store user-specific data across requests using signed cookies by default (client-side sessions). It allows you to keep small, non-sensitive pieces of state like 'user_id' or 'preferences' and is protected against tampering using the app's secret key. For server-side sessions, extensions or custom backends (Redis, database) can be used for larger or sensitive session data.\n"
      ]
    },
    {
      "cell_type": "markdown",
      "metadata": {},
      "source": [
        "### 24. How do you serve static files like images or CSS in Flask?\n",
        "\n",
        "Place the files inside the 'static' directory of the Flask project. They are then served automatically at the '/static/<path:filename>' URL. Use url_for('static', filename='path/to/file') in templates to build correct references. For production, static files are often offloaded to a web server or CDN for better performance.\n"
      ]
    },
    {
      "cell_type": "markdown",
      "metadata": {},
      "source": [
        "### 25. How do you define different routes with different HTTP methods in Flask?\n",
        "\n",
        "When registering a route with @app.route, pass the methods parameter, e.g., @app.route('/resource', methods=['GET','POST']). Flask will dispatch incoming requests to that function only if the method matches one of the listed ones. Alternatively, use separate handler functions or classes (with Flask-RESTful Resource classes) for cleaner organization.\n"
      ]
    },
    {
      "cell_type": "markdown",
      "metadata": {},
      "source": [
        "### 26. How do you render HTML templates in Flask?\n",
        "\n",
        "Use Flask's 'render_template' function along with template files placed in a 'templates' directory. The templates are usually written using Jinja2 templating language. For example: return render_template('index.html', title='Home', data=my_data). Jinja2 allows loops, conditionals, template inheritance, and filters to produce dynamic HTML.\n"
      ]
    },
    {
      "cell_type": "markdown",
      "metadata": {},
      "source": [
        "### 27. How can you generate URLs for routes in Flask using url_for\n",
        "\n",
        "Use url_for('endpoint_name', **values) where 'endpoint_name' is the function name of the route. For example, url_for('profile', username='alice') might return '/user/alice'. In templates, use {{ url_for('static', filename='css/main.css') }} to reference static assets. url_for respects application context and handles URL building when app prefixes or blueprints are in use.\n"
      ]
    },
    {
      "cell_type": "markdown",
      "metadata": {},
      "source": [
        "### 28. How do you handle forms in Flask\n",
        "\n",
        "Forms in Flask can be handled by reading request.form for form-encoded data and request.files for uploaded files. Flask-WTF is a popular extension that integrates WTForms for form rendering, CSRF protection, and validation. Typical flow: render a form template, submit to an endpoint, validate input on server-side, persist or act on the data, and redirect or return a response.\n"
      ]
    },
    {
      "cell_type": "markdown",
      "metadata": {},
      "source": [
        "### 29. How can you validate form data in Flask\n",
        "\n",
        "You can validate form data manually in the route handler (check required fields, types, lengths, patterns) or use libraries like WTForms/Flask-WTF which provide declarative validators (DataRequired, Email, Length). For JSON APIs, use schema validation libraries like marshmallow or pydantic to validate and deserialize incoming payloads.\n"
      ]
    },
    {
      "cell_type": "markdown",
      "metadata": {},
      "source": [
        "### 30. How do you manage sessions in Flask\n",
        "\n",
        "Manage sessions using Flask's session object for small client-side data, or configure server-side session storage with extensions (Flask-Session using Redis, filesystem, or database). Secure sessions by setting a strong SECRET_KEY, enabling HTTPS-only cookies (SESSION_COOKIE_SECURE), and using appropriate timeouts and rotation strategies for sensitive data.\n"
      ]
    },
    {
      "cell_type": "markdown",
      "metadata": {},
      "source": [
        "### 31. How do you redirect to a different route in Flask\n",
        "\n",
        "Return redirect(url_for('endpoint')) from a route to send an HTTP 302 redirect to the client. The url_for call ensures correct path generation. For permanent redirects use redirect(url_for('endpoint'), code=301). Redirects are commonly used after form submissions (Post/Redirect/Get pattern) to avoid duplicate submissions.\n"
      ]
    },
    {
      "cell_type": "markdown",
      "metadata": {},
      "source": [
        "### 32. How do you handle errors in Flask (e.g., 404)\n",
        "\n",
        "Handle errors by registering global error handlers with @app.errorhandler(404) or by raising HTTPException subclasses to signal different statuses. For APIs, ensure that error handlers return JSON error objects with appropriate status codes. You can also configure custom error pages for HTML responses.\n"
      ]
    },
    {
      "cell_type": "markdown",
      "metadata": {},
      "source": [
        "### 33. How do you structure a Flask app using Blueprints\n",
        "\n",
        "Create blueprint objects (Blueprint('bp_name', __name__, url_prefix='/prefix')) and define routes on the blueprint. Then register the blueprint with app.register_blueprint(bp). Split code into modules for auth, api, admin, etc., each with their own blueprint, templates, and static folders if necessary. This modular structure improves testability and teamwork.\n"
      ]
    },
    {
      "cell_type": "markdown",
      "metadata": {},
      "source": [
        "### 34. How do you define a custom Jinja filter in Flask\n",
        "\n",
        "Define a Python function that performs the transformation and register it with app.template_filter('filtername') or app.add_template_filter(func, 'filtername'). Then use it in templates like {{ value|filtername }}. Custom filters are helpful for formatting dates, currency, or text transformations consistently across templates.\n"
      ]
    },
    {
      "cell_type": "markdown",
      "metadata": {},
      "source": [
        "### 35. How can you redirect with query parameters in Flask\n",
        "\n",
        "Build the target URL with url_for and pass query parameters as additional arguments to url_for, e.g., redirect(url_for('search', q='term', page=2)). Flask will include those as query string parameters. Alternatively, manually construct the URL string or use urllib.parse to encode parameters.\n"
      ]
    },
    {
      "cell_type": "markdown",
      "metadata": {},
      "source": [
        "### 36. How do you return JSON responses in Flask\n",
        "\n",
        "Return JSON by using jsonify(data) or by returning a tuple (json.dumps(data), status, {'Content-Type': 'application/json'}) though jsonify is preferred. Ensure that the response uses the correct status code and structure so clients can parse it reliably.\n"
      ]
    },
    {
      "cell_type": "markdown",
      "metadata": {},
      "source": [
        "### 37. How do you capture URL parameters in Flask?\n",
        "\n",
        "Define variables in the route path like @app.route('/user/<username>') and accept them as function arguments (def profile(username):). For typed parameters, use converters like <int:id> or <float:val> which automatically convert and validate the path segment.\n"
      ]
    },
    {
      "cell_type": "markdown",
      "metadata": {},
      "source": [
        "### Practical Q1: Create a basic Flask application\n",
        "Step-by-step: 1) Install Flask and Flask-SQLAlchemy. 2) Create app, configure DB, define models. 3) Add routes for GET/POST/PUT/DELETE. 4) Run the app.\n"
      ]
    },
    {
      "cell_type": "code",
      "execution_count": null,
      "metadata": {},
      "outputs": [],
      "source": [
        "# Practical Q1: Basic Flask application (example)\n",
        "# Save this as app.py and run `python app.py` to start the dev server.\n",
        "from flask import Flask, jsonify, request, render_template, redirect, url_for, session, abort\n",
        "from flask_sqlalchemy import SQLAlchemy\n",
        "\n",
        "app = Flask(__name__)\n",
        "app.config['SECRET_KEY'] = 'change_this_to_a_secure_random_value'\n",
        "app.config['SQLALCHEMY_DATABASE_URI'] = 'sqlite:///example.db'\n",
        "app.config['SQLALCHEMY_TRACK_MODIFICATIONS'] = False\n",
        "\n",
        "db = SQLAlchemy(app)\n",
        "\n",
        "# Simple model\n",
        "class Item(db.Model):\n",
        "    id = db.Column(db.Integer, primary_key=True)\n",
        "    name = db.Column(db.String(80), nullable=False)\n",
        "\n",
        "# Simple home route\n",
        "@app.route('/')\n",
        "def home():\n",
        "    return 'Welcome to the Flask demo application.'\n",
        "\n",
        "# Create item (POST) and list items (GET)\n",
        "@app.route('/items', methods=['GET','POST'])\n",
        "def items():\n",
        "    if request.method == 'GET':\n",
        "        items = Item.query.all()\n",
        "        return jsonify([{'id':i.id,'name':i.name} for i in items]), 200\n",
        "    else:\n",
        "        data = request.get_json() or {}\n",
        "        name = data.get('name')\n",
        "        if not name:\n",
        "            return jsonify({'error':'name is required'}), 400\n",
        "        item = Item(name=name)\n",
        "        db.session.add(item)\n",
        "        db.session.commit()\n",
        "        return jsonify({'id':item.id,'name':item.name}), 201\n",
        "\n",
        "# Retrieve single item\n",
        "@app.route('/items/<int:item_id>', methods=['GET','PUT','DELETE'])\n",
        "def item_detail(item_id):\n",
        "    item = Item.query.get_or_404(item_id)\n",
        "    if request.method == 'GET':\n",
        "        return jsonify({'id':item.id,'name':item.name}), 200\n",
        "    elif request.method == 'PUT':\n",
        "        data = request.get_json() or {}\n",
        "        name = data.get('name')\n",
        "        if not name:\n",
        "            return jsonify({'error':'name is required'}), 400\n",
        "        item.name = name\n",
        "        db.session.commit()\n",
        "        return jsonify({'id':item.id,'name':item.name}), 200\n",
        "    else:\n",
        "        db.session.delete(item)\n",
        "        db.session.commit()\n",
        "        return '', 204\n",
        "\n",
        "if __name__ == '__main__':\n",
        "    # Create database tables if they do not exist\n",
        "    with app.app_context():\n",
        "        db.create_all()\n",
        "    app.run(debug=True)\n"
      ]
    },
    {
      "cell_type": "markdown",
      "metadata": {},
      "source": [
        "### Practical Q2: Serve static files and render templates\n",
        "Explanation: Place assets under 'static' and templates under 'templates'. Use url_for('static', filename=...) and render_template to generate HTML responses.\n"
      ]
    },
    {
      "cell_type": "code",
      "execution_count": null,
      "metadata": {},
      "outputs": [],
      "source": [
        "# Practical Q2: Serving static files & rendering templates\n",
        "# Directory structure expected:\n",
        "# myapp/\n",
        "#   app.py\n",
        "#   templates/\n",
        "#     index.html\n",
        "#   static/\n",
        "#     css/\n",
        "#       styles.css\n",
        "#     images/\n",
        "#       logo.png\n",
        "\n",
        "from flask import Flask, render_template, url_for\n",
        "app = Flask(__name__)\n",
        "\n",
        "@app.route('/static-demo')\n",
        "def static_demo():\n",
        "    # Use url_for to reference static files in templates\n",
        "    return render_template('index.html')\n",
        "\n",
        "# Example template (templates/index.html):\n",
        "index_html = '''\n",
        "<!doctype html>\n",
        "<html>\n",
        "  <head>\n",
        "    <link rel=\"stylesheet\" href=\"{{ url_for('static', filename='css/styles.css') }}\">\n",
        "    <title>Static Demo</title>\n",
        "  </head>\n",
        "  <body>\n",
        "    <h1>Static Files Demo</h1>\n",
        "    <img src=\"{{ url_for('static', filename='images/logo.png') }}\" alt=\"Logo\">\n",
        "  </body>\n",
        "</html>\n",
        "'''\n",
        "print('Template example provided in the notebook. Create templates/index.html with this content to test.')\n"
      ]
    },
    {
      "cell_type": "markdown",
      "metadata": {},
      "source": [
        "### Practical Q3: Handle forms and validate data\n",
        "This example shows manual validation and Post/Redirect/Get pattern; for production, use Flask-WTF.\n"
      ]
    },
    {
      "cell_type": "code",
      "execution_count": null,
      "metadata": {},
      "outputs": [],
      "source": [
        "# Practical Q3: Handling forms and validation (simple manual validation)\n",
        "from flask import Flask, request, redirect, url_for, render_template_string, flash\n",
        "app = Flask(__name__)\n",
        "app.config['SECRET_KEY'] = 'change-this'\n",
        "\n",
        "form_template = '''\n",
        "<!doctype html><title>Form Example</title>\n",
        "{% with messages = get_flashed_messages() %}\n",
        "  {% if messages %}\n",
        "    <ul>{% for m in messages %}<li>{{ m }}</li>{% endfor %}</ul>\n",
        "  {% endif %}\n",
        "{% endwith %}\n",
        "<form method=\"post\" action=\"{{ url_for('submit_form') }}\">\n",
        "  <label>Name: <input name=\"name\"></label><br>\n",
        "  <label>Age: <input name=\"age\" type=\"number\"></label><br>\n",
        "  <button type=\"submit\">Submit</button>\n",
        "</form>\n",
        "'''\n",
        "\n",
        "@app.route('/form')\n",
        "def form():\n",
        "    return render_template_string(form_template)\n",
        "\n",
        "@app.route('/submit', methods=['POST'])\n",
        "def submit_form():\n",
        "    name = request.form.get('name','').strip()\n",
        "    age = request.form.get('age','').strip()\n",
        "    errors = []\n",
        "    if not name:\n",
        "        errors.append('Name is required.')\n",
        "    try:\n",
        "        age_val = int(age)\n",
        "        if age_val <= 0:\n",
        "            errors.append('Age must be positive.')\n",
        "    except ValueError:\n",
        "        errors.append('Age must be an integer.')\n",
        "    if errors:\n",
        "        for e in errors:\n",
        "            flash(e)\n",
        "        return redirect(url_for('form'))\n",
        "    # On success, use PRG pattern to redirect\n",
        "    flash('Form submitted successfully.')\n",
        "    return redirect(url_for('form'))\n",
        "\n",
        "# Note: For production use Flask-WTF to get CSRF protection and richer validation.\n"
      ]
    },
    {
      "cell_type": "markdown",
      "metadata": {},
      "source": [
        "### Practical Q4: Error handling\n",
        "Use @app.errorhandler to return structured errors for APIs and custom HTML for web pages.\n"
      ]
    },
    {
      "cell_type": "code",
      "execution_count": null,
      "metadata": {},
      "outputs": [],
      "source": [
        "# Practical Q4: Error handling and custom error pages\n",
        "from flask import Flask, jsonify, render_template_string\n",
        "app = Flask(__name__)\n",
        "\n",
        "@app.errorhandler(404)\n",
        "def not_found(e):\n",
        "    # Return JSON for API requests or HTML for browser requests as needed\n",
        "    return jsonify({'error':'Not Found','code':404}), 404\n",
        "\n",
        "@app.errorhandler(500)\n",
        "def internal_error(e):\n",
        "    return jsonify({'error':'Internal Server Error','code':500}), 500\n",
        "\n",
        "@app.route('/cause-500')\n",
        "def cause_500():\n",
        "    raise Exception('Intentional error to demonstrate 500 handler')\n",
        "\n",
        "# The JSON error handlers above ensure clients receive structured errors.\n"
      ]
    },
    {
      "cell_type": "markdown",
      "metadata": {},
      "source": [
        "### Practical Q5: Structure app with Blueprints\n",
        "Create blueprints for logical modules (auth, api, admin) and register them with the app to keep code modular.\n"
      ]
    },
    {
      "cell_type": "code",
      "execution_count": null,
      "metadata": {},
      "outputs": [],
      "source": [
        "# Practical Q5: Using Blueprints to structure the app\n",
        "# File: myapp/auth/routes.py\n",
        "auth_routes = '''\n",
        "from flask import Blueprint, jsonify\n",
        "\n",
        "auth_bp = Blueprint('auth', __name__, url_prefix='/auth')\n",
        "\n",
        "@auth_bp.route('/login', methods=['POST'])\n",
        "def login():\n",
        "    # handle login\n",
        "    return jsonify({'message':'login endpoint'})\n",
        "\n",
        "'''\n",
        "\n",
        "print('Blueprint example provided. Create a blueprint module and register with app.register_blueprint(auth_bp).')\n"
      ]
    },
    {
      "cell_type": "markdown",
      "metadata": {},
      "source": [
        "### Practical Q6: Define a custom Jinja filter\n",
        "Register a Python function with @app.template_filter and use it in templates.\n"
      ]
    },
    {
      "cell_type": "code",
      "execution_count": null,
      "metadata": {},
      "outputs": [],
      "source": [
        "# Practical Q6: Custom Jinja filter\n",
        "from flask import Flask, render_template_string\n",
        "app = Flask(__name__)\n",
        "\n",
        "@app.template_filter('reverse')\n",
        "def reverse_filter(s):\n",
        "    return s[::-1] if isinstance(s, str) else s\n",
        "\n",
        "template = \"{{ 'hello'|reverse }}\"\n",
        "print(render_template_string(template))  # outputs 'olleh'\n"
      ]
    },
    {
      "cell_type": "markdown",
      "metadata": {},
      "source": [
        "### Practical Q7: JSON responses and URL parameters\n",
        "Use route variables and request.args for path and query parameters respectively.\n"
      ]
    },
    {
      "cell_type": "code",
      "execution_count": null,
      "metadata": {},
      "outputs": [],
      "source": [
        "# Practical Q7: Return JSON and capture URL params\n",
        "from flask import Flask, jsonify\n",
        "app = Flask(__name__)\n",
        "\n",
        "@app.route('/user/<string:username>')\n",
        "def profile(username):\n",
        "    return jsonify({'username': username, 'message': f'Hello, {username}'}), 200\n",
        "\n",
        "@app.route('/search')\n",
        "def search():\n",
        "    # Example query: /search?q=flask&page=2\n",
        "    from flask import request\n",
        "    q = request.args.get('q','')\n",
        "    page = int(request.args.get('page',1))\n",
        "    return jsonify({'q': q, 'page': page}), 200\n"
      ]
    },
    {
      "cell_type": "markdown",
      "metadata": {},
      "source": [
        "### Practical Q8: Secure endpoints (basic example)\n",
        "For real-world auth use Flask-JWT-Extended, OAuth libraries, HTTPS, and proper secret management.\n"
      ]
    },
    {
      "cell_type": "code",
      "execution_count": null,
      "metadata": {},
      "outputs": [],
      "source": [
        "# Practical Q8: Simple token-based auth concept (use Flask-JWT-Extended in real projects)\n",
        "from flask import Flask, request, jsonify, abort\n",
        "app = Flask(__name__)\n",
        "app.config['SECRET_KEY'] = 'secret'\n",
        "\n",
        "# Dummy token check\n",
        "def token_required(fn):\n",
        "    from functools import wraps\n",
        "    @wraps(fn)\n",
        "    def wrapper(*args, **kwargs):\n",
        "        token = request.headers.get('Authorization')\n",
        "        if not token or token != 'Bearer mysecrettoken':\n",
        "            return jsonify({'error':'Unauthorized'}), 401\n",
        "        return fn(*args, **kwargs)\n",
        "    return wrapper\n",
        "\n",
        "@app.route('/protected')\n",
        "@token_required\n",
        "def protected():\n",
        "    return jsonify({'message':'This is protected data.'}), 200\n"
      ]
    }
  ],
  "metadata": {
    "kernelspec": {
      "display_name": "Python 3",
      "language": "python",
      "name": "python3"
    },
    "language_info": {
      "name": "python",
      "version": "3.x"
    }
  },
  "nbformat": 4,
  "nbformat_minor": 5
}
