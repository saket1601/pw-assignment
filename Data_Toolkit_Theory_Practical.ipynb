{
 "cells": [
  {
   "cell_type": "markdown",
   "id": "ca8eace2",
   "metadata": {},
   "source": [
    "### Q1. What is NumPy, and why is it widely used in Python?\n",
    "\n",
    "NumPy (Numerical Python) is a foundational library for fast numerical computing. It provides the `ndarray`, a contiguous, homogeneous, fixed‑type, N‑dimensional array that supports vectorized operations implemented in C. Compared with native Python lists, NumPy arrays use far less memory, enable SIMD/vectorized math, broadcasting, and interoperate with C/Fortran code. This makes tasks like linear algebra, FFTs, random sampling, and element‑wise computations dramatically faster and more concise. NumPy also serves as the backbone for pandas, SciPy, scikit‑learn, and many other libraries, which is why it’s ubiquitous in the Python data stack."
   ]
  },
  {
   "cell_type": "markdown",
   "id": "2a02088e",
   "metadata": {},
   "source": [
    "### Q2. How does broadcasting work in NumPy?\n",
    "\n",
    "Broadcasting lets arrays of different shapes participate in arithmetic by *logically* expanding dimensions of size 1 without copying data. NumPy compares shapes from right to left; two dimensions are compatible if they are equal or either is 1. When an axis is 1, its values are conceptually repeated to match the other shape for the operation. Broadcasting reduces boilerplate like manual tiling, and it remains memory‑efficient because NumPy does not actually materialize the repeated data."
   ]
  },
  {
   "cell_type": "markdown",
   "id": "d5c9bee2",
   "metadata": {},
   "source": [
    "### Q3. What is a pandas DataFrame?\n",
    "\n",
    "A pandas DataFrame is a 2‑D labeled, tabular data structure with rows and columns. Each column is a `Series` with its own data type, supporting heterogeneous data across columns. DataFrames offer rich indexing (labels, boolean masks, loc/iloc), alignment, missing‑data handling, joins/merges, groupby, reshaping (pivot/melt), time‑series features, and I/O to formats like CSV, Excel, SQL, and Parquet—making them a high‑level tool for data wrangling and analysis."
   ]
  },
  {
   "cell_type": "markdown",
   "id": "092d5bf0",
   "metadata": {},
   "source": [
    "### Q4. Explain the use of the `groupby()` method in pandas.\n",
    "\n",
    "`groupby()` splits data into groups based on keys (one or more columns), applies a function to each group (aggregate, transform, or filter), and combines results. Typical uses include aggregations (e.g., sum, mean, count), windowed computations within categories, and per‑group transformations (e.g., z‑scores within each category). It’s central for analyzing patterns across categories such as sales by region or averages per class."
   ]
  },
  {
   "cell_type": "markdown",
   "id": "79d39c49",
   "metadata": {},
   "source": [
    "### Q5. Why is Seaborn preferred for statistical visualizations?\n",
    "\n",
    "Seaborn sits atop Matplotlib and streamlines statistical plotting with sensible defaults, themeing, and functions that accept tidy DataFrames. It integrates estimation and confidence intervals, categorical plotting, and distribution plots with fewer lines of code. It also manages color palettes and facets well. In short, it lowers the effort to produce statistically informative visuals with consistent aesthetics."
   ]
  },
  {
   "cell_type": "markdown",
   "id": "0787ffde",
   "metadata": {},
   "source": [
    "### Q6. What are the differences between NumPy arrays and Python lists?\n",
    "\n",
    "• **Homogeneity:** NumPy arrays store one fixed dtype; lists hold arbitrary Python objects.\n",
    "• **Memory/Layout:** Arrays are contiguous blocks enabling SIMD; lists are arrays of pointers.\n",
    "• **Speed:** Vectorized array ops run in optimized C; list loops are Python‑level and slower.\n",
    "• **Functionality:** Arrays support broadcasting, slicing views, linear algebra, FFTs; lists do not.\n",
    "• **Safety:** Fixed dtype catches type issues early; lists allow mixed types which may hide errors."
   ]
  },
  {
   "cell_type": "markdown",
   "id": "6c724448",
   "metadata": {},
   "source": [
    "### Q7. What is a heatmap, and when should it be used?\n",
    "\n",
    "A heatmap is a color‑encoded matrix where cell color represents magnitude. It’s ideal for visualizing correlation matrices, confusion matrices, pivot tables, or any 2‑D grid of values to reveal patterns, clusters, or outliers at a glance. Annotations and colorbars aid interpretation."
   ]
  },
  {
   "cell_type": "markdown",
   "id": "e4109cc1",
   "metadata": {},
   "source": [
    "### Q8. What does the term “vectorized operation” mean in NumPy?\n",
    "\n",
    "A vectorized operation applies a computation across entire arrays without explicit Python loops. The work is offloaded to compiled, low‑level routines (often leveraging BLAS/SIMD), yielding cleaner code and substantial speedups. Examples include `a+b`, `a*b`, `np.dot`, or `np.exp(a)`."
   ]
  },
  {
   "cell_type": "markdown",
   "id": "8917ff59",
   "metadata": {},
   "source": [
    "### Q9. How does Matplotlib differ from Plotly?\n",
    "\n",
    "Matplotlib is a static plotting library with fine‑grained control and a vast ecosystem; it outputs publication‑quality figures (PNG, PDF, SVG). Plotly focuses on interactive, web‑native graphics (zoom/hover/tooltips) that can be embedded as HTML dashboards. Choose Matplotlib for static reports and traditional scientific workflows; choose Plotly for interactive exploration and sharing."
   ]
  },
  {
   "cell_type": "markdown",
   "id": "095abcf5",
   "metadata": {},
   "source": [
    "### Q10. What is the significance of hierarchical indexing in pandas?\n",
    "\n",
    "Hierarchical (MultiIndex) indexing allows multiple levels of row/column labels (e.g., (city, year)). It supports compact representation of high‑dimensional data, enables partial indexing/slicing across levels, and makes reshaping (stack/unstack) flexible. This is especially helpful for panel/time‑by‑category analyses."
   ]
  },
  {
   "cell_type": "markdown",
   "id": "cc9e466b",
   "metadata": {},
   "source": [
    "### Q11. What is the role of Seaborn’s `pairplot()` function?\n",
    "\n",
    "`pairplot()` draws pairwise relationships for a DataFrame (scatter plots for each pair of numeric variables and hist/ KDE on the diagonal). It’s useful for quick EDA to spot linear/nonlinear associations, clusters, or anomalies; hue can reveal class structure across variables."
   ]
  },
  {
   "cell_type": "markdown",
   "id": "3627f89b",
   "metadata": {},
   "source": [
    "### Q12. What is the purpose of the `describe()` function in pandas?\n",
    "\n",
    "`describe()` provides summary statistics for numeric (and optionally categorical) columns—count, mean, std, min, quartiles, max (and unique/top/freq for categoricals). It’s a fast way to sanity‑check ranges, detect missingness, and understand distribution shape."
   ]
  },
  {
   "cell_type": "markdown",
   "id": "4e712a7d",
   "metadata": {},
   "source": [
    "### Q13. Why is handling missing data important in pandas?\n",
    "\n",
    "Missing values can bias statistics, break models, and distort visualizations. Proper handling—detecting with `isna()`, imputing (mean/median/model‑based), dropping, or flagging—ensures analyses remain valid and reproducible. pandas provides `fillna`, `dropna`, interpolation, and informative NA‑aware operations."
   ]
  },
  {
   "cell_type": "markdown",
   "id": "75b7b745",
   "metadata": {},
   "source": [
    "### Q14. What are the benefits of using Plotly for data visualization?\n",
    "\n",
    "Plotly offers interactivity (hover, zoom, pan, selection), rich 2‑D/3‑D chart types, web embedding, and seamless export to HTML. It accelerates exploratory analysis and stakeholder communication by making insights discoverable via tooltips and interactions without extra coding."
   ]
  },
  {
   "cell_type": "markdown",
   "id": "f3d92fac",
   "metadata": {},
   "source": [
    "### Q15. How does NumPy handle multidimensional arrays?\n",
    "\n",
    "NumPy generalizes arrays to N dimensions with a shape tuple and strides describing memory layout. Operations respect broadcasting rules across axes. Views allow slicing without copying; `axis` parameters control reductions (e.g., sum over rows vs columns). Many linear‑algebra routines support 2‑D/stacked arrays (batched operations)."
   ]
  },
  {
   "cell_type": "markdown",
   "id": "a9d7808d",
   "metadata": {},
   "source": [
    "### Q16. What is the role of Bokeh in data visualization?\n",
    "\n",
    "Bokeh is a Python library for interactive, browser‑based visualizations rendered via HTML/JS. It excels at dashboards with linked brushing and server‑backed apps that update plots from Python callbacks, bridging static plotting and full web frameworks with relatively little code."
   ]
  },
  {
   "cell_type": "markdown",
   "id": "a066af24",
   "metadata": {},
   "source": [
    "### Q17. Explain the difference between `apply()` and `map()` in pandas.\n",
    "\n",
    "`Series.map(func)` transforms element‑wise on a single Series (or uses a dict for remapping). `DataFrame.apply(func, axis=0/1)` applies a function to each column or row and can return scalars or Series. For vectorized operations prefer built‑ins; `apply` is a flexible fallback when no vectorized method exists."
   ]
  },
  {
   "cell_type": "markdown",
   "id": "93000a49",
   "metadata": {},
   "source": [
    "### Q18. What are some advanced features of NumPy?\n",
    "\n",
    "Advanced features include broadcasting, strides and views, structured/record dtypes, memory‑mapped arrays, vectorize/ufuncs (incl. generalized ufuncs), masked arrays, random generators with BitGenerators, linear algebra (`np.linalg`), FFTs, polynomial tools, and interoperability with Numba/Cython/SciPy."
   ]
  },
  {
   "cell_type": "markdown",
   "id": "179c0618",
   "metadata": {},
   "source": [
    "### Q19. How does pandas simplify time series analysis?\n",
    "\n",
    "pandas provides datetime indexing, resampling (up/down sampling with aggregations), window functions (rolling/expanding), time‑zone handling, shifting/lagging, period/frequency conversions, and rich date parsing. This simplifies tasks like daily → monthly aggregations, moving averages, and event alignment."
   ]
  },
  {
   "cell_type": "markdown",
   "id": "c5995932",
   "metadata": {},
   "source": [
    "### Q20. What is the role of a pivot table in pandas?\n",
    "\n",
    "Pivot tables reshape long/tidy data into a matrix with chosen index/columns and aggregated values. They summarize metrics across two or more keys (e.g., mean sales by (region × product)) and are great for reporting, heatmaps, and feeding models that expect wide data."
   ]
  },
  {
   "cell_type": "markdown",
   "id": "e7ac83b5",
   "metadata": {},
   "source": [
    "### Q21. Why is NumPy’s array slicing faster than Python’s list slicing?\n",
    "\n",
    "Array slices are *views* referencing the same contiguous memory with adjusted strides—no element‑wise object copies. List slicing creates a new list of object references, incurring Python‑level overhead. NumPy’s compiled routines and homogeneous dtypes further accelerate access."
   ]
  },
  {
   "cell_type": "markdown",
   "id": "0a95310c",
   "metadata": {},
   "source": [
    "### Q22. What are some common use cases for Seaborn?\n",
    "\n",
    "Typical use cases: quick EDA (pairplot, jointplot), visualizing distributions (hist, KDE, ECDF), categorical comparisons (bar/point/box/violin/swarm plots), regression diagnostics (regplot/lmplot), correlation heatmaps, and faceted grids for multi‑panel comparisons with minimal code."
   ]
  },
  {
   "cell_type": "markdown",
   "id": "2a5ca4a2",
   "metadata": {},
   "source": [
    "### Task 1. Create a 2D NumPy array and calculate the sum of each row"
   ]
  },
  {
   "cell_type": "code",
   "execution_count": null,
   "id": "19594cd7",
   "metadata": {},
   "outputs": [],
   "source": [
    "\n",
    "import numpy as np\n",
    "A = np.array([[1,2,3],[4,5,6],[7,8,9]])\n",
    "row_sums = A.sum(axis=1)\n",
    "print(\"Array:\\n\", A)\n",
    "print(\"Row sums:\", row_sums)\n"
   ]
  },
  {
   "cell_type": "markdown",
   "id": "63bd8eef",
   "metadata": {},
   "source": [
    "### Task 2. Find the mean of a specific column in a DataFrame"
   ]
  },
  {
   "cell_type": "code",
   "execution_count": null,
   "id": "9b2804ed",
   "metadata": {},
   "outputs": [],
   "source": [
    "\n",
    "import pandas as pd\n",
    "df = pd.DataFrame({'city':['A','B','C','D'],'value':[10, 14, 9, 12]})\n",
    "mean_val = df['value'].mean()\n",
    "print(df)\n",
    "print(\"Mean of 'value':\", mean_val)\n"
   ]
  },
  {
   "cell_type": "markdown",
   "id": "6a465112",
   "metadata": {},
   "source": [
    "### Task 3. Create a scatter plot using Matplotlib"
   ]
  },
  {
   "cell_type": "code",
   "execution_count": null,
   "id": "343570d8",
   "metadata": {},
   "outputs": [],
   "source": [
    "\n",
    "import matplotlib.pyplot as plt\n",
    "x = np.linspace(0, 10, 50)\n",
    "y = np.sin(x) + 0.2*np.random.randn(50)\n",
    "plt.figure()\n",
    "plt.scatter(x, y)\n",
    "plt.title(\"Scatter Plot\")\n",
    "plt.xlabel(\"x\"); plt.ylabel(\"y\")\n",
    "plt.show()\n"
   ]
  },
  {
   "cell_type": "markdown",
   "id": "527e532d",
   "metadata": {},
   "source": [
    "### Task 4. Calculate the correlation matrix and visualize it with a heatmap"
   ]
  },
  {
   "cell_type": "code",
   "execution_count": null,
   "id": "b9e34db0",
   "metadata": {},
   "outputs": [],
   "source": [
    "\n",
    "# Using pandas corr and Matplotlib imshow for a heatmap-like view\n",
    "np.random.seed(0)\n",
    "data = pd.DataFrame({\n",
    "    'feat1': np.random.randn(100),\n",
    "    'feat2': np.random.randn(100) * 0.5 + 0.2,\n",
    "    'feat3': np.random.randn(100) * 2 - 1\n",
    "})\n",
    "corr = data.corr(numeric_only=True)\n",
    "print(\"Correlation Matrix:\\n\", corr)\n",
    "\n",
    "plt.figure()\n",
    "im = plt.imshow(corr.values, interpolation='nearest', aspect='auto')\n",
    "plt.colorbar(im)\n",
    "plt.xticks(range(len(corr.columns)), corr.columns, rotation=45)\n",
    "plt.yticks(range(len(corr.columns)), corr.columns)\n",
    "plt.title(\"Correlation Heatmap (Matplotlib)\")\n",
    "plt.tight_layout()\n",
    "plt.show()\n"
   ]
  },
  {
   "cell_type": "markdown",
   "id": "85e225c3",
   "metadata": {},
   "source": [
    "### Task 5. Generate a bar plot using Plotly"
   ]
  },
  {
   "cell_type": "code",
   "execution_count": null,
   "id": "fe41e2ee",
   "metadata": {},
   "outputs": [],
   "source": [
    "\n",
    "import plotly.express as px\n",
    "import pandas as pd\n",
    "\n",
    "sales = pd.DataFrame({'product':['A','B','C','D'], 'revenue':[120, 90, 150, 60]})\n",
    "fig = px.bar(sales, x='product', y='revenue', title=\"Bar Plot (Plotly)\")\n",
    "fig.show()\n"
   ]
  },
  {
   "cell_type": "markdown",
   "id": "29c46b34",
   "metadata": {},
   "source": [
    "### Task 6. Create a DataFrame and add a new column based on an existing column"
   ]
  },
  {
   "cell_type": "code",
   "execution_count": null,
   "id": "a4249418",
   "metadata": {},
   "outputs": [],
   "source": [
    "\n",
    "df2 = pd.DataFrame({'price':[100, 250, 400], 'qty':[2, 1, 5]})\n",
    "df2['total'] = df2['price'] * df2['qty']\n",
    "print(df2)\n"
   ]
  },
  {
   "cell_type": "markdown",
   "id": "1144d11c",
   "metadata": {},
   "source": [
    "### Task 7. Element-wise multiplication of two NumPy arrays"
   ]
  },
  {
   "cell_type": "code",
   "execution_count": null,
   "id": "642e64e9",
   "metadata": {},
   "outputs": [],
   "source": [
    "\n",
    "x = np.array([1,2,3])\n",
    "y = np.array([4,5,6])\n",
    "prod = x * y\n",
    "print(\"x:\", x, \"y:\", y, \"element-wise product:\", prod)\n"
   ]
  },
  {
   "cell_type": "markdown",
   "id": "392bd9dc",
   "metadata": {},
   "source": [
    "### Task 8. Create a line plot with multiple lines using Matplotlib"
   ]
  },
  {
   "cell_type": "code",
   "execution_count": null,
   "id": "21d5832a",
   "metadata": {},
   "outputs": [],
   "source": [
    "\n",
    "t = np.linspace(0, 2*np.pi, 200)\n",
    "plt.figure()\n",
    "plt.plot(t, np.sin(t), label='sin')\n",
    "plt.plot(t, np.cos(t), label='cos')\n",
    "plt.title(\"Multiple Lines\")\n",
    "plt.xlabel(\"t\"); plt.ylabel(\"value\")\n",
    "plt.legend()\n",
    "plt.show()\n"
   ]
  },
  {
   "cell_type": "markdown",
   "id": "be3d15e2",
   "metadata": {},
   "source": [
    "### Task 9. Filter DataFrame rows where a column value is greater than a threshold"
   ]
  },
  {
   "cell_type": "code",
   "execution_count": null,
   "id": "b5147014",
   "metadata": {},
   "outputs": [],
   "source": [
    "\n",
    "df3 = pd.DataFrame({'name':['p','q','r','s'],'score':[65, 82, 58, 90]})\n",
    "filtered = df3[df3['score'] > 70]\n",
    "print(\"Original:\\n\", df3)\n",
    "print(\"\\nFiltered (score > 70):\\n\", filtered)\n"
   ]
  },
  {
   "cell_type": "markdown",
   "id": "1a0a5d8c",
   "metadata": {},
   "source": [
    "### Task 10. Create a histogram to visualize a distribution"
   ]
  },
  {
   "cell_type": "code",
   "execution_count": null,
   "id": "47b46ba9",
   "metadata": {},
   "outputs": [],
   "source": [
    "\n",
    "np.random.seed(42)\n",
    "samples = np.random.normal(loc=0, scale=1, size=500)\n",
    "plt.figure()\n",
    "plt.hist(samples, bins=25)\n",
    "plt.title(\"Distribution Histogram\")\n",
    "plt.xlabel(\"Value\"); plt.ylabel(\"Frequency\")\n",
    "plt.show()\n"
   ]
  },
  {
   "cell_type": "markdown",
   "id": "4d52e45a",
   "metadata": {},
   "source": [
    "### Task 11. Perform matrix multiplication using NumPy"
   ]
  },
  {
   "cell_type": "code",
   "execution_count": null,
   "id": "b886644a",
   "metadata": {},
   "outputs": [],
   "source": [
    "\n",
    "M = np.array([[1,2],[3,4],[5,6]])      # 3x2\n",
    "N = np.array([[7,8,9],[10,11,12]])     # 2x3\n",
    "MN = M @ N\n",
    "print(\"M:\\n\", M)\n",
    "print(\"N:\\n\", N)\n",
    "print(\"M @ N (3x3):\\n\", MN)\n"
   ]
  },
  {
   "cell_type": "markdown",
   "id": "ef814534",
   "metadata": {},
   "source": [
    "### Task 12. Use pandas to load a CSV file and display its first 5 rows"
   ]
  },
  {
   "cell_type": "code",
   "execution_count": null,
   "id": "b624cdf8",
   "metadata": {},
   "outputs": [],
   "source": [
    "\n",
    "# Create small CSV\n",
    "tmp = pd.DataFrame({'id':[1,2,3,4,5],'val':[10,20,15,30,25]})\n",
    "csv_path = '/mnt/data/sample.csv'\n",
    "tmp.to_csv(csv_path, index=False)\n",
    "\n",
    "# Load and display\n",
    "loaded = pd.read_csv(csv_path)\n",
    "print(\"Loaded from:\", csv_path)\n",
    "print(loaded.head())\n"
   ]
  },
  {
   "cell_type": "markdown",
   "id": "40c450d6",
   "metadata": {},
   "source": [
    "### Task 13. Create a 3D scatter plot using Plotly"
   ]
  },
  {
   "cell_type": "code",
   "execution_count": null,
   "id": "ed5c810a",
   "metadata": {},
   "outputs": [],
   "source": [
    "\n",
    "import plotly.express as px\n",
    "np.random.seed(123)\n",
    "pts = pd.DataFrame({\n",
    "    'x': np.random.randn(200),\n",
    "    'y': np.random.randn(200),\n",
    "    'z': np.random.randn(200),\n",
    "    'label': np.random.choice(['A','B'], size=200)\n",
    "})\n",
    "fig = px.scatter_3d(pts, x='x', y='y', z='z', color='label', title='3D Scatter (Plotly)')\n",
    "fig.show()\n"
   ]
  }
 ],
 "metadata": {
  "kernelspec": {
   "display_name": "Python 3",
   "language": "python",
   "name": "python3"
  },
  "language_info": {
   "name": "python",
   "version": "3.11.9"
  }
 },
 "nbformat": 4,
 "nbformat_minor": 5
}
