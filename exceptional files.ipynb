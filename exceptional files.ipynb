{
 "cells": [
  {
   "cell_type": "markdown",
   "id": "012be176",
   "metadata": {},
   "source": [
    "# Python Assignment: Theory and Practical Solutions\n",
    "---"
   ]
  },
  {
   "cell_type": "markdown",
   "id": "5d613180",
   "metadata": {},
   "source": [
    "## 🧠 Theory Questions and Answers"
   ]
  },
  {
   "cell_type": "markdown",
   "id": "29efe34c",
   "metadata": {},
   "source": [
    "\n",
    "### 1. What is the difference between interpreted and compiled languages?\n",
    "- Interpreted languages execute code line-by-line (e.g., Python), while compiled languages translate the whole program to machine code before execution (e.g., C++).\n",
    "\n",
    "### 2. What is exception handling in Python?\n",
    "- A mechanism to handle runtime errors using `try`, `except`, `finally`, and `else` blocks.\n",
    "\n",
    "### 3. What is the purpose of the finally block in exception handling?\n",
    "- Code in `finally` always executes, even if an exception occurred. Useful for cleanup.\n",
    "\n",
    "### 4. What is logging in Python?\n",
    "- Logging helps track events and errors during execution using the `logging` module.\n",
    "\n",
    "### 5. What is the significance of the `__del__` method in Python?\n",
    "- Destructor method called when an object is deleted.\n",
    "\n",
    "### 6. What is the difference between `import` and `from ... import`?\n",
    "- `import` imports the whole module; `from ... import` imports specific items.\n",
    "\n",
    "### 7. How can you handle multiple exceptions in Python?\n",
    "```python\n",
    "try:\n",
    "    ...\n",
    "except (ValueError, TypeError):\n",
    "    ...\n",
    "```\n",
    "\n",
    "### 8. What is the purpose of the `with` statement in file handling?\n",
    "- Ensures file is properly closed after operations.\n",
    "\n",
    "### 9. Difference between multithreading and multiprocessing?\n",
    "- Threads share memory; processes have separate memory spaces.\n",
    "\n",
    "### 10. Advantages of logging:\n",
    "- Debugging, auditing, tracking errors, performance analysis.\n",
    "\n",
    "### 11. What is memory management in Python?\n",
    "- Involves allocation, deallocation, and garbage collection.\n",
    "\n",
    "### 12. Steps of exception handling:\n",
    "- `try`, `except`, `else`, `finally`.\n",
    "\n",
    "### 13. Why memory management is important?\n",
    "- To optimize performance and avoid leaks.\n",
    "\n",
    "### 14. Role of try and except?\n",
    "- Handle and respond to exceptions.\n",
    "\n",
    "### 15. Python’s garbage collection?\n",
    "- Uses reference counting and cyclic GC.\n",
    "\n",
    "### 16. Purpose of else block?\n",
    "- Executes when no exception occurs.\n",
    "\n",
    "### 17. Common logging levels?\n",
    "- DEBUG, INFO, WARNING, ERROR, CRITICAL.\n",
    "\n",
    "### 18. `os.fork()` vs multiprocessing?\n",
    "- `os.fork()` is Unix-only; multiprocessing is portable.\n",
    "\n",
    "### 19. Importance of closing a file?\n",
    "- Releases resources, avoids data loss.\n",
    "\n",
    "### 20. `read()` vs `readline()`?\n",
    "- `read()` reads entire file; `readline()` reads one line.\n",
    "\n",
    "### 21. Purpose of logging module?\n",
    "- Captures logs at various severity levels.\n",
    "\n",
    "### 22. `os` module in file handling?\n",
    "- Interacts with OS (file paths, checks, etc.)\n",
    "\n",
    "### 23. Challenges in memory management?\n",
    "- Circular references, large data, performance.\n",
    "\n",
    "### 24. Raise exception manually:\n",
    "```python\n",
    "raise ValueError(\"Custom error\")\n",
    "```\n",
    "\n",
    "### 25. Importance of multithreading?\n",
    "- Enables concurrent execution, better responsiveness.\n"
   ]
  },
  {
   "cell_type": "markdown",
   "id": "d84d9457",
   "metadata": {},
   "source": [
    "## 💻 Practical Questions and Python Solutions"
   ]
  },
  {
   "cell_type": "markdown",
   "id": "b5fad7e4",
   "metadata": {},
   "source": [
    "### 1. Open a file for writing in Python and write a string:"
   ]
  },
  {
   "cell_type": "code",
   "execution_count": null,
   "id": "27c2781a",
   "metadata": {},
   "outputs": [],
   "source": [
    "with open(\"output.txt\", \"w\") as file:\n",
    "    file.write(\"Hello, Pwskills!\")"
   ]
  },
  {
   "cell_type": "markdown",
   "id": "62929341",
   "metadata": {},
   "source": [
    "### 2. Read the contents of a file and print each line:"
   ]
  },
  {
   "cell_type": "code",
   "execution_count": null,
   "id": "4e836ce9",
   "metadata": {},
   "outputs": [],
   "source": [
    "with open(\"output.txt\", \"r\") as file:\n",
    "    for line in file:\n",
    "        print(line.strip())"
   ]
  },
  {
   "cell_type": "markdown",
   "id": "fa75fe63",
   "metadata": {},
   "source": [
    "### 3. Handle file not found error:"
   ]
  },
  {
   "cell_type": "code",
   "execution_count": null,
   "id": "fa2db503",
   "metadata": {},
   "outputs": [],
   "source": [
    "try:\n",
    "    with open(\"nofile.txt\", \"r\") as file:\n",
    "        print(file.read())\n",
    "except FileNotFoundError:\n",
    "    print(\"File not found.\")"
   ]
  },
  {
   "cell_type": "markdown",
   "id": "edad56c6",
   "metadata": {},
   "source": [
    "### 4. Copy content from one file to another:"
   ]
  },
  {
   "cell_type": "code",
   "execution_count": null,
   "id": "3c9763e9",
   "metadata": {},
   "outputs": [],
   "source": [
    "with open(\"source.txt\", \"r\") as src, open(\"dest.txt\", \"w\") as dest:\n",
    "    dest.write(src.read())"
   ]
  },
  {
   "cell_type": "markdown",
   "id": "2550a12d",
   "metadata": {},
   "source": [
    "### 5. Handle division by zero:"
   ]
  },
  {
   "cell_type": "code",
   "execution_count": null,
   "id": "d088867e",
   "metadata": {},
   "outputs": [],
   "source": [
    "try:\n",
    "    result = 10 / 0\n",
    "except ZeroDivisionError:\n",
    "    print(\"Cannot divide by zero.\")"
   ]
  },
  {
   "cell_type": "markdown",
   "id": "790e663f",
   "metadata": {},
   "source": [
    "### 6. Log division by zero error:"
   ]
  },
  {
   "cell_type": "code",
   "execution_count": null,
   "id": "2b832328",
   "metadata": {},
   "outputs": [],
   "source": [
    "import logging\n",
    "logging.basicConfig(filename=\"error.log\", level=logging.ERROR)\n",
    "try:\n",
    "    result = 10 / 0\n",
    "except ZeroDivisionError as e:\n",
    "    logging.error(f\"Error: {e}\")"
   ]
  },
  {
   "cell_type": "markdown",
   "id": "3af41f7a",
   "metadata": {},
   "source": [
    "### 7. Log info, warning, error:"
   ]
  },
  {
   "cell_type": "code",
   "execution_count": null,
   "id": "8909a97d",
   "metadata": {},
   "outputs": [],
   "source": [
    "import logging\n",
    "logging.basicConfig(level=logging.DEBUG)\n",
    "logging.info(\"Info message\")\n",
    "logging.warning(\"Warning message\")\n",
    "logging.error(\"Error message\")"
   ]
  },
  {
   "cell_type": "markdown",
   "id": "17603285",
   "metadata": {},
   "source": [
    "### 8. Handle file opening error:"
   ]
  },
  {
   "cell_type": "code",
   "execution_count": null,
   "id": "fe527b8e",
   "metadata": {},
   "outputs": [],
   "source": [
    "try:\n",
    "    with open(\"noexist.txt\") as f:\n",
    "        print(f.read())\n",
    "except IOError:\n",
    "    print(\"Error opening file\")"
   ]
  },
  {
   "cell_type": "markdown",
   "id": "ad812d43",
   "metadata": {},
   "source": [
    "### 9. Read file line by line into list:"
   ]
  },
  {
   "cell_type": "code",
   "execution_count": null,
   "id": "c9b13a37",
   "metadata": {},
   "outputs": [],
   "source": [
    "with open(\"output.txt\") as f:\n",
    "    lines = f.readlines()\n",
    "print(lines)"
   ]
  },
  {
   "cell_type": "markdown",
   "id": "925f1c8e",
   "metadata": {},
   "source": [
    "### 10. Append data to file:"
   ]
  },
  {
   "cell_type": "code",
   "execution_count": null,
   "id": "c2ccff1d",
   "metadata": {},
   "outputs": [],
   "source": [
    "with open(\"output.txt\", \"a\") as f:\n",
    "    f.write(\"\\nAppended line.\")"
   ]
  },
  {
   "cell_type": "markdown",
   "id": "3deaf23d",
   "metadata": {},
   "source": [
    "### 11. Handle missing dictionary key:"
   ]
  },
  {
   "cell_type": "code",
   "execution_count": null,
   "id": "5e7bcdea",
   "metadata": {},
   "outputs": [],
   "source": [
    "try:\n",
    "    d = {\"name\": \"Pwskills\"}\n",
    "    print(d[\"age\"])\n",
    "except KeyError:\n",
    "    print(\"Key not found\")"
   ]
  },
  {
   "cell_type": "markdown",
   "id": "945b0e51",
   "metadata": {},
   "source": [
    "### 12. Handle multiple exception types:"
   ]
  },
  {
   "cell_type": "code",
   "execution_count": null,
   "id": "69ecf3b1",
   "metadata": {},
   "outputs": [],
   "source": [
    "try:\n",
    "    a = 10 / 0\n",
    "    b = d[\"age\"]\n",
    "except ZeroDivisionError:\n",
    "    print(\"Division error\")\n",
    "except KeyError:\n",
    "    print(\"Key error\")"
   ]
  },
  {
   "cell_type": "markdown",
   "id": "04da2702",
   "metadata": {},
   "source": [
    "### 13. Check if file exists before reading:"
   ]
  },
  {
   "cell_type": "code",
   "execution_count": null,
   "id": "2f57fbab",
   "metadata": {},
   "outputs": [],
   "source": [
    "import os\n",
    "if os.path.exists(\"output.txt\"):\n",
    "    with open(\"output.txt\") as f:\n",
    "        print(f.read())\n",
    "else:\n",
    "    print(\"File not found\")"
   ]
  },
  {
   "cell_type": "markdown",
   "id": "b2a023d7",
   "metadata": {},
   "source": [
    "### 14. Log informational and error messages:"
   ]
  },
  {
   "cell_type": "code",
   "execution_count": null,
   "id": "5d589576",
   "metadata": {},
   "outputs": [],
   "source": [
    "import logging\n",
    "logging.basicConfig(filename=\"app.log\", level=logging.INFO)\n",
    "logging.info(\"Program started\")\n",
    "try:\n",
    "    1 / 0\n",
    "except ZeroDivisionError:\n",
    "    logging.error(\"Division by zero occurred\")"
   ]
  },
  {
   "cell_type": "markdown",
   "id": "f610ddf6",
   "metadata": {},
   "source": [
    "### 15. Handle and print empty file:"
   ]
  },
  {
   "cell_type": "code",
   "execution_count": null,
   "id": "06c41ea0",
   "metadata": {},
   "outputs": [],
   "source": [
    "with open(\"output.txt\") as f:\n",
    "    content = f.read()\n",
    "    if not content:\n",
    "        print(\"File is empty\")\n",
    "    else:\n",
    "        print(content)"
   ]
  },
  {
   "cell_type": "markdown",
   "id": "833560cd",
   "metadata": {},
   "source": [
    "### 16. Use memory profiling:"
   ]
  },
  {
   "cell_type": "code",
   "execution_count": null,
   "id": "fad60bda",
   "metadata": {},
   "outputs": [],
   "source": [
    "# pip install memory_profiler\n",
    "from memory_profiler import profile\n",
    "\n",
    "@profile\n",
    "def calc():\n",
    "    a = [i for i in range(10000)]\n",
    "    return sum(a)\n",
    "\n",
    "calc()"
   ]
  },
  {
   "cell_type": "markdown",
   "id": "8caaf960",
   "metadata": {},
   "source": [
    "### 17. Write list of numbers to file:"
   ]
  },
  {
   "cell_type": "code",
   "execution_count": null,
   "id": "c5f85803",
   "metadata": {},
   "outputs": [],
   "source": [
    "numbers = [1, 2, 3, 4, 5]\n",
    "with open(\"nums.txt\", \"w\") as f:\n",
    "    for num in numbers:\n",
    "        f.write(str(num) + \"\\n\")"
   ]
  },
  {
   "cell_type": "markdown",
   "id": "0f65924e",
   "metadata": {},
   "source": [
    "### 18. Logging with rotation after 1MB:"
   ]
  },
  {
   "cell_type": "code",
   "execution_count": null,
   "id": "60b3b766",
   "metadata": {},
   "outputs": [],
   "source": [
    "import logging\n",
    "from logging.handlers import RotatingFileHandler\n",
    "\n",
    "handler = RotatingFileHandler(\"rotate.log\", maxBytes=1048576, backupCount=3)\n",
    "logging.basicConfig(handlers=[handler], level=logging.INFO)\n",
    "logging.info(\"Logging with rotation\")"
   ]
  },
  {
   "cell_type": "markdown",
   "id": "86ba3210",
   "metadata": {},
   "source": [
    "### 19. Handle IndexError and KeyError:"
   ]
  },
  {
   "cell_type": "code",
   "execution_count": null,
   "id": "c1b12673",
   "metadata": {},
   "outputs": [],
   "source": [
    "try:\n",
    "    lst = [1]\n",
    "    print(lst[5])\n",
    "except IndexError:\n",
    "    print(\"Index error\")\n",
    "\n",
    "try:\n",
    "    d = {}\n",
    "    print(d[\"x\"])\n",
    "except KeyError:\n",
    "    print(\"Key error\")"
   ]
  },
  {
   "cell_type": "markdown",
   "id": "bae63d90",
   "metadata": {},
   "source": [
    "### 20. Read file using context manager:"
   ]
  },
  {
   "cell_type": "code",
   "execution_count": null,
   "id": "3046a1c7",
   "metadata": {},
   "outputs": [],
   "source": [
    "with open(\"output.txt\", \"r\") as f:\n",
    "    print(f.read())"
   ]
  },
  {
   "cell_type": "markdown",
   "id": "088181f3",
   "metadata": {},
   "source": [
    "### 21. Count word occurrences in file:"
   ]
  },
  {
   "cell_type": "code",
   "execution_count": null,
   "id": "bdf699f8",
   "metadata": {},
   "outputs": [],
   "source": [
    "word = \"Python\"\n",
    "with open(\"output.txt\") as f:\n",
    "    content = f.read()\n",
    "print(content.count(word))"
   ]
  },
  {
   "cell_type": "markdown",
   "id": "170e35ad",
   "metadata": {},
   "source": [
    "### 22. Check if file is empty:"
   ]
  },
  {
   "cell_type": "code",
   "execution_count": null,
   "id": "f26dcf60",
   "metadata": {},
   "outputs": [],
   "source": [
    "import os\n",
    "if os.stat(\"output.txt\").st_size == 0:\n",
    "    print(\"File is empty\")\n",
    "else:\n",
    "    print(\"File has content\")"
   ]
  },
  {
   "cell_type": "markdown",
   "id": "8daaf487",
   "metadata": {},
   "source": [
    "### 23. Log error during file handling:"
   ]
  },
  {
   "cell_type": "code",
   "execution_count": null,
   "id": "04f67df3",
   "metadata": {},
   "outputs": [],
   "source": [
    "import logging\n",
    "logging.basicConfig(filename=\"file_error.log\", level=logging.ERROR)\n",
    "\n",
    "try:\n",
    "    with open(\"nofile.txt\", \"r\") as f:\n",
    "        print(f.read())\n",
    "except Exception as e:\n",
    "    logging.error(f\"File handling error: {e}\")"
   ]
  }
 ],
 "metadata": {},
 "nbformat": 4,
 "nbformat_minor": 5
}
