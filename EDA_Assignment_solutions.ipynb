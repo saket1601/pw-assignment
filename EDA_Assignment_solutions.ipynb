{
  "cells": [
    {
      "cell_type": "markdown",
      "metadata": {
        "id": "U_jM3qDUWJ5y"
      },
      "source": [
        "# Exploratory Data Analysis (EDA) on Bike Details Dataset\n",
        "\n"
      ]
    },
    {
      "cell_type": "markdown",
      "metadata": {
        "id": "hbvPcBwoWSH4"
      },
      "source": [
        "### Initial Setup\n",
        "First, let's import the necessary libraries and download the dataset from the provided Google Drive link."
      ]
    },
    {
      "cell_type": "code",
      "execution_count": null,
      "metadata": {
        "id": "-P92_PrDWFuC"
      },
      "outputs": [],
      "source": [
        "# Install gdown to download the dataset from Google Drive\n",
        "!pip install gdown -q"
      ]
    },
    {
      "cell_type": "code",
      "execution_count": null,
      "metadata": {
        "id": "-xlm4wISWGl_"
      },
      "outputs": [],
      "source": [
        "import pandas as pd\n",
        "import numpy as np\n",
        "import matplotlib.pyplot as plt\n",
        "import seaborn as sns\n",
        "import gdown\n",
        "import warnings\n",
        "\n",
        "# Ignore warnings for cleaner output\n",
        "warnings.filterwarnings('ignore')\n",
        "\n",
        "# Set a nice style for plots\n",
        "sns.set_style('whitegrid')\n",
        "plt.rcParams['figure.figsize'] = (10, 6)"
      ]
    },
    {
      "cell_type": "markdown",
      "metadata": {
        "id": "NkdQs-H1X6a8"
      },
      "source": [
        "---\n",
        "### Question 1: Read the Bike Details dataset into a Pandas DataFrame and display its first 10 rows. (Show the shape and column names as well.)"
      ]
    },
    {
      "cell_type": "markdown",
      "metadata": {
        "id": "nJXVa96bX7l0"
      },
      "source": [
        "#### Answer:"
      ]
    },
    {
      "cell_type": "code",
      "execution_count": null,
      "metadata": {
        "colab": {
          "base_uri": "https://localhost:8080/",
          "height": 589
        },
        "id": "hg5hGjJ9WtF7",
        "outputId": "b8f806a6-50a4-4744-c710-f2751a562039"
      },
      "outputs": [
        {
          "name": "stderr",
          "output_type": "stream",
          "text": [
            "Downloading...\n",
            "From: https://drive.google.com/uc?id=1iKy23bMtEQShF_weneRNnYrFmzvpPOI3\n",
            "To: /content/bike_details.csv\n",
            "100%|██████████| 66.5k/66.5k [00:00<00:00, 28.9MB/s]"
          ]
        },
        {
          "name": "stdout",
          "output_type": "stream",
          "text": [
            "First 10 rows of the DataFrame:\n"
          ]
        },
        {
          "name": "stderr",
          "output_type": "stream",
          "text": [
            "\n"
          ]
        },
        {
          "data": {
            "application/vnd.google.colaboratory.intrinsic+json": {
              "summary": "{\n  \"name\": \"print(df\",\n  \"rows\": 10,\n  \"fields\": [\n    {\n      \"column\": \"name\",\n      \"properties\": {\n        \"dtype\": \"string\",\n        \"num_unique_values\": 10,\n        \"samples\": [\n          \"Hero Honda CBZ extreme\",\n          \"Honda Dio\",\n          \"Honda CB Twister\"\n        ],\n        \"semantic_type\": \"\",\n        \"description\": \"\"\n      }\n    },\n    {\n      \"column\": \"selling_price\",\n      \"properties\": {\n        \"dtype\": \"number\",\n        \"std\": 63428,\n        \"min\": 18000,\n        \"max\": 180000,\n        \"num_unique_values\": 10,\n        \"samples\": [\n          30000,\n          45000,\n          18000\n        ],\n        \"semantic_type\": \"\",\n        \"description\": \"\"\n      }\n    },\n    {\n      \"column\": \"year\",\n      \"properties\": {\n        \"dtype\": \"number\",\n        \"std\": 4,\n        \"min\": 2008,\n        \"max\": 2019,\n        \"num_unique_values\": 8,\n        \"samples\": [\n          2017,\n          2010,\n          2019\n        ],\n        \"semantic_type\": \"\",\n        \"description\": \"\"\n      }\n    },\n    {\n      \"column\": \"seller_type\",\n      \"properties\": {\n        \"dtype\": \"category\",\n        \"num_unique_values\": 1,\n        \"samples\": [\n          \"Individual\"\n        ],\n        \"semantic_type\": \"\",\n        \"description\": \"\"\n      }\n    },\n    {\n      \"column\": \"owner\",\n      \"properties\": {\n        \"dtype\": \"category\",\n        \"num_unique_values\": 2,\n        \"samples\": [\n          \"2nd owner\"\n        ],\n        \"semantic_type\": \"\",\n        \"description\": \"\"\n      }\n    },\n    {\n      \"column\": \"km_driven\",\n      \"properties\": {\n        \"dtype\": \"number\",\n        \"std\": 18238,\n        \"min\": 350,\n        \"max\": 60000,\n        \"num_unique_values\": 10,\n        \"samples\": [\n          32000\n        ],\n        \"semantic_type\": \"\",\n        \"description\": \"\"\n      }\n    },\n    {\n      \"column\": \"ex_showroom_price\",\n      \"properties\": {\n        \"dtype\": \"number\",\n        \"std\": 37280.488643525045,\n        \"min\": 53857.0,\n        \"max\": 148114.0,\n        \"num_unique_values\": 5,\n        \"samples\": [\n          89643.0\n        ],\n        \"semantic_type\": \"\",\n        \"description\": \"\"\n      }\n    }\n  ]\n}",
              "type": "dataframe"
            },
            "text/html": [
              "\n",
              "  <div id=\"df-a86c23f3-9956-49b4-989f-7e9dfa68b236\" class=\"colab-df-container\">\n",
              "    <div>\n",
              "<style scoped>\n",
              "    .dataframe tbody tr th:only-of-type {\n",
              "        vertical-align: middle;\n",
              "    }\n",
              "\n",
              "    .dataframe tbody tr th {\n",
              "        vertical-align: top;\n",
              "    }\n",
              "\n",
              "    .dataframe thead th {\n",
              "        text-align: right;\n",
              "    }\n",
              "</style>\n",
              "<table border=\"1\" class=\"dataframe\">\n",
              "  <thead>\n",
              "    <tr style=\"text-align: right;\">\n",
              "      <th></th>\n",
              "      <th>name</th>\n",
              "      <th>selling_price</th>\n",
              "      <th>year</th>\n",
              "      <th>seller_type</th>\n",
              "      <th>owner</th>\n",
              "      <th>km_driven</th>\n",
              "      <th>ex_showroom_price</th>\n",
              "    </tr>\n",
              "  </thead>\n",
              "  <tbody>\n",
              "    <tr>\n",
              "      <th>0</th>\n",
              "      <td>Royal Enfield Classic 350</td>\n",
              "      <td>175000</td>\n",
              "      <td>2019</td>\n",
              "      <td>Individual</td>\n",
              "      <td>1st owner</td>\n",
              "      <td>350</td>\n",
              "      <td>NaN</td>\n",
              "    </tr>\n",
              "    <tr>\n",
              "      <th>1</th>\n",
              "      <td>Honda Dio</td>\n",
              "      <td>45000</td>\n",
              "      <td>2017</td>\n",
              "      <td>Individual</td>\n",
              "      <td>1st owner</td>\n",
              "      <td>5650</td>\n",
              "      <td>NaN</td>\n",
              "    </tr>\n",
              "    <tr>\n",
              "      <th>2</th>\n",
              "      <td>Royal Enfield Classic Gunmetal Grey</td>\n",
              "      <td>150000</td>\n",
              "      <td>2018</td>\n",
              "      <td>Individual</td>\n",
              "      <td>1st owner</td>\n",
              "      <td>12000</td>\n",
              "      <td>148114.0</td>\n",
              "    </tr>\n",
              "    <tr>\n",
              "      <th>3</th>\n",
              "      <td>Yamaha Fazer FI V 2.0 [2016-2018]</td>\n",
              "      <td>65000</td>\n",
              "      <td>2015</td>\n",
              "      <td>Individual</td>\n",
              "      <td>1st owner</td>\n",
              "      <td>23000</td>\n",
              "      <td>89643.0</td>\n",
              "    </tr>\n",
              "    <tr>\n",
              "      <th>4</th>\n",
              "      <td>Yamaha SZ [2013-2014]</td>\n",
              "      <td>20000</td>\n",
              "      <td>2011</td>\n",
              "      <td>Individual</td>\n",
              "      <td>2nd owner</td>\n",
              "      <td>21000</td>\n",
              "      <td>NaN</td>\n",
              "    </tr>\n",
              "    <tr>\n",
              "      <th>5</th>\n",
              "      <td>Honda CB Twister</td>\n",
              "      <td>18000</td>\n",
              "      <td>2010</td>\n",
              "      <td>Individual</td>\n",
              "      <td>1st owner</td>\n",
              "      <td>60000</td>\n",
              "      <td>53857.0</td>\n",
              "    </tr>\n",
              "    <tr>\n",
              "      <th>6</th>\n",
              "      <td>Honda CB Hornet 160R</td>\n",
              "      <td>78500</td>\n",
              "      <td>2018</td>\n",
              "      <td>Individual</td>\n",
              "      <td>1st owner</td>\n",
              "      <td>17000</td>\n",
              "      <td>87719.0</td>\n",
              "    </tr>\n",
              "    <tr>\n",
              "      <th>7</th>\n",
              "      <td>Royal Enfield Bullet 350 [2007-2011]</td>\n",
              "      <td>180000</td>\n",
              "      <td>2008</td>\n",
              "      <td>Individual</td>\n",
              "      <td>2nd owner</td>\n",
              "      <td>39000</td>\n",
              "      <td>NaN</td>\n",
              "    </tr>\n",
              "    <tr>\n",
              "      <th>8</th>\n",
              "      <td>Hero Honda CBZ extreme</td>\n",
              "      <td>30000</td>\n",
              "      <td>2010</td>\n",
              "      <td>Individual</td>\n",
              "      <td>1st owner</td>\n",
              "      <td>32000</td>\n",
              "      <td>NaN</td>\n",
              "    </tr>\n",
              "    <tr>\n",
              "      <th>9</th>\n",
              "      <td>Bajaj Discover 125</td>\n",
              "      <td>50000</td>\n",
              "      <td>2016</td>\n",
              "      <td>Individual</td>\n",
              "      <td>1st owner</td>\n",
              "      <td>42000</td>\n",
              "      <td>60122.0</td>\n",
              "    </tr>\n",
              "  </tbody>\n",
              "</table>\n",
              "</div>\n",
              "    <div class=\"colab-df-buttons\">\n",
              "\n",
              "  <div class=\"colab-df-container\">\n",
              "    <button class=\"colab-df-convert\" onclick=\"convertToInteractive('df-a86c23f3-9956-49b4-989f-7e9dfa68b236')\"\n",
              "            title=\"Convert this dataframe to an interactive table.\"\n",
              "            style=\"display:none;\">\n",
              "\n",
              "  <svg xmlns=\"http://www.w3.org/2000/svg\" height=\"24px\" viewBox=\"0 -960 960 960\">\n",
              "    <path d=\"M120-120v-720h720v720H120Zm60-500h600v-160H180v160Zm220 220h160v-160H400v160Zm0 220h160v-160H400v160ZM180-400h160v-160H180v160Zm440 0h160v-160H620v160ZM180-180h160v-160H180v160Zm440 0h160v-160H620v160Z\"/>\n",
              "  </svg>\n",
              "    </button>\n",
              "\n",
              "  <style>\n",
              "    .colab-df-container {\n",
              "      display:flex;\n",
              "      gap: 12px;\n",
              "    }\n",
              "\n",
              "    .colab-df-convert {\n",
              "      background-color: #E8F0FE;\n",
              "      border: none;\n",
              "      border-radius: 50%;\n",
              "      cursor: pointer;\n",
              "      display: none;\n",
              "      fill: #1967D2;\n",
              "      height: 32px;\n",
              "      padding: 0 0 0 0;\n",
              "      width: 32px;\n",
              "    }\n",
              "\n",
              "    .colab-df-convert:hover {\n",
              "      background-color: #E2EBFA;\n",
              "      box-shadow: 0px 1px 2px rgba(60, 64, 67, 0.3), 0px 1px 3px 1px rgba(60, 64, 67, 0.15);\n",
              "      fill: #174EA6;\n",
              "    }\n",
              "\n",
              "    .colab-df-buttons div {\n",
              "      margin-bottom: 4px;\n",
              "    }\n",
              "\n",
              "    [theme=dark] .colab-df-convert {\n",
              "      background-color: #3B4455;\n",
              "      fill: #D2E3FC;\n",
              "    }\n",
              "\n",
              "    [theme=dark] .colab-df-convert:hover {\n",
              "      background-color: #434B5C;\n",
              "      box-shadow: 0px 1px 3px 1px rgba(0, 0, 0, 0.15);\n",
              "      filter: drop-shadow(0px 1px 2px rgba(0, 0, 0, 0.3));\n",
              "      fill: #FFFFFF;\n",
              "    }\n",
              "  </style>\n",
              "\n",
              "    <script>\n",
              "      const buttonEl =\n",
              "        document.querySelector('#df-a86c23f3-9956-49b4-989f-7e9dfa68b236 button.colab-df-convert');\n",
              "      buttonEl.style.display =\n",
              "        google.colab.kernel.accessAllowed ? 'block' : 'none';\n",
              "\n",
              "      async function convertToInteractive(key) {\n",
              "        const element = document.querySelector('#df-a86c23f3-9956-49b4-989f-7e9dfa68b236');\n",
              "        const dataTable =\n",
              "          await google.colab.kernel.invokeFunction('convertToInteractive',\n",
              "                                                    [key], {});\n",
              "        if (!dataTable) return;\n",
              "\n",
              "        const docLinkHtml = 'Like what you see? Visit the ' +\n",
              "          '<a target=\"_blank\" href=https://colab.research.google.com/notebooks/data_table.ipynb>data table notebook</a>'\n",
              "          + ' to learn more about interactive tables.';\n",
              "        element.innerHTML = '';\n",
              "        dataTable['output_type'] = 'display_data';\n",
              "        await google.colab.output.renderOutput(dataTable, element);\n",
              "        const docLink = document.createElement('div');\n",
              "        docLink.innerHTML = docLinkHtml;\n",
              "        element.appendChild(docLink);\n",
              "      }\n",
              "    </script>\n",
              "  </div>\n",
              "\n",
              "\n",
              "    <div id=\"df-c679ddd8-b3db-4097-a71c-74e60189e973\">\n",
              "      <button class=\"colab-df-quickchart\" onclick=\"quickchart('df-c679ddd8-b3db-4097-a71c-74e60189e973')\"\n",
              "                title=\"Suggest charts\"\n",
              "                style=\"display:none;\">\n",
              "\n",
              "<svg xmlns=\"http://www.w3.org/2000/svg\" height=\"24px\"viewBox=\"0 0 24 24\"\n",
              "     width=\"24px\">\n",
              "    <g>\n",
              "        <path d=\"M19 3H5c-1.1 0-2 .9-2 2v14c0 1.1.9 2 2 2h14c1.1 0 2-.9 2-2V5c0-1.1-.9-2-2-2zM9 17H7v-7h2v7zm4 0h-2V7h2v10zm4 0h-2v-4h2v4z\"/>\n",
              "    </g>\n",
              "</svg>\n",
              "      </button>\n",
              "\n",
              "<style>\n",
              "  .colab-df-quickchart {\n",
              "      --bg-color: #E8F0FE;\n",
              "      --fill-color: #1967D2;\n",
              "      --hover-bg-color: #E2EBFA;\n",
              "      --hover-fill-color: #174EA6;\n",
              "      --disabled-fill-color: #AAA;\n",
              "      --disabled-bg-color: #DDD;\n",
              "  }\n",
              "\n",
              "  [theme=dark] .colab-df-quickchart {\n",
              "      --bg-color: #3B4455;\n",
              "      --fill-color: #D2E3FC;\n",
              "      --hover-bg-color: #434B5C;\n",
              "      --hover-fill-color: #FFFFFF;\n",
              "      --disabled-bg-color: #3B4455;\n",
              "      --disabled-fill-color: #666;\n",
              "  }\n",
              "\n",
              "  .colab-df-quickchart {\n",
              "    background-color: var(--bg-color);\n",
              "    border: none;\n",
              "    border-radius: 50%;\n",
              "    cursor: pointer;\n",
              "    display: none;\n",
              "    fill: var(--fill-color);\n",
              "    height: 32px;\n",
              "    padding: 0;\n",
              "    width: 32px;\n",
              "  }\n",
              "\n",
              "  .colab-df-quickchart:hover {\n",
              "    background-color: var(--hover-bg-color);\n",
              "    box-shadow: 0 1px 2px rgba(60, 64, 67, 0.3), 0 1px 3px 1px rgba(60, 64, 67, 0.15);\n",
              "    fill: var(--button-hover-fill-color);\n",
              "  }\n",
              "\n",
              "  .colab-df-quickchart-complete:disabled,\n",
              "  .colab-df-quickchart-complete:disabled:hover {\n",
              "    background-color: var(--disabled-bg-color);\n",
              "    fill: var(--disabled-fill-color);\n",
              "    box-shadow: none;\n",
              "  }\n",
              "\n",
              "  .colab-df-spinner {\n",
              "    border: 2px solid var(--fill-color);\n",
              "    border-color: transparent;\n",
              "    border-bottom-color: var(--fill-color);\n",
              "    animation:\n",
              "      spin 1s steps(1) infinite;\n",
              "  }\n",
              "\n",
              "  @keyframes spin {\n",
              "    0% {\n",
              "      border-color: transparent;\n",
              "      border-bottom-color: var(--fill-color);\n",
              "      border-left-color: var(--fill-color);\n",
              "    }\n",
              "    20% {\n",
              "      border-color: transparent;\n",
              "      border-left-color: var(--fill-color);\n",
              "      border-top-color: var(--fill-color);\n",
              "    }\n",
              "    30% {\n",
              "      border-color: transparent;\n",
              "      border-left-color: var(--fill-color);\n",
              "      border-top-color: var(--fill-color);\n",
              "      border-right-color: var(--fill-color);\n",
              "    }\n",
              "    40% {\n",
              "      border-color: transparent;\n",
              "      border-right-color: var(--fill-color);\n",
              "      border-top-color: var(--fill-color);\n",
              "    }\n",
              "    60% {\n",
              "      border-color: transparent;\n",
              "      border-right-color: var(--fill-color);\n",
              "    }\n",
              "    80% {\n",
              "      border-color: transparent;\n",
              "      border-right-color: var(--fill-color);\n",
              "      border-bottom-color: var(--fill-color);\n",
              "    }\n",
              "    90% {\n",
              "      border-color: transparent;\n",
              "      border-bottom-color: var(--fill-color);\n",
              "    }\n",
              "  }\n",
              "</style>\n",
              "\n",
              "      <script>\n",
              "        async function quickchart(key) {\n",
              "          const quickchartButtonEl =\n",
              "            document.querySelector('#' + key + ' button');\n",
              "          quickchartButtonEl.disabled = true;  // To prevent multiple clicks.\n",
              "          quickchartButtonEl.classList.add('colab-df-spinner');\n",
              "          try {\n",
              "            const charts = await google.colab.kernel.invokeFunction(\n",
              "                'suggestCharts', [key], {});\n",
              "          } catch (error) {\n",
              "            console.error('Error during call to suggestCharts:', error);\n",
              "          }\n",
              "          quickchartButtonEl.classList.remove('colab-df-spinner');\n",
              "          quickchartButtonEl.classList.add('colab-df-quickchart-complete');\n",
              "        }\n",
              "        (() => {\n",
              "          let quickchartButtonEl =\n",
              "            document.querySelector('#df-c679ddd8-b3db-4097-a71c-74e60189e973 button');\n",
              "          quickchartButtonEl.style.display =\n",
              "            google.colab.kernel.accessAllowed ? 'block' : 'none';\n",
              "        })();\n",
              "      </script>\n",
              "    </div>\n",
              "\n",
              "    </div>\n",
              "  </div>\n"
            ],
            "text/plain": [
              "                                   name  selling_price  year seller_type  \\\n",
              "0             Royal Enfield Classic 350         175000  2019  Individual   \n",
              "1                             Honda Dio          45000  2017  Individual   \n",
              "2   Royal Enfield Classic Gunmetal Grey         150000  2018  Individual   \n",
              "3     Yamaha Fazer FI V 2.0 [2016-2018]          65000  2015  Individual   \n",
              "4                 Yamaha SZ [2013-2014]          20000  2011  Individual   \n",
              "5                      Honda CB Twister          18000  2010  Individual   \n",
              "6                  Honda CB Hornet 160R          78500  2018  Individual   \n",
              "7  Royal Enfield Bullet 350 [2007-2011]         180000  2008  Individual   \n",
              "8                Hero Honda CBZ extreme          30000  2010  Individual   \n",
              "9                    Bajaj Discover 125          50000  2016  Individual   \n",
              "\n",
              "       owner  km_driven  ex_showroom_price  \n",
              "0  1st owner        350                NaN  \n",
              "1  1st owner       5650                NaN  \n",
              "2  1st owner      12000           148114.0  \n",
              "3  1st owner      23000            89643.0  \n",
              "4  2nd owner      21000                NaN  \n",
              "5  1st owner      60000            53857.0  \n",
              "6  1st owner      17000            87719.0  \n",
              "7  2nd owner      39000                NaN  \n",
              "8  1st owner      32000                NaN  \n",
              "9  1st owner      42000            60122.0  "
            ]
          },
          "metadata": {},
          "output_type": "display_data"
        },
        {
          "name": "stdout",
          "output_type": "stream",
          "text": [
            "\n",
            "Shape of the DataFrame:\n",
            "(1061, 7)\n",
            "\n",
            "Column names:\n",
            "Index(['name', 'selling_price', 'year', 'seller_type', 'owner', 'km_driven',\n",
            "       'ex_showroom_price'],\n",
            "      dtype='object')\n"
          ]
        }
      ],
      "source": [
        "# Download the dataset from Google Drive\n",
        "url = 'https://drive.google.com/uc?id=1iKy23bMtEQShF_weneRNnYrFmzvpPOI3'\n",
        "output = 'bike_details.csv'\n",
        "gdown.download(url, output, quiet=False)\n",
        "\n",
        "# Read the CSV file into a Pandas DataFrame\n",
        "df = pd.read_csv('bike_details.csv')\n",
        "\n",
        "# Display the first 10 rows\n",
        "print(\"First 10 rows of the DataFrame:\")\n",
        "display(df.head(10))\n",
        "\n",
        "# Display the shape of the DataFrame\n",
        "print(\"\\nShape of the DataFrame:\")\n",
        "print(df.shape)\n",
        "\n",
        "# Display the column names\n",
        "print(\"\\nColumn names:\")\n",
        "print(df.columns)"
      ]
    },
    {
      "cell_type": "markdown",
      "metadata": {
        "id": "HnabQyKwXxEM"
      },
      "source": [
        "### Question 2: Check for missing values in all columns and describe your approach for handling them.\n"
      ]
    },
    {
      "cell_type": "markdown",
      "metadata": {
        "id": "FWhL_2baX1Fr"
      },
      "source": [
        "#### Answer:"
      ]
    },
    {
      "cell_type": "code",
      "execution_count": null,
      "metadata": {
        "colab": {
          "base_uri": "https://localhost:8080/"
        },
        "id": "3BVX_Bn4XAyj",
        "outputId": "c03c62e9-3b2c-4f01-d893-6e0b1553941e"
      },
      "outputs": [
        {
          "name": "stdout",
          "output_type": "stream",
          "text": [
            "Missing values in each column:\n",
            "name                   0\n",
            "selling_price          0\n",
            "year                   0\n",
            "seller_type            0\n",
            "owner                  0\n",
            "km_driven              0\n",
            "ex_showroom_price    435\n",
            "dtype: int64\n"
          ]
        }
      ],
      "source": [
        "# Check for missing values\n",
        "print(\"Missing values in each column:\")\n",
        "print(df.isnull().sum())"
      ]
    },
    {
      "cell_type": "markdown",
      "metadata": {
        "id": "RoxNw61dXb8G"
      },
      "source": [
        "The `ex_showroom_price` column has **435 missing values**. The other columns are complete.\n",
        "\n",
        "**Approach for Handling Missing Values:**\n",
        "\n",
        "The `ex_showroom_price` column is missing a significant portion of its data (around 41%). Given this high percentage, simply filling it with the mean or median might introduce bias. A better approach would be to drop the column entirely, as it's not essential for analyzing the primary relationships between year, kilometers driven, ownership, and the selling price.\n",
        "\n",
        "For this assignment, we will **drop the `ex_showroom_price` column** before proceeding with further analysis."
      ]
    },
    {
      "cell_type": "code",
      "execution_count": null,
      "metadata": {
        "colab": {
          "base_uri": "https://localhost:8080/",
          "height": 224
        },
        "id": "tXl71oTrXjf4",
        "outputId": "a101eaa0-20c2-40b9-a8c0-9713c734b5ae"
      },
      "outputs": [
        {
          "name": "stdout",
          "output_type": "stream",
          "text": [
            "DataFrame after dropping 'ex_showroom_price':\n"
          ]
        },
        {
          "data": {
            "application/vnd.google.colaboratory.intrinsic+json": {
              "summary": "{\n  \"name\": \"df\",\n  \"rows\": 1061,\n  \"fields\": [\n    {\n      \"column\": \"name\",\n      \"properties\": {\n        \"dtype\": \"category\",\n        \"num_unique_values\": 279,\n        \"samples\": [\n          \"Hero Xtreme Sports\",\n          \"Hero Honda Passion\",\n          \"TVS Streak\"\n        ],\n        \"semantic_type\": \"\",\n        \"description\": \"\"\n      }\n    },\n    {\n      \"column\": \"selling_price\",\n      \"properties\": {\n        \"dtype\": \"number\",\n        \"std\": 56304,\n        \"min\": 5000,\n        \"max\": 760000,\n        \"num_unique_values\": 130,\n        \"samples\": [\n          72000,\n          160000,\n          26000\n        ],\n        \"semantic_type\": \"\",\n        \"description\": \"\"\n      }\n    },\n    {\n      \"column\": \"year\",\n      \"properties\": {\n        \"dtype\": \"number\",\n        \"std\": 4,\n        \"min\": 1988,\n        \"max\": 2020,\n        \"num_unique_values\": 28,\n        \"samples\": [\n          2012,\n          2003,\n          2020\n        ],\n        \"semantic_type\": \"\",\n        \"description\": \"\"\n      }\n    },\n    {\n      \"column\": \"seller_type\",\n      \"properties\": {\n        \"dtype\": \"category\",\n        \"num_unique_values\": 2,\n        \"samples\": [\n          \"Dealer\",\n          \"Individual\"\n        ],\n        \"semantic_type\": \"\",\n        \"description\": \"\"\n      }\n    },\n    {\n      \"column\": \"owner\",\n      \"properties\": {\n        \"dtype\": \"category\",\n        \"num_unique_values\": 4,\n        \"samples\": [\n          \"2nd owner\",\n          \"4th owner\"\n        ],\n        \"semantic_type\": \"\",\n        \"description\": \"\"\n      }\n    },\n    {\n      \"column\": \"km_driven\",\n      \"properties\": {\n        \"dtype\": \"number\",\n        \"std\": 51623,\n        \"min\": 350,\n        \"max\": 880000,\n        \"num_unique_values\": 304,\n        \"samples\": [\n          19500,\n          11500\n        ],\n        \"semantic_type\": \"\",\n        \"description\": \"\"\n      }\n    }\n  ]\n}",
              "type": "dataframe",
              "variable_name": "df"
            },
            "text/html": [
              "\n",
              "  <div id=\"df-4ebacd88-e751-4624-8199-125a653f99c6\" class=\"colab-df-container\">\n",
              "    <div>\n",
              "<style scoped>\n",
              "    .dataframe tbody tr th:only-of-type {\n",
              "        vertical-align: middle;\n",
              "    }\n",
              "\n",
              "    .dataframe tbody tr th {\n",
              "        vertical-align: top;\n",
              "    }\n",
              "\n",
              "    .dataframe thead th {\n",
              "        text-align: right;\n",
              "    }\n",
              "</style>\n",
              "<table border=\"1\" class=\"dataframe\">\n",
              "  <thead>\n",
              "    <tr style=\"text-align: right;\">\n",
              "      <th></th>\n",
              "      <th>name</th>\n",
              "      <th>selling_price</th>\n",
              "      <th>year</th>\n",
              "      <th>seller_type</th>\n",
              "      <th>owner</th>\n",
              "      <th>km_driven</th>\n",
              "    </tr>\n",
              "  </thead>\n",
              "  <tbody>\n",
              "    <tr>\n",
              "      <th>0</th>\n",
              "      <td>Royal Enfield Classic 350</td>\n",
              "      <td>175000</td>\n",
              "      <td>2019</td>\n",
              "      <td>Individual</td>\n",
              "      <td>1st owner</td>\n",
              "      <td>350</td>\n",
              "    </tr>\n",
              "    <tr>\n",
              "      <th>1</th>\n",
              "      <td>Honda Dio</td>\n",
              "      <td>45000</td>\n",
              "      <td>2017</td>\n",
              "      <td>Individual</td>\n",
              "      <td>1st owner</td>\n",
              "      <td>5650</td>\n",
              "    </tr>\n",
              "    <tr>\n",
              "      <th>2</th>\n",
              "      <td>Royal Enfield Classic Gunmetal Grey</td>\n",
              "      <td>150000</td>\n",
              "      <td>2018</td>\n",
              "      <td>Individual</td>\n",
              "      <td>1st owner</td>\n",
              "      <td>12000</td>\n",
              "    </tr>\n",
              "    <tr>\n",
              "      <th>3</th>\n",
              "      <td>Yamaha Fazer FI V 2.0 [2016-2018]</td>\n",
              "      <td>65000</td>\n",
              "      <td>2015</td>\n",
              "      <td>Individual</td>\n",
              "      <td>1st owner</td>\n",
              "      <td>23000</td>\n",
              "    </tr>\n",
              "    <tr>\n",
              "      <th>4</th>\n",
              "      <td>Yamaha SZ [2013-2014]</td>\n",
              "      <td>20000</td>\n",
              "      <td>2011</td>\n",
              "      <td>Individual</td>\n",
              "      <td>2nd owner</td>\n",
              "      <td>21000</td>\n",
              "    </tr>\n",
              "  </tbody>\n",
              "</table>\n",
              "</div>\n",
              "    <div class=\"colab-df-buttons\">\n",
              "\n",
              "  <div class=\"colab-df-container\">\n",
              "    <button class=\"colab-df-convert\" onclick=\"convertToInteractive('df-4ebacd88-e751-4624-8199-125a653f99c6')\"\n",
              "            title=\"Convert this dataframe to an interactive table.\"\n",
              "            style=\"display:none;\">\n",
              "\n",
              "  <svg xmlns=\"http://www.w3.org/2000/svg\" height=\"24px\" viewBox=\"0 -960 960 960\">\n",
              "    <path d=\"M120-120v-720h720v720H120Zm60-500h600v-160H180v160Zm220 220h160v-160H400v160Zm0 220h160v-160H400v160ZM180-400h160v-160H180v160Zm440 0h160v-160H620v160ZM180-180h160v-160H180v160Zm440 0h160v-160H620v160Z\"/>\n",
              "  </svg>\n",
              "    </button>\n",
              "\n",
              "  <style>\n",
              "    .colab-df-container {\n",
              "      display:flex;\n",
              "      gap: 12px;\n",
              "    }\n",
              "\n",
              "    .colab-df-convert {\n",
              "      background-color: #E8F0FE;\n",
              "      border: none;\n",
              "      border-radius: 50%;\n",
              "      cursor: pointer;\n",
              "      display: none;\n",
              "      fill: #1967D2;\n",
              "      height: 32px;\n",
              "      padding: 0 0 0 0;\n",
              "      width: 32px;\n",
              "    }\n",
              "\n",
              "    .colab-df-convert:hover {\n",
              "      background-color: #E2EBFA;\n",
              "      box-shadow: 0px 1px 2px rgba(60, 64, 67, 0.3), 0px 1px 3px 1px rgba(60, 64, 67, 0.15);\n",
              "      fill: #174EA6;\n",
              "    }\n",
              "\n",
              "    .colab-df-buttons div {\n",
              "      margin-bottom: 4px;\n",
              "    }\n",
              "\n",
              "    [theme=dark] .colab-df-convert {\n",
              "      background-color: #3B4455;\n",
              "      fill: #D2E3FC;\n",
              "    }\n",
              "\n",
              "    [theme=dark] .colab-df-convert:hover {\n",
              "      background-color: #434B5C;\n",
              "      box-shadow: 0px 1px 3px 1px rgba(0, 0, 0, 0.15);\n",
              "      filter: drop-shadow(0px 1px 2px rgba(0, 0, 0, 0.3));\n",
              "      fill: #FFFFFF;\n",
              "    }\n",
              "  </style>\n",
              "\n",
              "    <script>\n",
              "      const buttonEl =\n",
              "        document.querySelector('#df-4ebacd88-e751-4624-8199-125a653f99c6 button.colab-df-convert');\n",
              "      buttonEl.style.display =\n",
              "        google.colab.kernel.accessAllowed ? 'block' : 'none';\n",
              "\n",
              "      async function convertToInteractive(key) {\n",
              "        const element = document.querySelector('#df-4ebacd88-e751-4624-8199-125a653f99c6');\n",
              "        const dataTable =\n",
              "          await google.colab.kernel.invokeFunction('convertToInteractive',\n",
              "                                                    [key], {});\n",
              "        if (!dataTable) return;\n",
              "\n",
              "        const docLinkHtml = 'Like what you see? Visit the ' +\n",
              "          '<a target=\"_blank\" href=https://colab.research.google.com/notebooks/data_table.ipynb>data table notebook</a>'\n",
              "          + ' to learn more about interactive tables.';\n",
              "        element.innerHTML = '';\n",
              "        dataTable['output_type'] = 'display_data';\n",
              "        await google.colab.output.renderOutput(dataTable, element);\n",
              "        const docLink = document.createElement('div');\n",
              "        docLink.innerHTML = docLinkHtml;\n",
              "        element.appendChild(docLink);\n",
              "      }\n",
              "    </script>\n",
              "  </div>\n",
              "\n",
              "\n",
              "    <div id=\"df-5a090c67-2df0-4464-950b-4231faf47b1f\">\n",
              "      <button class=\"colab-df-quickchart\" onclick=\"quickchart('df-5a090c67-2df0-4464-950b-4231faf47b1f')\"\n",
              "                title=\"Suggest charts\"\n",
              "                style=\"display:none;\">\n",
              "\n",
              "<svg xmlns=\"http://www.w3.org/2000/svg\" height=\"24px\"viewBox=\"0 0 24 24\"\n",
              "     width=\"24px\">\n",
              "    <g>\n",
              "        <path d=\"M19 3H5c-1.1 0-2 .9-2 2v14c0 1.1.9 2 2 2h14c1.1 0 2-.9 2-2V5c0-1.1-.9-2-2-2zM9 17H7v-7h2v7zm4 0h-2V7h2v10zm4 0h-2v-4h2v4z\"/>\n",
              "    </g>\n",
              "</svg>\n",
              "      </button>\n",
              "\n",
              "<style>\n",
              "  .colab-df-quickchart {\n",
              "      --bg-color: #E8F0FE;\n",
              "      --fill-color: #1967D2;\n",
              "      --hover-bg-color: #E2EBFA;\n",
              "      --hover-fill-color: #174EA6;\n",
              "      --disabled-fill-color: #AAA;\n",
              "      --disabled-bg-color: #DDD;\n",
              "  }\n",
              "\n",
              "  [theme=dark] .colab-df-quickchart {\n",
              "      --bg-color: #3B4455;\n",
              "      --fill-color: #D2E3FC;\n",
              "      --hover-bg-color: #434B5C;\n",
              "      --hover-fill-color: #FFFFFF;\n",
              "      --disabled-bg-color: #3B4455;\n",
              "      --disabled-fill-color: #666;\n",
              "  }\n",
              "\n",
              "  .colab-df-quickchart {\n",
              "    background-color: var(--bg-color);\n",
              "    border: none;\n",
              "    border-radius: 50%;\n",
              "    cursor: pointer;\n",
              "    display: none;\n",
              "    fill: var(--fill-color);\n",
              "    height: 32px;\n",
              "    padding: 0;\n",
              "    width: 32px;\n",
              "  }\n",
              "\n",
              "  .colab-df-quickchart:hover {\n",
              "    background-color: var(--hover-bg-color);\n",
              "    box-shadow: 0 1px 2px rgba(60, 64, 67, 0.3), 0 1px 3px 1px rgba(60, 64, 67, 0.15);\n",
              "    fill: var(--button-hover-fill-color);\n",
              "  }\n",
              "\n",
              "  .colab-df-quickchart-complete:disabled,\n",
              "  .colab-df-quickchart-complete:disabled:hover {\n",
              "    background-color: var(--disabled-bg-color);\n",
              "    fill: var(--disabled-fill-color);\n",
              "    box-shadow: none;\n",
              "  }\n",
              "\n",
              "  .colab-df-spinner {\n",
              "    border: 2px solid var(--fill-color);\n",
              "    border-color: transparent;\n",
              "    border-bottom-color: var(--fill-color);\n",
              "    animation:\n",
              "      spin 1s steps(1) infinite;\n",
              "  }\n",
              "\n",
              "  @keyframes spin {\n",
              "    0% {\n",
              "      border-color: transparent;\n",
              "      border-bottom-color: var(--fill-color);\n",
              "      border-left-color: var(--fill-color);\n",
              "    }\n",
              "    20% {\n",
              "      border-color: transparent;\n",
              "      border-left-color: var(--fill-color);\n",
              "      border-top-color: var(--fill-color);\n",
              "    }\n",
              "    30% {\n",
              "      border-color: transparent;\n",
              "      border-left-color: var(--fill-color);\n",
              "      border-top-color: var(--fill-color);\n",
              "      border-right-color: var(--fill-color);\n",
              "    }\n",
              "    40% {\n",
              "      border-color: transparent;\n",
              "      border-right-color: var(--fill-color);\n",
              "      border-top-color: var(--fill-color);\n",
              "    }\n",
              "    60% {\n",
              "      border-color: transparent;\n",
              "      border-right-color: var(--fill-color);\n",
              "    }\n",
              "    80% {\n",
              "      border-color: transparent;\n",
              "      border-right-color: var(--fill-color);\n",
              "      border-bottom-color: var(--fill-color);\n",
              "    }\n",
              "    90% {\n",
              "      border-color: transparent;\n",
              "      border-bottom-color: var(--fill-color);\n",
              "    }\n",
              "  }\n",
              "</style>\n",
              "\n",
              "      <script>\n",
              "        async function quickchart(key) {\n",
              "          const quickchartButtonEl =\n",
              "            document.querySelector('#' + key + ' button');\n",
              "          quickchartButtonEl.disabled = true;  // To prevent multiple clicks.\n",
              "          quickchartButtonEl.classList.add('colab-df-spinner');\n",
              "          try {\n",
              "            const charts = await google.colab.kernel.invokeFunction(\n",
              "                'suggestCharts', [key], {});\n",
              "          } catch (error) {\n",
              "            console.error('Error during call to suggestCharts:', error);\n",
              "          }\n",
              "          quickchartButtonEl.classList.remove('colab-df-spinner');\n",
              "          quickchartButtonEl.classList.add('colab-df-quickchart-complete');\n",
              "        }\n",
              "        (() => {\n",
              "          let quickchartButtonEl =\n",
              "            document.querySelector('#df-5a090c67-2df0-4464-950b-4231faf47b1f button');\n",
              "          quickchartButtonEl.style.display =\n",
              "            google.colab.kernel.accessAllowed ? 'block' : 'none';\n",
              "        })();\n",
              "      </script>\n",
              "    </div>\n",
              "\n",
              "    </div>\n",
              "  </div>\n"
            ],
            "text/plain": [
              "                                  name  selling_price  year seller_type  \\\n",
              "0            Royal Enfield Classic 350         175000  2019  Individual   \n",
              "1                            Honda Dio          45000  2017  Individual   \n",
              "2  Royal Enfield Classic Gunmetal Grey         150000  2018  Individual   \n",
              "3    Yamaha Fazer FI V 2.0 [2016-2018]          65000  2015  Individual   \n",
              "4                Yamaha SZ [2013-2014]          20000  2011  Individual   \n",
              "\n",
              "       owner  km_driven  \n",
              "0  1st owner        350  \n",
              "1  1st owner       5650  \n",
              "2  1st owner      12000  \n",
              "3  1st owner      23000  \n",
              "4  2nd owner      21000  "
            ]
          },
          "execution_count": 8,
          "metadata": {},
          "output_type": "execute_result"
        }
      ],
      "source": [
        "# Dropping the 'ex_showroom_price' column\n",
        "df.drop(columns=['ex_showroom_price'], inplace=True)\n",
        "\n",
        "# Verify that the column has been dropped\n",
        "print(\"DataFrame after dropping 'ex_showroom_price':\")\n",
        "df.head()"
      ]
    },
    {
      "cell_type": "markdown",
      "metadata": {
        "id": "cMKtDRphXq4k"
      },
      "source": [
        "---\n",
        "### Question 3: Plot the distribution of selling prices using a histogram and describe the overall trend."
      ]
    },
    {
      "cell_type": "markdown",
      "metadata": {
        "id": "qv0T9uKBYHbz"
      },
      "source": [
        "#### Answer:"
      ]
    },
    {
      "cell_type": "code",
      "execution_count": null,
      "metadata": {
        "colab": {
          "base_uri": "https://localhost:8080/",
          "height": 564
        },
        "id": "jAQuwf1qYJBW",
        "outputId": "648da539-7a50-4e89-fcaa-fda1eb60d7e6"
      },
      "outputs": [
        {
          "data": {
            "image/png": "[encoded data removed]",
            "text/plain": [
              "<Figure size 1200x600 with 1 Axes>"
            ]
          },
          "metadata": {},
          "output_type": "display_data"
        }
      ],
      "source": [
        "plt.figure(figsize=(12, 6))\n",
        "sns.histplot(df['selling_price'], kde=True, bins=50)\n",
        "plt.title('Distribution of Selling Prices')\n",
        "plt.xlabel('Selling Price')\n",
        "plt.ylabel('Frequency')\n",
        "plt.show()"
      ]
    },
    {
      "cell_type": "markdown",
      "metadata": {
        "id": "Y_4KEFnqYTIr"
      },
      "source": [
        "**Trend Description:**\n",
        "\n",
        "The histogram shows that the distribution of selling prices is **highly right-skewed**. This means:\n",
        "* A large majority of the bikes in the dataset have a relatively low selling price (concentrated on the left side of the graph, roughly between ₹20,000 and ₹100,000).\n",
        "* There are very few bikes with a high selling price, which form the long \"tail\" extending to the right."
      ]
    },
    {
      "cell_type": "markdown",
      "metadata": {
        "id": "Ttve83jrYWqD"
      },
      "source": [
        "---\n",
        "### Question 4: Create a bar plot to visualize the average selling price for each seller_type and write one observation."
      ]
    },
    {
      "cell_type": "markdown",
      "metadata": {
        "id": "eAbMCzonYYQ6"
      },
      "source": [
        "#### Answer:"
      ]
    },
    {
      "cell_type": "code",
      "execution_count": null,
      "metadata": {
        "colab": {
          "base_uri": "https://localhost:8080/",
          "height": 539
        },
        "id": "MWkwmrjjYKwr",
        "outputId": "68a2fd2b-9968-46d1-db2e-22e0ca4cf09a"
      },
      "outputs": [
        {
          "data": {
            "image/png": "[encoded data removed]",
            "text/plain": [
              "<Figure size 800x500 with 1 Axes>"
            ]
          },
          "metadata": {},
          "output_type": "display_data"
        },
        {
          "name": "stdout",
          "output_type": "stream",
          "text": [
            "  seller_type  selling_price\n",
            "0      Dealer   46666.666667\n",
            "1  Individual   59711.923223\n"
          ]
        }
      ],
      "source": [
        "avg_price_seller = df.groupby('seller_type')['selling_price'].mean().reset_index()\n",
        "\n",
        "plt.figure(figsize=(8, 5))\n",
        "sns.barplot(x='seller_type', y='selling_price', data=avg_price_seller)\n",
        "plt.title('Average Selling Price by Seller Type')\n",
        "plt.xlabel('Seller Type')\n",
        "plt.ylabel('Average Selling Price')\n",
        "plt.show()\n",
        "\n",
        "print(avg_price_seller)"
      ]
    },
    {
      "cell_type": "markdown",
      "metadata": {
        "id": "LlyPNUxpYgQb"
      },
      "source": [
        "**Observation:**\n",
        "\n",
        "The bar plot clearly shows that the average selling price for bikes sold by a **Dealer** is significantly higher than for those sold by an **Individual**."
      ]
    },
    {
      "cell_type": "markdown",
      "metadata": {
        "id": "DD9y54cvYiyi"
      },
      "source": [
        "---\n",
        "### Question 5: Compute the average km_driven for each ownership type (1st owner, 2nd owner, etc.), and present the result as a bar plot."
      ]
    },
    {
      "cell_type": "markdown",
      "metadata": {
        "id": "Ca8IGEjaYk-S"
      },
      "source": [
        "#### Answer:"
      ]
    },
    {
      "cell_type": "code",
      "execution_count": null,
      "metadata": {
        "colab": {
          "base_uri": "https://localhost:8080/",
          "height": 564
        },
        "id": "s6B4nhIRYLB5",
        "outputId": "4e1a1308-d22d-4f64-d10b-34537b6057b2"
      },
      "outputs": [
        {
          "data": {
            "image/png": "[encoded data removed]",
            "text/plain": [
              "<Figure size 1000x600 with 1 Axes>"
            ]
          },
          "metadata": {},
          "output_type": "display_data"
        }
      ],
      "source": [
        "avg_km_owner = df.groupby('owner')['km_driven'].mean().reset_index()\n",
        "\n",
        "plt.figure(figsize=(10, 6))\n",
        "sns.barplot(x='owner', y='km_driven', data=avg_km_owner.sort_values('km_driven', ascending=False))\n",
        "plt.title('Average km_driven by Ownership Type')\n",
        "plt.xlabel('Ownership Type')\n",
        "plt.ylabel('Average km Driven')\n",
        "plt.show()"
      ]
    },
    {
      "cell_type": "markdown",
      "metadata": {
        "id": "X1UyMdt9YtBa"
      },
      "source": [
        "---\n",
        "### Question 6: Use the IQR method to detect and remove outliers from the km_driven column. Show before-and-after summary statistics."
      ]
    },
    {
      "cell_type": "markdown",
      "metadata": {
        "id": "vgN6uqwvYt86"
      },
      "source": [
        "#### Answer:"
      ]
    },
    {
      "cell_type": "code",
      "execution_count": null,
      "metadata": {
        "colab": {
          "base_uri": "https://localhost:8080/"
        },
        "id": "PP1mBFmqYLNS",
        "outputId": "fa38de1f-2f13-47e3-80fe-3a49315839f1"
      },
      "outputs": [
        {
          "name": "stdout",
          "output_type": "stream",
          "text": [
            "Summary statistics for 'km_driven' BEFORE outlier removal:\n",
            "count      1061.000000\n",
            "mean      34359.833176\n",
            "std       51623.152702\n",
            "min         350.000000\n",
            "25%       13500.000000\n",
            "50%       25000.000000\n",
            "75%       43000.000000\n",
            "max      880000.000000\n",
            "Name: km_driven, dtype: float64\n",
            "\n",
            "Shape of DataFrame before outlier removal: (1061, 6)\n",
            "Shape of DataFrame after outlier removal: (1022, 6)\n",
            "\n",
            "Summary statistics for 'km_driven' AFTER outlier removal:\n",
            "count     1022.000000\n",
            "mean     28203.415851\n",
            "std      19552.083583\n",
            "min        350.000000\n",
            "25%      13000.000000\n",
            "50%      24000.000000\n",
            "75%      40000.000000\n",
            "max      86000.000000\n",
            "Name: km_driven, dtype: float64\n"
          ]
        }
      ],
      "source": [
        "print(\"Summary statistics for 'km_driven' BEFORE outlier removal:\")\n",
        "print(df['km_driven'].describe())\n",
        "\n",
        "# Calculate IQR\n",
        "Q1 = df['km_driven'].quantile(0.25)\n",
        "Q3 = df['km_driven'].quantile(0.75)\n",
        "IQR = Q3 - Q1\n",
        "\n",
        "# Define outlier bounds\n",
        "lower_bound = Q1 - 1.5 * IQR\n",
        "upper_bound = Q3 + 1.5 * IQR\n",
        "\n",
        "# Filter out outliers\n",
        "df_no_outliers = df[(df['km_driven'] >= lower_bound) & (df['km_driven'] <= upper_bound)]\n",
        "\n",
        "print(\"\\nShape of DataFrame before outlier removal:\", df.shape)\n",
        "print(\"Shape of DataFrame after outlier removal:\", df_no_outliers.shape)\n",
        "\n",
        "print(\"\\nSummary statistics for 'km_driven' AFTER outlier removal:\")\n",
        "print(df_no_outliers['km_driven'].describe())"
      ]
    },
    {
      "cell_type": "markdown",
      "metadata": {
        "id": "fe77si6rY1Nj"
      },
      "source": [
        "---\n",
        "### Question 7: Create a scatter plot of year vs. selling_price to explore the relationship between a bike's age and its price."
      ]
    },
    {
      "cell_type": "code",
      "execution_count": null,
      "metadata": {
        "colab": {
          "base_uri": "https://localhost:8080/",
          "height": 641
        },
        "id": "LGmRHvDoYLXY",
        "outputId": "30a6610d-c615-41b7-c95f-2d587aef15bc"
      },
      "outputs": [
        {
          "data": {
            "image/png": "[encoded data removed]",
            "text/plain": [
              "<Figure size 1200x700 with 1 Axes>"
            ]
          },
          "metadata": {},
          "output_type": "display_data"
        }
      ],
      "source": [
        "plt.figure(figsize=(12, 7))\n",
        "sns.scatterplot(x='year', y='selling_price', data=df)\n",
        "plt.title('Year vs. Selling Price')\n",
        "plt.xlabel('Manufacturing Year')\n",
        "plt.ylabel('Selling Price')\n",
        "plt.show()"
      ]
    },
    {
      "cell_type": "code",
      "execution_count": null,
      "metadata": {
        "colab": {
          "base_uri": "https://localhost:8080/",
          "height": 224
        },
        "id": "f625CKv8XpRc",
        "outputId": "75172f59-67d4-4c14-a291-851db58e6a9b"
      },
      "outputs": [
        {
          "name": "stdout",
          "output_type": "stream",
          "text": [
            "DataFrame after one-hot encoding 'seller_type' (first 5 rows):\n"
          ]
        },
        {
          "data": {
            "application/vnd.google.colaboratory.intrinsic+json": {
              "summary": "{\n  \"name\": \"display(df_encoded\",\n  \"rows\": 5,\n  \"fields\": [\n    {\n      \"column\": \"name\",\n      \"properties\": {\n        \"dtype\": \"string\",\n        \"num_unique_values\": 5,\n        \"samples\": [\n          \"Honda Dio\",\n          \"Yamaha SZ [2013-2014]\",\n          \"Royal Enfield Classic Gunmetal Grey\"\n        ],\n        \"semantic_type\": \"\",\n        \"description\": \"\"\n      }\n    },\n    {\n      \"column\": \"selling_price\",\n      \"properties\": {\n        \"dtype\": \"number\",\n        \"std\": 67767,\n        \"min\": 20000,\n        \"max\": 175000,\n        \"num_unique_values\": 5,\n        \"samples\": [\n          45000,\n          20000,\n          150000\n        ],\n        \"semantic_type\": \"\",\n        \"description\": \"\"\n      }\n    },\n    {\n      \"column\": \"year\",\n      \"properties\": {\n        \"dtype\": \"number\",\n        \"std\": 3,\n        \"min\": 2011,\n        \"max\": 2019,\n        \"num_unique_values\": 5,\n        \"samples\": [\n          2017,\n          2011,\n          2018\n        ],\n        \"semantic_type\": \"\",\n        \"description\": \"\"\n      }\n    },\n    {\n      \"column\": \"owner\",\n      \"properties\": {\n        \"dtype\": \"category\",\n        \"num_unique_values\": 2,\n        \"samples\": [\n          \"2nd owner\",\n          \"1st owner\"\n        ],\n        \"semantic_type\": \"\",\n        \"description\": \"\"\n      }\n    },\n    {\n      \"column\": \"km_driven\",\n      \"properties\": {\n        \"dtype\": \"number\",\n        \"std\": 9711,\n        \"min\": 350,\n        \"max\": 23000,\n        \"num_unique_values\": 5,\n        \"samples\": [\n          5650,\n          21000\n        ],\n        \"semantic_type\": \"\",\n        \"description\": \"\"\n      }\n    },\n    {\n      \"column\": \"seller_type_Individual\",\n      \"properties\": {\n        \"dtype\": \"boolean\",\n        \"num_unique_values\": 1,\n        \"samples\": [\n          true\n        ],\n        \"semantic_type\": \"\",\n        \"description\": \"\"\n      }\n    }\n  ]\n}",
              "type": "dataframe"
            },
            "text/html": [
              "\n",
              "  <div id=\"df-e20ea96f-de61-4f87-bf63-b3bcab946b24\" class=\"colab-df-container\">\n",
              "    <div>\n",
              "<style scoped>\n",
              "    .dataframe tbody tr th:only-of-type {\n",
              "        vertical-align: middle;\n",
              "    }\n",
              "\n",
              "    .dataframe tbody tr th {\n",
              "        vertical-align: top;\n",
              "    }\n",
              "\n",
              "    .dataframe thead th {\n",
              "        text-align: right;\n",
              "    }\n",
              "</style>\n",
              "<table border=\"1\" class=\"dataframe\">\n",
              "  <thead>\n",
              "    <tr style=\"text-align: right;\">\n",
              "      <th></th>\n",
              "      <th>name</th>\n",
              "      <th>selling_price</th>\n",
              "      <th>year</th>\n",
              "      <th>owner</th>\n",
              "      <th>km_driven</th>\n",
              "      <th>seller_type_Individual</th>\n",
              "    </tr>\n",
              "  </thead>\n",
              "  <tbody>\n",
              "    <tr>\n",
              "      <th>0</th>\n",
              "      <td>Royal Enfield Classic 350</td>\n",
              "      <td>175000</td>\n",
              "      <td>2019</td>\n",
              "      <td>1st owner</td>\n",
              "      <td>350</td>\n",
              "      <td>True</td>\n",
              "    </tr>\n",
              "    <tr>\n",
              "      <th>1</th>\n",
              "      <td>Honda Dio</td>\n",
              "      <td>45000</td>\n",
              "      <td>2017</td>\n",
              "      <td>1st owner</td>\n",
              "      <td>5650</td>\n",
              "      <td>True</td>\n",
              "    </tr>\n",
              "    <tr>\n",
              "      <th>2</th>\n",
              "      <td>Royal Enfield Classic Gunmetal Grey</td>\n",
              "      <td>150000</td>\n",
              "      <td>2018</td>\n",
              "      <td>1st owner</td>\n",
              "      <td>12000</td>\n",
              "      <td>True</td>\n",
              "    </tr>\n",
              "    <tr>\n",
              "      <th>3</th>\n",
              "      <td>Yamaha Fazer FI V 2.0 [2016-2018]</td>\n",
              "      <td>65000</td>\n",
              "      <td>2015</td>\n",
              "      <td>1st owner</td>\n",
              "      <td>23000</td>\n",
              "      <td>True</td>\n",
              "    </tr>\n",
              "    <tr>\n",
              "      <th>4</th>\n",
              "      <td>Yamaha SZ [2013-2014]</td>\n",
              "      <td>20000</td>\n",
              "      <td>2011</td>\n",
              "      <td>2nd owner</td>\n",
              "      <td>21000</td>\n",
              "      <td>True</td>\n",
              "    </tr>\n",
              "  </tbody>\n",
              "</table>\n",
              "</div>\n",
              "    <div class=\"colab-df-buttons\">\n",
              "\n",
              "  <div class=\"colab-df-container\">\n",
              "    <button class=\"colab-df-convert\" onclick=\"convertToInteractive('df-e20ea96f-de61-4f87-bf63-b3bcab946b24')\"\n",
              "            title=\"Convert this dataframe to an interactive table.\"\n",
              "            style=\"display:none;\">\n",
              "\n",
              "  <svg xmlns=\"http://www.w3.org/2000/svg\" height=\"24px\" viewBox=\"0 -960 960 960\">\n",
              "    <path d=\"M120-120v-720h720v720H120Zm60-500h600v-160H180v160Zm220 220h160v-160H400v160Zm0 220h160v-160H400v160ZM180-400h160v-160H180v160Zm440 0h160v-160H620v160ZM180-180h160v-160H180v160Zm440 0h160v-160H620v160Z\"/>\n",
              "  </svg>\n",
              "    </button>\n",
              "\n",
              "  <style>\n",
              "    .colab-df-container {\n",
              "      display:flex;\n",
              "      gap: 12px;\n",
              "    }\n",
              "\n",
              "    .colab-df-convert {\n",
              "      background-color: #E8F0FE;\n",
              "      border: none;\n",
              "      border-radius: 50%;\n",
              "      cursor: pointer;\n",
              "      display: none;\n",
              "      fill: #1967D2;\n",
              "      height: 32px;\n",
              "      padding: 0 0 0 0;\n",
              "      width: 32px;\n",
              "    }\n",
              "\n",
              "    .colab-df-convert:hover {\n",
              "      background-color: #E2EBFA;\n",
              "      box-shadow: 0px 1px 2px rgba(60, 64, 67, 0.3), 0px 1px 3px 1px rgba(60, 64, 67, 0.15);\n",
              "      fill: #174EA6;\n",
              "    }\n",
              "\n",
              "    .colab-df-buttons div {\n",
              "      margin-bottom: 4px;\n",
              "    }\n",
              "\n",
              "    [theme=dark] .colab-df-convert {\n",
              "      background-color: #3B4455;\n",
              "      fill: #D2E3FC;\n",
              "    }\n",
              "\n",
              "    [theme=dark] .colab-df-convert:hover {\n",
              "      background-color: #434B5C;\n",
              "      box-shadow: 0px 1px 3px 1px rgba(0, 0, 0, 0.15);\n",
              "      filter: drop-shadow(0px 1px 2px rgba(0, 0, 0, 0.3));\n",
              "      fill: #FFFFFF;\n",
              "    }\n",
              "  </style>\n",
              "\n",
              "    <script>\n",
              "      const buttonEl =\n",
              "        document.querySelector('#df-e20ea96f-de61-4f87-bf63-b3bcab946b24 button.colab-df-convert');\n",
              "      buttonEl.style.display =\n",
              "        google.colab.kernel.accessAllowed ? 'block' : 'none';\n",
              "\n",
              "      async function convertToInteractive(key) {\n",
              "        const element = document.querySelector('#df-e20ea96f-de61-4f87-bf63-b3bcab946b24');\n",
              "        const dataTable =\n",
              "          await google.colab.kernel.invokeFunction('convertToInteractive',\n",
              "                                                    [key], {});\n",
              "        if (!dataTable) return;\n",
              "\n",
              "        const docLinkHtml = 'Like what you see? Visit the ' +\n",
              "          '<a target=\"_blank\" href=https://colab.research.google.com/notebooks/data_table.ipynb>data table notebook</a>'\n",
              "          + ' to learn more about interactive tables.';\n",
              "        element.innerHTML = '';\n",
              "        dataTable['output_type'] = 'display_data';\n",
              "        await google.colab.output.renderOutput(dataTable, element);\n",
              "        const docLink = document.createElement('div');\n",
              "        docLink.innerHTML = docLinkHtml;\n",
              "        element.appendChild(docLink);\n",
              "      }\n",
              "    </script>\n",
              "  </div>\n",
              "\n",
              "\n",
              "    <div id=\"df-e1ef6708-bde4-48c1-b5bd-b0877bc1488e\">\n",
              "      <button class=\"colab-df-quickchart\" onclick=\"quickchart('df-e1ef6708-bde4-48c1-b5bd-b0877bc1488e')\"\n",
              "                title=\"Suggest charts\"\n",
              "                style=\"display:none;\">\n",
              "\n",
              "<svg xmlns=\"http://www.w3.org/2000/svg\" height=\"24px\"viewBox=\"0 0 24 24\"\n",
              "     width=\"24px\">\n",
              "    <g>\n",
              "        <path d=\"M19 3H5c-1.1 0-2 .9-2 2v14c0 1.1.9 2 2 2h14c1.1 0 2-.9 2-2V5c0-1.1-.9-2-2-2zM9 17H7v-7h2v7zm4 0h-2V7h2v10zm4 0h-2v-4h2v4z\"/>\n",
              "    </g>\n",
              "</svg>\n",
              "      </button>\n",
              "\n",
              "<style>\n",
              "  .colab-df-quickchart {\n",
              "      --bg-color: #E8F0FE;\n",
              "      --fill-color: #1967D2;\n",
              "      --hover-bg-color: #E2EBFA;\n",
              "      --hover-fill-color: #174EA6;\n",
              "      --disabled-fill-color: #AAA;\n",
              "      --disabled-bg-color: #DDD;\n",
              "  }\n",
              "\n",
              "  [theme=dark] .colab-df-quickchart {\n",
              "      --bg-color: #3B4455;\n",
              "      --fill-color: #D2E3FC;\n",
              "      --hover-bg-color: #434B5C;\n",
              "      --hover-fill-color: #FFFFFF;\n",
              "      --disabled-bg-color: #3B4455;\n",
              "      --disabled-fill-color: #666;\n",
              "  }\n",
              "\n",
              "  .colab-df-quickchart {\n",
              "    background-color: var(--bg-color);\n",
              "    border: none;\n",
              "    border-radius: 50%;\n",
              "    cursor: pointer;\n",
              "    display: none;\n",
              "    fill: var(--fill-color);\n",
              "    height: 32px;\n",
              "    padding: 0;\n",
              "    width: 32px;\n",
              "  }\n",
              "\n",
              "  .colab-df-quickchart:hover {\n",
              "    background-color: var(--hover-bg-color);\n",
              "    box-shadow: 0 1px 2px rgba(60, 64, 67, 0.3), 0 1px 3px 1px rgba(60, 64, 67, 0.15);\n",
              "    fill: var(--button-hover-fill-color);\n",
              "  }\n",
              "\n",
              "  .colab-df-quickchart-complete:disabled,\n",
              "  .colab-df-quickchart-complete:disabled:hover {\n",
              "    background-color: var(--disabled-bg-color);\n",
              "    fill: var(--disabled-fill-color);\n",
              "    box-shadow: none;\n",
              "  }\n",
              "\n",
              "  .colab-df-spinner {\n",
              "    border: 2px solid var(--fill-color);\n",
              "    border-color: transparent;\n",
              "    border-bottom-color: var(--fill-color);\n",
              "    animation:\n",
              "      spin 1s steps(1) infinite;\n",
              "  }\n",
              "\n",
              "  @keyframes spin {\n",
              "    0% {\n",
              "      border-color: transparent;\n",
              "      border-bottom-color: var(--fill-color);\n",
              "      border-left-color: var(--fill-color);\n",
              "    }\n",
              "    20% {\n",
              "      border-color: transparent;\n",
              "      border-left-color: var(--fill-color);\n",
              "      border-top-color: var(--fill-color);\n",
              "    }\n",
              "    30% {\n",
              "      border-color: transparent;\n",
              "      border-left-color: var(--fill-color);\n",
              "      border-top-color: var(--fill-color);\n",
              "      border-right-color: var(--fill-color);\n",
              "    }\n",
              "    40% {\n",
              "      border-color: transparent;\n",
              "      border-right-color: var(--fill-color);\n",
              "      border-top-color: var(--fill-color);\n",
              "    }\n",
              "    60% {\n",
              "      border-color: transparent;\n",
              "      border-right-color: var(--fill-color);\n",
              "    }\n",
              "    80% {\n",
              "      border-color: transparent;\n",
              "      border-right-color: var(--fill-color);\n",
              "      border-bottom-color: var(--fill-color);\n",
              "    }\n",
              "    90% {\n",
              "      border-color: transparent;\n",
              "      border-bottom-color: var(--fill-color);\n",
              "    }\n",
              "  }\n",
              "</style>\n",
              "\n",
              "      <script>\n",
              "        async function quickchart(key) {\n",
              "          const quickchartButtonEl =\n",
              "            document.querySelector('#' + key + ' button');\n",
              "          quickchartButtonEl.disabled = true;  // To prevent multiple clicks.\n",
              "          quickchartButtonEl.classList.add('colab-df-spinner');\n",
              "          try {\n",
              "            const charts = await google.colab.kernel.invokeFunction(\n",
              "                'suggestCharts', [key], {});\n",
              "          } catch (error) {\n",
              "            console.error('Error during call to suggestCharts:', error);\n",
              "          }\n",
              "          quickchartButtonEl.classList.remove('colab-df-spinner');\n",
              "          quickchartButtonEl.classList.add('colab-df-quickchart-complete');\n",
              "        }\n",
              "        (() => {\n",
              "          let quickchartButtonEl =\n",
              "            document.querySelector('#df-e1ef6708-bde4-48c1-b5bd-b0877bc1488e button');\n",
              "          quickchartButtonEl.style.display =\n",
              "            google.colab.kernel.accessAllowed ? 'block' : 'none';\n",
              "        })();\n",
              "      </script>\n",
              "    </div>\n",
              "\n",
              "    </div>\n",
              "  </div>\n"
            ],
            "text/plain": [
              "                                  name  selling_price  year      owner  \\\n",
              "0            Royal Enfield Classic 350         175000  2019  1st owner   \n",
              "1                            Honda Dio          45000  2017  1st owner   \n",
              "2  Royal Enfield Classic Gunmetal Grey         150000  2018  1st owner   \n",
              "3    Yamaha Fazer FI V 2.0 [2016-2018]          65000  2015  1st owner   \n",
              "4                Yamaha SZ [2013-2014]          20000  2011  2nd owner   \n",
              "\n",
              "   km_driven  seller_type_Individual  \n",
              "0        350                    True  \n",
              "1       5650                    True  \n",
              "2      12000                    True  \n",
              "3      23000                    True  \n",
              "4      21000                    True  "
            ]
          },
          "metadata": {},
          "output_type": "display_data"
        }
      ],
      "source": [
        "# Using the original dataframe for this question\n",
        "df_encoded = pd.get_dummies(df, columns=['seller_type'], drop_first=True)\n",
        "\n",
        "print(\"DataFrame after one-hot encoding 'seller_type' (first 5 rows):\")\n",
        "display(df_encoded.head())"
      ]
    },
    {
      "cell_type": "markdown",
      "metadata": {
        "id": "vR20ZmX-ZYAP"
      },
      "source": [
        "---\n",
        "### Question 9: Generate a heatmap of the correlation matrix for all numeric columns. What correlations stand out the most?"
      ]
    },
    {
      "cell_type": "markdown",
      "metadata": {
        "id": "-frZL-ShZYww"
      },
      "source": [
        "#### Answer:"
      ]
    },
    {
      "cell_type": "code",
      "execution_count": null,
      "metadata": {
        "colab": {
          "base_uri": "https://localhost:8080/",
          "height": 699
        },
        "id": "4LRVXeMGW8nX",
        "outputId": "6c7620b7-e32d-4a64-d46c-1036f20cf4cf"
      },
      "outputs": [
        {
          "data": {
            "image/png": "[encoded data removed]",
            "text/plain": [
              "<Figure size 1000x800 with 2 Axes>"
            ]
          },
          "metadata": {},
          "output_type": "display_data"
        }
      ],
      "source": [
        "# We will use the numerically encoded dataframe from the previous question\n",
        "# We drop non-numeric columns 'name' and 'owner' for the correlation matrix\n",
        "df_for_corr = df_encoded.drop(columns=['name', 'owner'])\n",
        "\n",
        "correlation_matrix = df_for_corr.corr()\n",
        "\n",
        "plt.figure(figsize=(10, 8))\n",
        "sns.heatmap(correlation_matrix, annot=True, cmap='coolwarm', fmt='.2f')\n",
        "plt.title('Correlation Matrix of Numeric & Encoded Columns')\n",
        "plt.show()"
      ]
    },
    {
      "cell_type": "markdown",
      "metadata": {
        "id": "8OLhinnNZeiQ"
      },
      "source": [
        "**Correlations that Stand Out:**\n",
        "\n",
        "* **Strongest Positive Correlation:** There is a strong positive correlation of **+0.58** between **`year`** and **`selling_price`**. This makes sense, as newer bikes (higher year) are generally more expensive.\n",
        "* **Strongest Negative Correlation:** There is a moderate negative correlation of **-0.40** between **`km_driven`** and **`selling_price`**. This is also logical, as bikes that have been driven more tend to have a lower resale value."
      ]
    },
    {
      "cell_type": "markdown",
      "metadata": {
        "id": "WhCpiHc4ZiBH"
      },
      "source": [
        "---\n",
        "### Question 10: Summarize your findings in a brief report:\n",
        "*What are the most important factors affecting a bike's selling price? Mention any data cleaning or feature engineering you performed.*"
      ]
    },
    {
      "cell_type": "markdown",
      "metadata": {
        "id": "gUdYjIBuZh7g"
      },
      "source": [
        "#### Answer:"
      ]
    },
    {
      "cell_type": "markdown",
      "metadata": {
        "id": "x1WZFxCvZnrf"
      },
      "source": [
        "### Summary Report: Factors Affecting Bike Selling Price\n",
        "\n",
        "Based on the exploratory data analysis, the most important factors affecting a used bike's selling price are its **age** and its **usage**.\n",
        "\n",
        "**Key Factors:**\n",
        "1.  **Manufacturing Year (Age):** The analysis revealed a strong positive correlation (+0.58) between the manufacturing year and the selling price. The scatter plot confirmed this trend, showing that **newer bikes command significantly higher prices**. This is the single most influential factor identified.\n",
        "2.  **Kilometers Driven (Usage):** The number of kilometers a bike has been driven shows a moderate negative correlation (-0.40) with its selling price. This indicates that bikes with **lower mileage are more valuable**.\n",
        "3.  **Seller Type:** Bikes sold by **Dealers** have a notably higher average selling price compared to those sold by **Individuals**. This may be due to factors like reconditioning, warranties, or dealer markup.\n",
        "\n",
        "**Data Cleaning and Feature Engineering:**\n",
        "* **Data Cleaning:** The dataset initially contained a column, `ex_showroom_price`, with over 40% missing values. This column was **dropped** to ensure the integrity of the analysis. Additionally, outliers were identified in the `km_driven` column using the IQR method and **removed** to prevent extreme values from skewing statistical summaries and visualizations.\n",
        "* **Feature Engineering:** The categorical `seller_type` column was converted into a numerical format using **one-hot encoding**. This process created a new binary column (`seller_type_Individual`) that allows this feature to be used in numerical analyses like the correlation matrix."
      ]
    }
  ],
  "metadata": {
    "colab": {
      "provenance": []
    },
    "kernelspec": {
      "display_name": "Python 3",
      "name": "python3"
    },
    "language_info": {
      "name": "python"
    }
  },
  "nbformat": 4,
  "nbformat_minor": 0
}
